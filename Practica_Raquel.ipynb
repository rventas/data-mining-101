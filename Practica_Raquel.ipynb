{
 "cells": [
  {
   "cell_type": "markdown",
   "metadata": {},
   "source": [
    "A continuación se muestra una matriz de expresión genética:\n",
    "\n",
    "En una matriz de expresión génica, cada columna contiene los niveles de transcripción medidos por un microarray. El rocedimiento usual es realizar varios experimentos de microarray, para distintas condiciones, y después juntarlos por columnas en la matriz. En el fondo, ésta es una matriz numérica A con n filas (genes) y m columnas (condiciones) donde el elemento aij es el nivel de transcripción del gen i bajo la condición j.  \n",
    "En nuestro caso estamos ante una **matriz de expresión genética traspuesta**. Las columnas son mediciones de los genes y cada fila es una observación."
   ]
  },
  {
   "cell_type": "code",
   "execution_count": 1,
   "metadata": {},
   "outputs": [
    {
     "data": {
      "text/html": [
       "<table>\n",
       "<thead><tr><th scope=col>X</th><th scope=col>X212284_x_at</th><th scope=col>X212869_x_at</th><th scope=col>X213614_x_at</th><th scope=col>X212391_x_at</th><th scope=col>X201257_x_at</th><th scope=col>AFFX.hum_alu_at</th><th scope=col>X206559_x_at</th><th scope=col>X214003_x_at</th><th scope=col>X208755_x_at</th><th scope=col>⋯</th><th scope=col>X214981_at</th><th scope=col>X216660_at</th><th scope=col>X217101_at</th><th scope=col>X218922_s_at</th><th scope=col>X203953_s_at</th><th scope=col>X221755_at</th><th scope=col>X208278_s_at</th><th scope=col>X207162_s_at</th><th scope=col>X206824_at</th><th scope=col>X218840_s_at</th></tr></thead>\n",
       "<tbody>\n",
       "\t<tr><td>Normal.BC0043N</td><td> 9167.03      </td><td> 7380.27      </td><td>8341.82       </td><td> 7944.99      </td><td> 8367.28      </td><td>7884.22       </td><td>6209.89       </td><td>6009.60       </td><td>9017.07       </td><td>⋯             </td><td>13.9187       </td><td>30.9902       </td><td>26.8305       </td><td>30.6226       </td><td>13.6677       </td><td>23.7455       </td><td>29.1401       </td><td>23.8904       </td><td>64.3171       </td><td>25.5825       </td></tr>\n",
       "\t<tr><td>Cancer.BC0043T</td><td>10635.90      </td><td>11010.80      </td><td>9859.02       </td><td>10493.60      </td><td>10805.70      </td><td>8507.10       </td><td>9060.41       </td><td>9426.21       </td><td>8674.11       </td><td>⋯             </td><td>17.2673       </td><td>56.3875       </td><td>16.9442       </td><td>14.5954       </td><td>15.2555       </td><td>19.2764       </td><td>16.4308       </td><td>26.5672       </td><td>53.7115       </td><td>28.7201       </td></tr>\n",
       "\t<tr><td>Normal.BC0051N</td><td> 8015.29      </td><td> 6112.62      </td><td>8287.92       </td><td> 7360.60      </td><td> 7060.93      </td><td>8003.40       </td><td>7140.51       </td><td>6029.11       </td><td>7026.17       </td><td>⋯             </td><td>26.6429       </td><td>29.1446       </td><td>23.8505       </td><td>32.2064       </td><td>15.9346       </td><td>27.4183       </td><td>21.6383       </td><td>21.3962       </td><td>27.9609       </td><td>45.1721       </td></tr>\n",
       "\t<tr><td>Cancer.BC0051T</td><td> 9081.20      </td><td> 8925.35      </td><td>8276.54       </td><td> 9021.02      </td><td> 8622.68      </td><td>8925.17       </td><td>7862.39       </td><td>6847.31       </td><td>9651.01       </td><td>⋯             </td><td>37.5716       </td><td>30.0083       </td><td>20.7826       </td><td>22.1020       </td><td>27.5567       </td><td>26.4899       </td><td>26.3171       </td><td>16.6457       </td><td>41.5037       </td><td>25.8667       </td></tr>\n",
       "\t<tr><td>Normal.BC0057N</td><td> 9006.52      </td><td> 8338.44      </td><td>7069.53       </td><td> 7909.77      </td><td> 7348.80      </td><td>7966.06       </td><td>7120.25       </td><td>7903.76       </td><td>7387.18       </td><td>⋯             </td><td>36.4167       </td><td>29.9436       </td><td>45.3716       </td><td>31.1614       </td><td>31.3397       </td><td>32.0059       </td><td>29.1746       </td><td>21.2647       </td><td>34.7236       </td><td>35.4706       </td></tr>\n",
       "\t<tr><td>Cancer.BC0057T</td><td> 8307.87      </td><td> 7295.69      </td><td>7048.75       </td><td> 7111.87      </td><td> 6372.62      </td><td>8056.31       </td><td>6406.97       </td><td>6256.54       </td><td>7098.11       </td><td>⋯             </td><td>21.3444       </td><td>54.1291       </td><td>37.4840       </td><td>22.2405       </td><td>50.9866       </td><td>26.8458       </td><td>33.2448       </td><td>18.3316       </td><td>24.6310       </td><td>24.8679       </td></tr>\n",
       "</tbody>\n",
       "</table>\n"
      ],
      "text/latex": [
       "\\begin{tabular}{r|llllllllllllllllllllllllllllllllllllllllllllllllllllllllllllllllllllllllllllllllllllllllllllllllllllllllllllllllllllllllllllllllllllllllllllllllllllllllllllllllllllllllllllllllllllllllllllllllllllllllllllllllllllllllllllllllllllllllllllllllllllllllllllllllllllllllllllllllllllllllllllllllllllllllllllllllllllllllllllllllllllllllllllllllllllllllllllllllllllllllllllllllllllllllllllllllllllllllllllllllllllllllllllllllllllllllllllllllllllllllllllllllllllllllllllllllllllllllllllllllll}\n",
       " X & X212284\\_x\\_at & X212869\\_x\\_at & X213614\\_x\\_at & X212391\\_x\\_at & X201257\\_x\\_at & AFFX.hum\\_alu\\_at & X206559\\_x\\_at & X214003\\_x\\_at & X208755\\_x\\_at & ⋯ & X214981\\_at & X216660\\_at & X217101\\_at & X218922\\_s\\_at & X203953\\_s\\_at & X221755\\_at & X208278\\_s\\_at & X207162\\_s\\_at & X206824\\_at & X218840\\_s\\_at\\\\\n",
       "\\hline\n",
       "\t Normal.BC0043N &  9167.03       &  7380.27       & 8341.82        &  7944.99       &  8367.28       & 7884.22        & 6209.89        & 6009.60        & 9017.07        & ⋯              & 13.9187        & 30.9902        & 26.8305        & 30.6226        & 13.6677        & 23.7455        & 29.1401        & 23.8904        & 64.3171        & 25.5825       \\\\\n",
       "\t Cancer.BC0043T & 10635.90       & 11010.80       & 9859.02        & 10493.60       & 10805.70       & 8507.10        & 9060.41        & 9426.21        & 8674.11        & ⋯              & 17.2673        & 56.3875        & 16.9442        & 14.5954        & 15.2555        & 19.2764        & 16.4308        & 26.5672        & 53.7115        & 28.7201       \\\\\n",
       "\t Normal.BC0051N &  8015.29       &  6112.62       & 8287.92        &  7360.60       &  7060.93       & 8003.40        & 7140.51        & 6029.11        & 7026.17        & ⋯              & 26.6429        & 29.1446        & 23.8505        & 32.2064        & 15.9346        & 27.4183        & 21.6383        & 21.3962        & 27.9609        & 45.1721       \\\\\n",
       "\t Cancer.BC0051T &  9081.20       &  8925.35       & 8276.54        &  9021.02       &  8622.68       & 8925.17        & 7862.39        & 6847.31        & 9651.01        & ⋯              & 37.5716        & 30.0083        & 20.7826        & 22.1020        & 27.5567        & 26.4899        & 26.3171        & 16.6457        & 41.5037        & 25.8667       \\\\\n",
       "\t Normal.BC0057N &  9006.52       &  8338.44       & 7069.53        &  7909.77       &  7348.80       & 7966.06        & 7120.25        & 7903.76        & 7387.18        & ⋯              & 36.4167        & 29.9436        & 45.3716        & 31.1614        & 31.3397        & 32.0059        & 29.1746        & 21.2647        & 34.7236        & 35.4706       \\\\\n",
       "\t Cancer.BC0057T &  8307.87       &  7295.69       & 7048.75        &  7111.87       &  6372.62       & 8056.31        & 6406.97        & 6256.54        & 7098.11        & ⋯              & 21.3444        & 54.1291        & 37.4840        & 22.2405        & 50.9866        & 26.8458        & 33.2448        & 18.3316        & 24.6310        & 24.8679       \\\\\n",
       "\\end{tabular}\n"
      ],
      "text/markdown": [
       "\n",
       "X | X212284_x_at | X212869_x_at | X213614_x_at | X212391_x_at | X201257_x_at | AFFX.hum_alu_at | X206559_x_at | X214003_x_at | X208755_x_at | ⋯ | X214981_at | X216660_at | X217101_at | X218922_s_at | X203953_s_at | X221755_at | X208278_s_at | X207162_s_at | X206824_at | X218840_s_at | \n",
       "|---|---|---|---|---|---|\n",
       "| Normal.BC0043N |  9167.03       |  7380.27       | 8341.82        |  7944.99       |  8367.28       | 7884.22        | 6209.89        | 6009.60        | 9017.07        | ⋯              | 13.9187        | 30.9902        | 26.8305        | 30.6226        | 13.6677        | 23.7455        | 29.1401        | 23.8904        | 64.3171        | 25.5825        | \n",
       "| Cancer.BC0043T | 10635.90       | 11010.80       | 9859.02        | 10493.60       | 10805.70       | 8507.10        | 9060.41        | 9426.21        | 8674.11        | ⋯              | 17.2673        | 56.3875        | 16.9442        | 14.5954        | 15.2555        | 19.2764        | 16.4308        | 26.5672        | 53.7115        | 28.7201        | \n",
       "| Normal.BC0051N |  8015.29       |  6112.62       | 8287.92        |  7360.60       |  7060.93       | 8003.40        | 7140.51        | 6029.11        | 7026.17        | ⋯              | 26.6429        | 29.1446        | 23.8505        | 32.2064        | 15.9346        | 27.4183        | 21.6383        | 21.3962        | 27.9609        | 45.1721        | \n",
       "| Cancer.BC0051T |  9081.20       |  8925.35       | 8276.54        |  9021.02       |  8622.68       | 8925.17        | 7862.39        | 6847.31        | 9651.01        | ⋯              | 37.5716        | 30.0083        | 20.7826        | 22.1020        | 27.5567        | 26.4899        | 26.3171        | 16.6457        | 41.5037        | 25.8667        | \n",
       "| Normal.BC0057N |  9006.52       |  8338.44       | 7069.53        |  7909.77       |  7348.80       | 7966.06        | 7120.25        | 7903.76        | 7387.18        | ⋯              | 36.4167        | 29.9436        | 45.3716        | 31.1614        | 31.3397        | 32.0059        | 29.1746        | 21.2647        | 34.7236        | 35.4706        | \n",
       "| Cancer.BC0057T |  8307.87       |  7295.69       | 7048.75        |  7111.87       |  6372.62       | 8056.31        | 6406.97        | 6256.54        | 7098.11        | ⋯              | 21.3444        | 54.1291        | 37.4840        | 22.2405        | 50.9866        | 26.8458        | 33.2448        | 18.3316        | 24.6310        | 24.8679        | \n",
       "\n",
       "\n"
      ],
      "text/plain": [
       "  X              X212284_x_at X212869_x_at X213614_x_at X212391_x_at\n",
       "1 Normal.BC0043N  9167.03      7380.27     8341.82       7944.99    \n",
       "2 Cancer.BC0043T 10635.90     11010.80     9859.02      10493.60    \n",
       "3 Normal.BC0051N  8015.29      6112.62     8287.92       7360.60    \n",
       "4 Cancer.BC0051T  9081.20      8925.35     8276.54       9021.02    \n",
       "5 Normal.BC0057N  9006.52      8338.44     7069.53       7909.77    \n",
       "6 Cancer.BC0057T  8307.87      7295.69     7048.75       7111.87    \n",
       "  X201257_x_at AFFX.hum_alu_at X206559_x_at X214003_x_at X208755_x_at ⋯\n",
       "1  8367.28     7884.22         6209.89      6009.60      9017.07      ⋯\n",
       "2 10805.70     8507.10         9060.41      9426.21      8674.11      ⋯\n",
       "3  7060.93     8003.40         7140.51      6029.11      7026.17      ⋯\n",
       "4  8622.68     8925.17         7862.39      6847.31      9651.01      ⋯\n",
       "5  7348.80     7966.06         7120.25      7903.76      7387.18      ⋯\n",
       "6  6372.62     8056.31         6406.97      6256.54      7098.11      ⋯\n",
       "  X214981_at X216660_at X217101_at X218922_s_at X203953_s_at X221755_at\n",
       "1 13.9187    30.9902    26.8305    30.6226      13.6677      23.7455   \n",
       "2 17.2673    56.3875    16.9442    14.5954      15.2555      19.2764   \n",
       "3 26.6429    29.1446    23.8505    32.2064      15.9346      27.4183   \n",
       "4 37.5716    30.0083    20.7826    22.1020      27.5567      26.4899   \n",
       "5 36.4167    29.9436    45.3716    31.1614      31.3397      32.0059   \n",
       "6 21.3444    54.1291    37.4840    22.2405      50.9866      26.8458   \n",
       "  X208278_s_at X207162_s_at X206824_at X218840_s_at\n",
       "1 29.1401      23.8904      64.3171    25.5825     \n",
       "2 16.4308      26.5672      53.7115    28.7201     \n",
       "3 21.6383      21.3962      27.9609    45.1721     \n",
       "4 26.3171      16.6457      41.5037    25.8667     \n",
       "5 29.1746      21.2647      34.7236    35.4706     \n",
       "6 33.2448      18.3316      24.6310    24.8679     "
      ]
     },
     "metadata": {},
     "output_type": "display_data"
    }
   ],
   "source": [
    "set.seed(2018)\n",
    "genexp<-read.csv(\"practica/GEMatrixFiltered.csv\")\n",
    "head(genexp)"
   ]
  },
  {
   "cell_type": "code",
   "execution_count": 2,
   "metadata": {},
   "outputs": [
    {
     "data": {
      "text/html": [
       "482"
      ],
      "text/latex": [
       "482"
      ],
      "text/markdown": [
       "482"
      ],
      "text/plain": [
       "[1] 482"
      ]
     },
     "metadata": {},
     "output_type": "display_data"
    },
    {
     "data": {
      "text/html": [
       "86"
      ],
      "text/latex": [
       "86"
      ],
      "text/markdown": [
       "86"
      ],
      "text/plain": [
       "[1] 86"
      ]
     },
     "metadata": {},
     "output_type": "display_data"
    }
   ],
   "source": [
    "ncol(genexp)\n",
    "nrow(genexp)"
   ]
  },
  {
   "cell_type": "markdown",
   "metadata": {},
   "source": [
    "### Limpieza de datos:\n",
    "\n",
    "* Normalizar\n",
    "* ¿Existen outliers? Tratamiento de Outliers"
   ]
  },
  {
   "cell_type": "code",
   "execution_count": 3,
   "metadata": {},
   "outputs": [
    {
     "data": {
      "text/plain": [
       "              X       X212284_x_at    X212869_x_at    X213614_x_at  \n",
       " Cancer.BC0043T: 1   Min.   : 4812   Min.   : 5277   Min.   : 4157  \n",
       " Cancer.BC0051T: 1   1st Qu.: 8499   1st Qu.: 7946   1st Qu.: 7289  \n",
       " Cancer.BC0057T: 1   Median :10814   Median :10599   Median :10172  \n",
       " Cancer.BC0087T: 1   Mean   :11220   Mean   :10874   Mean   :10429  \n",
       " Cancer.BC0109T: 1   3rd Qu.:14140   3rd Qu.:13712   3rd Qu.:13464  \n",
       " Cancer.BC0112T: 1   Max.   :19036   Max.   :18227   Max.   :17876  \n",
       " (Other)       :80                                                  \n",
       "  X212391_x_at    X201257_x_at   AFFX.hum_alu_at  X206559_x_at  \n",
       " Min.   : 4678   Min.   : 4464   Min.   : 3793   Min.   : 3164  \n",
       " 1st Qu.: 7776   1st Qu.: 7364   1st Qu.: 7206   1st Qu.: 6936  \n",
       " Median : 9624   Median : 9280   Median : 9503   Median : 9189  \n",
       " Mean   :10220   Mean   : 9891   Mean   : 9531   Mean   : 9508  \n",
       " 3rd Qu.:13033   3rd Qu.:12829   3rd Qu.:11796   3rd Qu.:12279  \n",
       " Max.   :18229   Max.   :17711   Max.   :15059   Max.   :16091  \n",
       "                                                                \n",
       "  X214003_x_at    X208755_x_at    X200062_s_at    X201429_s_at  \n",
       " Min.   : 4231   Min.   : 4465   Min.   : 4677   Min.   : 2803  \n",
       " 1st Qu.: 6916   1st Qu.: 7736   1st Qu.: 6832   1st Qu.: 7001  \n",
       " Median : 9328   Median : 9161   Median : 9029   Median : 8897  \n",
       " Mean   : 9580   Mean   : 9493   Mean   : 9186   Mean   : 9165  \n",
       " 3rd Qu.:11987   3rd Qu.:11330   3rd Qu.:11753   3rd Qu.:10577  \n",
       " Max.   :16521   Max.   :17122   Max.   :14826   Max.   :18651  \n",
       "                                                                \n",
       "  X213828_x_at    X200717_x_at    X201891_s_at    X213477_x_at  \n",
       " Min.   : 4200   Min.   : 3519   Min.   : 3714   Min.   : 2982  \n",
       " 1st Qu.: 6897   1st Qu.: 6272   1st Qu.: 6268   1st Qu.: 6403  \n",
       " Median : 8190   Median : 8354   Median : 8401   Median : 8147  \n",
       " Mean   : 8710   Mean   : 8608   Mean   : 8591   Mean   : 8568  \n",
       " 3rd Qu.:10561   3rd Qu.:10573   3rd Qu.:10834   3rd Qu.:10894  \n",
       " Max.   :17190   Max.   :16228   Max.   :14613   Max.   :14274  \n",
       "                                                                \n",
       "  X213080_x_at     X200633_at      X200926_at     X200933_x_at  \n",
       " Min.   : 4330   Min.   : 3799   Min.   : 2715   Min.   : 3316  \n",
       " 1st Qu.: 6539   1st Qu.: 6078   1st Qu.: 5831   1st Qu.: 6176  \n",
       " Median : 8414   Median : 8798   Median : 8047   Median : 8314  \n",
       " Mean   : 8499   Mean   : 8813   Mean   : 8150   Mean   : 8195  \n",
       " 3rd Qu.:10330   3rd Qu.:11408   3rd Qu.:10388   3rd Qu.:10310  \n",
       " Max.   :14596   Max.   :14750   Max.   :16264   Max.   :14117  \n",
       "                                                                \n",
       "  X213583_x_at    X204892_x_at    X201492_s_at    X200095_x_at  \n",
       " Min.   : 3022   Min.   : 2769   Min.   : 2886   Min.   : 3298  \n",
       " 1st Qu.: 5799   1st Qu.: 5700   1st Qu.: 5720   1st Qu.: 5680  \n",
       " Median : 7860   Median : 7594   Median : 7167   Median : 6984  \n",
       " Mean   : 8180   Mean   : 7960   Mean   : 7498   Mean   : 7326  \n",
       " 3rd Qu.:10604   3rd Qu.:10217   3rd Qu.: 9511   3rd Qu.: 9102  \n",
       " Max.   :14099   Max.   :14913   Max.   :12570   Max.   :12872  \n",
       "                                                                \n",
       "  X208695_s_at    X207783_x_at     X71933_at      X200016_x_at  \n",
       " Min.   : 3756   Min.   : 3969   Min.   : 2872   Min.   : 2280  \n",
       " 1st Qu.: 5356   1st Qu.: 5692   1st Qu.: 6584   1st Qu.: 5357  \n",
       " Median : 7052   Median : 7576   Median : 7373   Median : 7104  \n",
       " Mean   : 7321   Mean   : 8086   Mean   : 7803   Mean   : 6951  \n",
       " 3rd Qu.: 9245   3rd Qu.: 9971   3rd Qu.: 8984   3rd Qu.: 8613  \n",
       " Max.   :12686   Max.   :15220   Max.   :17521   Max.   :12266  \n",
       "                                                                \n",
       "  X200741_s_at     X396_f_at      X213084_x_at    X200963_x_at  \n",
       " Min.   : 2988   Min.   : 3714   Min.   : 2425   Min.   : 2529  \n",
       " 1st Qu.: 5663   1st Qu.: 5617   1st Qu.: 5100   1st Qu.: 5422  \n",
       " Median : 7081   Median : 7299   Median : 7245   Median : 6978  \n",
       " Mean   : 7278   Mean   : 7560   Mean   : 7195   Mean   : 7053  \n",
       " 3rd Qu.: 8625   3rd Qu.: 9038   3rd Qu.: 8959   3rd Qu.: 8853  \n",
       " Max.   :14184   Max.   :15598   Max.   :12765   Max.   :13424  \n",
       "                                                                \n",
       "  X200099_s_at    X213356_x_at    X211542_x_at    X213347_x_at  \n",
       " Min.   : 2569   Min.   :  300   Min.   : 1487   Min.   : 2560  \n",
       " 1st Qu.: 4810   1st Qu.: 5247   1st Qu.: 4179   1st Qu.: 5145  \n",
       " Median : 6617   Median : 6686   Median : 6380   Median : 6420  \n",
       " Mean   : 6701   Mean   : 6717   Mean   : 6645   Mean   : 6712  \n",
       " 3rd Qu.: 8715   3rd Qu.: 8403   3rd Qu.: 8900   3rd Qu.: 8606  \n",
       " Max.   :12366   Max.   :12796   Max.   :13354   Max.   :12822  \n",
       "                                                                \n",
       "  X201217_x_at    X200032_s_at    X211978_x_at    X201254_x_at  \n",
       " Min.   : 1322   Min.   : 2289   Min.   : 1546   Min.   : 2272  \n",
       " 1st Qu.: 4315   1st Qu.: 5154   1st Qu.: 3765   1st Qu.: 4842  \n",
       " Median : 6342   Median : 6438   Median : 5704   Median : 5894  \n",
       " Mean   : 6421   Mean   : 6791   Mean   : 6131   Mean   : 6607  \n",
       " 3rd Qu.: 8501   3rd Qu.: 8560   3rd Qu.: 8201   3rd Qu.: 8598  \n",
       " Max.   :12489   Max.   :13003   Max.   :12566   Max.   :12736  \n",
       "                                                                \n",
       "  X200817_x_at    X33323_r_at     X211378_x_at    X217740_x_at  \n",
       " Min.   : 1688   Min.   : 2860   Min.   : 1889   Min.   : 2954  \n",
       " 1st Qu.: 4054   1st Qu.: 4790   1st Qu.: 3561   1st Qu.: 4522  \n",
       " Median : 5993   Median : 5815   Median : 5569   Median : 6090  \n",
       " Mean   : 6321   Mean   : 6096   Mean   : 5913   Mean   : 6346  \n",
       " 3rd Qu.: 8742   3rd Qu.: 7138   3rd Qu.: 8221   3rd Qu.: 7863  \n",
       " Max.   :12682   Max.   :12406   Max.   :12044   Max.   :11238  \n",
       "                                                                \n",
       "  X201293_x_at    X211073_x_at    X221607_x_at    X212661_x_at  \n",
       " Min.   : 1891   Min.   : 1595   Min.   : 2254   Min.   : 2277  \n",
       " 1st Qu.: 3486   1st Qu.: 3741   1st Qu.: 4217   1st Qu.: 3798  \n",
       " Median : 5484   Median : 5150   Median : 5370   Median : 5326  \n",
       " Mean   : 5803   Mean   : 5718   Mean   : 5860   Mean   : 5795  \n",
       " 3rd Qu.: 7778   3rd Qu.: 7246   3rd Qu.: 7323   3rd Qu.: 7660  \n",
       " Max.   :11874   Max.   :12146   Max.   :11509   Max.   :11306  \n",
       "                                                                \n",
       "  X208825_x_at    X215076_s_at      X213214_x_at    X214328_s_at  \n",
       " Min.   : 2066   Min.   :  724.6   Min.   :  580   Min.   : 1993  \n",
       " 1st Qu.: 4302   1st Qu.: 3198.1   1st Qu.: 3804   1st Qu.: 4272  \n",
       " Median : 5818   Median : 5168.2   Median : 5385   Median : 5547  \n",
       " Mean   : 6032   Mean   : 5598.6   Mean   : 5612   Mean   : 5664  \n",
       " 3rd Qu.: 8007   3rd Qu.: 7209.5   3rd Qu.: 7373   3rd Qu.: 7065  \n",
       " Max.   :10919   Max.   :16736.0   Max.   :10345   Max.   :10704  \n",
       "                                                                  \n",
       "  X212039_x_at    X201033_x_at    X211970_x_at    X207243_s_at  \n",
       " Min.   : 2300   Min.   : 2326   Min.   : 1898   Min.   : 1635  \n",
       " 1st Qu.: 4325   1st Qu.: 3938   1st Qu.: 3469   1st Qu.: 3892  \n",
       " Median : 5492   Median : 5782   Median : 5400   Median : 5217  \n",
       " Mean   : 5664   Mean   : 5869   Mean   : 5631   Mean   : 5660  \n",
       " 3rd Qu.: 7105   3rd Qu.: 7422   3rd Qu.: 7330   3rd Qu.: 7215  \n",
       " Max.   :10788   Max.   :10610   Max.   :11932   Max.   :10911  \n",
       "                                                                \n",
       "  X201550_x_at     X202088_at       X211983_x_at    X200834_s_at  \n",
       " Min.   : 1814   Min.   :  748.4   Min.   : 1211   Min.   : 2030  \n",
       " 1st Qu.: 3432   1st Qu.: 2669.3   1st Qu.: 3612   1st Qu.: 4293  \n",
       " Median : 5361   Median : 3908.8   Median : 5321   Median : 5357  \n",
       " Mean   : 5474   Mean   : 4622.2   Mean   : 5425   Mean   : 5553  \n",
       " 3rd Qu.: 7120   3rd Qu.: 5847.3   3rd Qu.: 7012   3rd Qu.: 6745  \n",
       " Max.   :12544   Max.   :14527.2   Max.   :11161   Max.   :10844  \n",
       "                                                                  \n",
       "  X211943_x_at    X202649_x_at    X200763_s_at   X214749_s_at   X212988_x_at  \n",
       " Min.   : 2777   Min.   : 1564   Min.   :2319   Min.   :3701   Min.   : 1984  \n",
       " 1st Qu.: 4049   1st Qu.: 4130   1st Qu.:3914   1st Qu.:4573   1st Qu.: 3677  \n",
       " Median : 5854   Median : 5052   Median :5458   Median :5668   Median : 5309  \n",
       " Mean   : 6172   Mean   : 5293   Mean   :5660   Mean   :5932   Mean   : 5361  \n",
       " 3rd Qu.: 8107   3rd Qu.: 6487   3rd Qu.:7215   3rd Qu.:6970   3rd Qu.: 6982  \n",
       " Max.   :11301   Max.   :10329   Max.   :9639   Max.   :9198   Max.   :11400  \n",
       "                                                                              \n",
       "  X211765_x_at    X210646_x_at       X208718_at     X201553_s_at  \n",
       " Min.   : 2116   Min.   :  727.8   Min.   : 1788   Min.   : 2502  \n",
       " 1st Qu.: 3233   1st Qu.: 3578.3   1st Qu.: 3917   1st Qu.: 4405  \n",
       " Median : 4995   Median : 4834.4   Median : 5241   Median : 5645  \n",
       " Mean   : 5298   Mean   : 5444.5   Mean   : 5401   Mean   : 5878  \n",
       " 3rd Qu.: 7037   3rd Qu.: 7050.6   3rd Qu.: 6903   3rd Qu.: 7149  \n",
       " Max.   :10899   Max.   :12628.2   Max.   :10718   Max.   :11012  \n",
       "                                                                  \n",
       "  X200092_s_at    X208856_x_at    X219071_x_at    X200809_x_at  \n",
       " Min.   : 1495   Min.   : 1356   Min.   : 2601   Min.   : 2143  \n",
       " 1st Qu.: 4276   1st Qu.: 3786   1st Qu.: 4376   1st Qu.: 3765  \n",
       " Median : 5484   Median : 5114   Median : 5931   Median : 5469  \n",
       " Mean   : 5487   Mean   : 5400   Mean   : 6139   Mean   : 5541  \n",
       " 3rd Qu.: 7031   3rd Qu.: 6910   3rd Qu.: 7457   3rd Qu.: 7096  \n",
       " Max.   :10234   Max.   :11124   Max.   :13465   Max.   :11299  \n",
       "                                                                \n",
       "  X208834_x_at     X200614_at    X200650_s_at    X211720_x_at    X200088_x_at  \n",
       " Min.   : 2817   Min.   :2834   Min.   : 2183   Min.   : 1349   Min.   : 1525  \n",
       " 1st Qu.: 4228   1st Qu.:3661   1st Qu.: 3911   1st Qu.: 3625   1st Qu.: 3272  \n",
       " Median : 5582   Median :5256   Median : 5211   Median : 4914   Median : 4821  \n",
       " Mean   : 5824   Mean   :5526   Mean   : 5855   Mean   : 5205   Mean   : 5331  \n",
       " 3rd Qu.: 6916   3rd Qu.:7044   3rd Qu.: 8126   3rd Qu.: 7016   3rd Qu.: 7428  \n",
       " Max.   :11522   Max.   :9863   Max.   :12028   Max.   :10211   Max.   :10038  \n",
       "                                                                               \n",
       "  X213414_s_at    X209134_s_at     X201994_at    X212790_x_at    X201049_s_at \n",
       " Min.   : 1730   Min.   : 1778   Min.   :2342   Min.   : 1351   Min.   :2021  \n",
       " 1st Qu.: 3579   1st Qu.: 3862   1st Qu.:3842   1st Qu.: 3572   1st Qu.:3865  \n",
       " Median : 4972   Median : 5007   Median :4792   Median : 5019   Median :5034  \n",
       " Mean   : 5055   Mean   : 5472   Mean   :5341   Mean   : 5252   Mean   :5210  \n",
       " 3rd Qu.: 6100   3rd Qu.: 7283   3rd Qu.:6774   3rd Qu.: 6436   3rd Qu.:6363  \n",
       " Max.   :11033   Max.   :10559   Max.   :9404   Max.   :11848   Max.   :9181  \n",
       "                                                                              \n",
       "  X200958_s_at    X208768_x_at   X214394_x_at      X212042_x_at  \n",
       " Min.   : 1967   Min.   :1441   Min.   :  738.6   Min.   : 1981  \n",
       " 1st Qu.: 4040   1st Qu.:4133   1st Qu.: 3589.1   1st Qu.: 3675  \n",
       " Median : 5612   Median :5157   Median : 4818.6   Median : 4745  \n",
       " Mean   : 6070   Mean   :5391   Mean   : 5203.8   Mean   : 5083  \n",
       " 3rd Qu.: 8107   3rd Qu.:6777   3rd Qu.: 6411.0   3rd Qu.: 6401  \n",
       " Max.   :11137   Max.   :9925   Max.   :12422.0   Max.   :12111  \n",
       "                                                                 \n",
       "  X200674_s_at   X200819_s_at   X209001_s_at   X211940_x_at    X201154_x_at  \n",
       " Min.   :2730   Min.   :1884   Min.   :2439   Min.   : 2424   Min.   : 1423  \n",
       " 1st Qu.:4277   1st Qu.:3728   1st Qu.:4437   1st Qu.: 3870   1st Qu.: 3341  \n",
       " Median :5475   Median :5116   Median :5681   Median : 4777   Median : 5219  \n",
       " Mean   :5561   Mean   :5183   Mean   :5617   Mean   : 4972   Mean   : 5564  \n",
       " 3rd Qu.:6717   3rd Qu.:6474   3rd Qu.:6816   3rd Qu.: 5962   3rd Qu.: 7683  \n",
       " Max.   :9644   Max.   :9609   Max.   :8569   Max.   :10317   Max.   :10531  \n",
       "                                                                             \n",
       "  X212363_x_at    X212581_x_at    X213941_x_at   X211345_x_at   \n",
       " Min.   : 1234   Min.   : 1118   Min.   :1389   Min.   : 976.1  \n",
       " 1st Qu.: 2784   1st Qu.: 2843   1st Qu.:3685   1st Qu.:3314.7  \n",
       " Median : 4555   Median : 4589   Median :4765   Median :4540.2  \n",
       " Mean   : 4736   Mean   : 4774   Mean   :4960   Mean   :4925.8  \n",
       " 3rd Qu.: 6480   3rd Qu.: 6352   3rd Qu.:6102   3rd Qu.:6902.3  \n",
       " Max.   :11422   Max.   :11903   Max.   :9456   Max.   :9759.4  \n",
       "                                                                \n",
       "  X202698_x_at     X215479_at     X211927_x_at      X214327_x_at \n",
       " Min.   : 2243   Min.   : 2110   Min.   :  809.9   Min.   :2562  \n",
       " 1st Qu.: 4022   1st Qu.: 4166   1st Qu.: 3158.9   1st Qu.:3979  \n",
       " Median : 5375   Median : 5225   Median : 4704.7   Median :5011  \n",
       " Mean   : 5373   Mean   : 5402   Mean   : 4931.9   Mean   :5265  \n",
       " 3rd Qu.: 6513   3rd Qu.: 6206   3rd Qu.: 6753.4   3rd Qu.:6584  \n",
       " Max.   :10090   Max.   :12533   Max.   :10435.4   Max.   :8388  \n",
       "                                                                 \n",
       "  X213738_s_at   X200019_s_at   X200807_s_at    X211995_x_at    X221775_x_at  \n",
       " Min.   :1923   Min.   :2049   Min.   : 1323   Min.   : 1459   Min.   : 2344  \n",
       " 1st Qu.:3597   1st Qu.:3455   1st Qu.: 3161   1st Qu.: 2933   1st Qu.: 3690  \n",
       " Median :4898   Median :5202   Median : 4857   Median : 4350   Median : 4714  \n",
       " Mean   :5284   Mean   :5099   Mean   : 4750   Mean   : 4631   Mean   : 4963  \n",
       " 3rd Qu.:6920   3rd Qu.:6341   3rd Qu.: 5812   3rd Qu.: 6178   3rd Qu.: 6162  \n",
       " Max.   :9558   Max.   :8861   Max.   :11499   Max.   :11350   Max.   :10107  \n",
       "                                                                              \n",
       "   X200006_at     X200944_s_at     X212639_x_at   X214629_x_at  \n",
       " Min.   : 1335   Min.   : 902.4   Min.   :1817   Min.   : 1993  \n",
       " 1st Qu.: 3558   1st Qu.:2831.6   1st Qu.:3333   1st Qu.: 3794  \n",
       " Median : 5119   Median :4030.2   Median :4469   Median : 5584  \n",
       " Mean   : 5330   Mean   :4035.5   Mean   :4774   Mean   : 5750  \n",
       " 3rd Qu.: 7010   3rd Qu.:4841.0   3rd Qu.:6412   3rd Qu.: 7143  \n",
       " Max.   :10511   Max.   :8864.1   Max.   :8460   Max.   :11559  \n",
       "                                                                \n",
       "  X212788_x_at    X213377_x_at    X216379_x_at    X211956_s_at  \n",
       " Min.   : 1607   Min.   : 2027   Min.   :  193   Min.   : 2717  \n",
       " 1st Qu.: 3913   1st Qu.: 3806   1st Qu.: 1873   1st Qu.: 3864  \n",
       " Median : 5458   Median : 5065   Median : 3207   Median : 5264  \n",
       " Mean   : 5737   Mean   : 5140   Mean   : 3511   Mean   : 5552  \n",
       " 3rd Qu.: 7483   3rd Qu.: 6304   3rd Qu.: 4878   3rd Qu.: 7078  \n",
       " Max.   :12437   Max.   :10126   Max.   :11974   Max.   :10234  \n",
       "                                                                \n",
       "  X200031_s_at      X213867_x_at     X211296_x_at    X212082_s_at  \n",
       " Min.   :  843.6   Min.   : 787.9   Min.   : 1509   Min.   : 1178  \n",
       " 1st Qu.: 3774.6   1st Qu.:2820.1   1st Qu.: 3402   1st Qu.: 3914  \n",
       " Median : 4821.8   Median :4425.5   Median : 4929   Median : 5071  \n",
       " Mean   : 5106.7   Mean   :4772.7   Mean   : 5248   Mean   : 5204  \n",
       " 3rd Qu.: 6534.7   3rd Qu.:6674.5   3rd Qu.: 7134   3rd Qu.: 6585  \n",
       " Max.   : 9999.6   Max.   :9641.0   Max.   :10501   Max.   :11009  \n",
       "                                                                   \n",
       "  X209771_x_at      X215157_x_at    X214548_x_at      X215313_x_at \n",
       " Min.   :  187.4   Min.   : 1265   Min.   :  655.7   Min.   :1046  \n",
       " 1st Qu.: 1250.8   1st Qu.: 2865   1st Qu.: 3414.5   1st Qu.:2745  \n",
       " Median : 2979.6   Median : 4212   Median : 4398.2   Median :4735  \n",
       " Mean   : 3276.2   Mean   : 4443   Mean   : 4976.6   Mean   :4633  \n",
       " 3rd Qu.: 4391.3   3rd Qu.: 5739   3rd Qu.: 6732.8   3rd Qu.:6239  \n",
       " Max.   :11435.5   Max.   :12141   Max.   :11547.8   Max.   :9756  \n",
       "                                                                   \n",
       "  X213588_x_at   X200781_s_at   X200080_s_at   X208635_x_at   X200735_x_at \n",
       " Min.   :1031   Min.   :1483   Min.   :1396   Min.   :1066   Min.   :1071  \n",
       " 1st Qu.:3293   1st Qu.:3104   1st Qu.:3012   1st Qu.:2637   1st Qu.:2742  \n",
       " Median :4562   Median :4442   Median :4260   Median :4308   Median :4095  \n",
       " Mean   :4517   Mean   :4474   Mean   :4339   Mean   :4521   Mean   :4506  \n",
       " 3rd Qu.:5835   3rd Qu.:5698   3rd Qu.:5350   3rd Qu.:6529   3rd Qu.:6381  \n",
       " Max.   :8762   Max.   :8066   Max.   :7889   Max.   :9646   Max.   :9980  \n",
       "                                                                           \n",
       "  X217982_s_at   X217733_s_at      X208692_at      X213101_s_at   \n",
       " Min.   :1814   Min.   : 699.6   Min.   : 410.4   Min.   : 543.4  \n",
       " 1st Qu.:3370   1st Qu.:3141.5   1st Qu.:2694.3   1st Qu.:3069.2  \n",
       " Median :4647   Median :4273.2   Median :3950.6   Median :3860.2  \n",
       " Mean   :4762   Mean   :4592.3   Mean   :4166.1   Mean   :4217.6  \n",
       " 3rd Qu.:6068   3rd Qu.:5844.6   3rd Qu.:5349.7   3rd Qu.:5219.0  \n",
       " Max.   :8817   Max.   :9692.0   Max.   :9239.4   Max.   :8854.7  \n",
       "                                                                  \n",
       "  X211710_x_at   X211945_s_at    X213801_x_at   X200718_s_at   X203107_x_at \n",
       " Min.   :1489   Min.   : 1715   Min.   :1422   Min.   :2000   Min.   :1062  \n",
       " 1st Qu.:2956   1st Qu.: 3280   1st Qu.:2819   1st Qu.:3352   1st Qu.:2464  \n",
       " Median :4251   Median : 4905   Median :4374   Median :4432   Median :3698  \n",
       " Mean   :4736   Mean   : 5251   Mean   :4320   Mean   :4730   Mean   :4081  \n",
       " 3rd Qu.:6387   3rd Qu.: 6948   3rd Qu.:5508   3rd Qu.:6061   3rd Qu.:5269  \n",
       " Max.   :9650   Max.   :10260   Max.   :9078   Max.   :8539   Max.   :9419  \n",
       "                                                                            \n",
       "  X216526_x_at   X200034_s_at    X36888_at     X211628_x_at     X200936_at     \n",
       " Min.   :1211   Min.   :1408   Min.   :2423   Min.   : 1486   Min.   :  525.8  \n",
       " 1st Qu.:2116   1st Qu.:3008   1st Qu.:3438   1st Qu.: 3256   1st Qu.: 2517.2  \n",
       " Median :3458   Median :4256   Median :4222   Median : 4399   Median : 3651.5  \n",
       " Mean   :4105   Mean   :4429   Mean   :4612   Mean   : 4638   Mean   : 4090.4  \n",
       " 3rd Qu.:5668   3rd Qu.:5757   3rd Qu.:5612   3rd Qu.: 5615   3rd Qu.: 5463.1  \n",
       " Max.   :9975   Max.   :8675   Max.   :8204   Max.   :11180   Max.   :11515.9  \n",
       "                                                                               \n",
       "  X213503_x_at    X212933_x_at   X200705_s_at    X205967_at     X200795_at  \n",
       " Min.   : 1637   Min.   :2032   Min.   :1105   Min.   :1512   Min.   :1454  \n",
       " 1st Qu.: 3497   1st Qu.:3428   1st Qu.:3236   1st Qu.:3302   1st Qu.:3585  \n",
       " Median : 4675   Median :4348   Median :4508   Median :4421   Median :4798  \n",
       " Mean   : 5138   Mean   :4474   Mean   :4409   Mean   :4493   Mean   :5047  \n",
       " 3rd Qu.: 6724   3rd Qu.:5426   3rd Qu.:5627   3rd Qu.:5538   3rd Qu.:6517  \n",
       " Max.   :10387   Max.   :7670   Max.   :7211   Max.   :7748   Max.   :9388  \n",
       "                                                                            \n",
       "   X200673_at     X217979_at    X200063_s_at    X200018_at     X208640_at  \n",
       " Min.   :1570   Min.   :1405   Min.   :1302   Min.   :2039   Min.   :1384  \n",
       " 1st Qu.:2915   1st Qu.:2610   1st Qu.:2897   1st Qu.:3386   1st Qu.:3337  \n",
       " Median :4350   Median :3615   Median :3944   Median :4270   Median :4246  \n",
       " Mean   :4602   Mean   :3758   Mean   :4073   Mean   :4525   Mean   :4390  \n",
       " 3rd Qu.:6211   3rd Qu.:4576   3rd Qu.:4843   3rd Qu.:5498   3rd Qu.:5436  \n",
       " Max.   :9094   Max.   :9619   Max.   :8508   Max.   :8932   Max.   :7527  \n",
       "                                                                           \n",
       "  X208870_x_at    X200025_s_at   X202488_s_at   X217718_s_at   X202029_x_at \n",
       " Min.   : 1837   Min.   :1156   Min.   :2290   Min.   :1132   Min.   :1789  \n",
       " 1st Qu.: 2869   1st Qu.:3192   1st Qu.:3185   1st Qu.:3045   1st Qu.:3141  \n",
       " Median : 4128   Median :4208   Median :4275   Median :3819   Median :4175  \n",
       " Mean   : 4187   Mean   :4400   Mean   :4389   Mean   :4091   Mean   :4238  \n",
       " 3rd Qu.: 5294   3rd Qu.:5484   3rd Qu.:5380   3rd Qu.:5072   3rd Qu.:5321  \n",
       " Max.   :11838   Max.   :8549   Max.   :8726   Max.   :7461   Max.   :8196  \n",
       "                                                                            \n",
       "  X211058_x_at     X220960_x_at   X200015_s_at    X208845_at     X219883_at    \n",
       " Min.   : 975.8   Min.   :2020   Min.   : 926   Min.   :1766   Min.   : 905.4  \n",
       " 1st Qu.:2375.6   1st Qu.:3063   1st Qu.:3032   1st Qu.:3208   1st Qu.:2741.7  \n",
       " Median :3691.6   Median :4299   Median :4520   Median :4104   Median :4487.4  \n",
       " Mean   :3886.4   Mean   :4242   Mean   :4509   Mean   :4261   Mean   :4490.2  \n",
       " 3rd Qu.:5002.0   3rd Qu.:5252   3rd Qu.:5733   3rd Qu.:5349   3rd Qu.:5683.9  \n",
       " Max.   :9943.4   Max.   :8027   Max.   :8560   Max.   :7685   Max.   :9587.4  \n",
       "                                                                               \n",
       "  X200689_x_at     X211509_s_at    X201358_s_at   X211430_s_at     X208578_at  \n",
       " Min.   : 313.4   Min.   : 2019   Min.   :1409   Min.   : 1072   Min.   :2004  \n",
       " 1st Qu.:2089.9   1st Qu.: 3284   1st Qu.:2727   1st Qu.: 1715   1st Qu.:3251  \n",
       " Median :3611.2   Median : 4515   Median :3830   Median : 2403   Median :4212  \n",
       " Mean   :3851.3   Mean   : 4856   Mean   :3797   Mean   : 3278   Mean   :4258  \n",
       " 3rd Qu.:5669.1   3rd Qu.: 6317   3rd Qu.:4679   3rd Qu.: 3914   3rd Qu.:5068  \n",
       " Max.   :8546.9   Max.   :10264   Max.   :7316   Max.   :12713   Max.   :7759  \n",
       "                                                                               \n",
       "   X211969_at      X210774_s_at   X216442_x_at      X200716_x_at    \n",
       " Min.   : 981.1   Min.   :1291   Min.   :  682.1   Min.   :  182.7  \n",
       " 1st Qu.:2583.6   1st Qu.:3143   1st Qu.: 1706.6   1st Qu.: 2167.1  \n",
       " Median :3602.5   Median :4170   Median : 2711.9   Median : 3723.4  \n",
       " Mean   :3908.4   Mean   :4441   Mean   : 3290.9   Mean   : 3929.9  \n",
       " 3rd Qu.:5079.0   3rd Qu.:5500   3rd Qu.: 3794.7   3rd Qu.: 5357.5  \n",
       " Max.   :8914.8   Max.   :9781   Max.   :12714.8   Max.   :10183.2  \n",
       "                                                                    \n",
       "  X210809_s_at    X211161_s_at       X200033_at     AFFX.HSAC07.X00351_3_at\n",
       " Min.   : 1186   Min.   :  517.9   Min.   : 929.3   Min.   : 973.7         \n",
       " 1st Qu.: 2093   1st Qu.: 2339.3   1st Qu.:2225.9   1st Qu.:2269.6         \n",
       " Median : 2874   Median : 3274.2   Median :4099.9   Median :3439.3         \n",
       " Mean   : 3329   Mean   : 3705.7   Mean   :3941.2   Mean   :3919.7         \n",
       " 3rd Qu.: 3765   3rd Qu.: 4490.5   3rd Qu.:5349.2   3rd Qu.:5558.6         \n",
       " Max.   :10361   Max.   :10529.1   Max.   :8297.4   Max.   :9870.4         \n",
       "                                                                           \n",
       "  X200780_x_at      X218198_at    X213612_x_at   X214938_x_at     X207168_s_at \n",
       " Min.   : 762.6   Min.   :1600   Min.   :1305   Min.   : 958.1   Min.   :1296  \n",
       " 1st Qu.:2813.2   1st Qu.:2831   1st Qu.:3085   1st Qu.:3081.8   1st Qu.:2408  \n",
       " Median :3904.9   Median :3977   Median :3698   Median :3811.1   Median :3538  \n",
       " Mean   :4183.8   Mean   :4368   Mean   :3979   Mean   :4130.4   Mean   :3764  \n",
       " 3rd Qu.:5599.3   3rd Qu.:5449   3rd Qu.:4734   3rd Qu.:5094.1   3rd Qu.:4964  \n",
       " Max.   :8739.3   Max.   :9908   Max.   :9314   Max.   :7172.6   Max.   :8010  \n",
       "                                                                               \n",
       "  X200081_s_at      X216438_s_at     X201590_x_at    X200026_at  \n",
       " Min.   :  771.3   Min.   : 778.4   Min.   :1078   Min.   :1404  \n",
       " 1st Qu.: 2346.0   1st Qu.:2697.0   1st Qu.:3124   1st Qu.:2975  \n",
       " Median : 3619.7   Median :3628.5   Median :4155   Median :3981  \n",
       " Mean   : 3801.8   Mean   :4146.8   Mean   :4718   Mean   :4076  \n",
       " 3rd Qu.: 5010.4   3rd Qu.:5625.1   3rd Qu.:6600   3rd Qu.:5202  \n",
       " Max.   :10071.1   Max.   :8655.5   Max.   :9412   Max.   :7422  \n",
       "                                                                 \n",
       "  X214459_x_at    X203083_at     X208812_x_at     X210495_x_at    \n",
       " Min.   :1363   Min.   : 1042   Min.   : 897.1   Min.   :  172.1  \n",
       " 1st Qu.:2310   1st Qu.: 2416   1st Qu.:2155.4   1st Qu.: 1465.1  \n",
       " Median :3617   Median : 3265   Median :3525.4   Median : 2424.0  \n",
       " Mean   :3833   Mean   : 3638   Mean   :3758.2   Mean   : 3070.2  \n",
       " 3rd Qu.:5132   3rd Qu.: 4423   3rd Qu.:5132.8   3rd Qu.: 3877.6  \n",
       " Max.   :8479   Max.   :10229   Max.   :8246.2   Max.   :11886.1  \n",
       "                                                                  \n",
       "  X213881_x_at   X206861_s_at   X215726_s_at   X202403_s_at    X202404_s_at  \n",
       " Min.   :1495   Min.   :1227   Min.   :1586   Min.   : 1104   Min.   :  710  \n",
       " 1st Qu.:2770   1st Qu.:3253   1st Qu.:3015   1st Qu.: 2430   1st Qu.: 1809  \n",
       " Median :3512   Median :4181   Median :4114   Median : 3544   Median : 2936  \n",
       " Mean   :3808   Mean   :4459   Mean   :4658   Mean   : 3803   Mean   : 3329  \n",
       " 3rd Qu.:4544   3rd Qu.:5599   3rd Qu.:6032   3rd Qu.: 4568   3rd Qu.: 3873  \n",
       " Max.   :8278   Max.   :8748   Max.   :9548   Max.   :10130   Max.   :11752  \n",
       "                                                                             \n",
       "   X212077_at    X208949_s_at    X211921_x_at     X201022_s_at   X221891_x_at \n",
       " Min.   :1495   Min.   : 1239   Min.   : 695.6   Min.   :1171   Min.   : 852  \n",
       " 1st Qu.:2773   1st Qu.: 3152   1st Qu.:2469.0   1st Qu.:2739   1st Qu.:2512  \n",
       " Median :4122   Median : 4546   Median :3550.7   Median :3881   Median :3296  \n",
       " Mean   :4105   Mean   : 4814   Mean   :3647.7   Mean   :3943   Mean   :3634  \n",
       " 3rd Qu.:5556   3rd Qu.: 6208   3rd Qu.:4593.9   3rd Qu.:4816   3rd Qu.:4668  \n",
       " Max.   :8167   Max.   :10111   Max.   :9048.5   Max.   :8048   Max.   :8020  \n",
       "                                                                              \n",
       "   X218665_at     X202443_x_at   X212433_x_at     X211972_x_at   \n",
       " Min.   : 1965   Min.   :2018   Min.   : 873.6   Min.   : 662.2  \n",
       " 1st Qu.: 3470   1st Qu.:3015   1st Qu.:2303.9   1st Qu.:2406.9  \n",
       " Median : 4661   Median :3808   Median :3225.0   Median :3412.6  \n",
       " Mean   : 5175   Mean   :4212   Mean   :3503.9   Mean   :3705.3  \n",
       " 3rd Qu.: 6520   3rd Qu.:5233   3rd Qu.:4674.7   3rd Qu.:5164.6  \n",
       " Max.   :10642   Max.   :7114   Max.   :8213.9   Max.   :7226.9  \n",
       "                                                                 \n",
       "   X212412_at     X203980_at       X211696_x_at       X201540_at     \n",
       " Min.   :1633   Min.   :  302.4   Min.   :  654.2   Min.   :  957.4  \n",
       " 1st Qu.:2895   1st Qu.: 1549.8   1st Qu.: 1577.6   1st Qu.: 2592.1  \n",
       " Median :3651   Median : 5031.5   Median : 3152.9   Median : 4314.1  \n",
       " Mean   :3972   Mean   : 5368.1   Mean   : 4897.0   Mean   : 5071.9  \n",
       " 3rd Qu.:5001   3rd Qu.: 8937.0   3rd Qu.: 8534.7   3rd Qu.: 7291.8  \n",
       " Max.   :7482   Max.   :12538.4   Max.   :13551.5   Max.   :12568.8  \n",
       "                                                                     \n",
       "  X204151_x_at      X203549_s_at      X209116_x_at        X207175_at     \n",
       " Min.   :  374.7   Min.   :  675.7   Min.   :   36.86   Min.   :  149.5  \n",
       " 1st Qu.: 1341.3   1st Qu.: 2005.0   1st Qu.:  267.90   1st Qu.: 1091.3  \n",
       " Median : 3812.0   Median : 3621.4   Median : 1433.35   Median : 2840.7  \n",
       " Mean   : 4535.7   Mean   : 4363.0   Mean   : 3493.39   Mean   : 3796.4  \n",
       " 3rd Qu.: 7331.4   3rd Qu.: 6386.5   3rd Qu.: 6328.41   3rd Qu.: 6546.8  \n",
       " Max.   :11947.6   Max.   :10487.5   Max.   :12395.30   Max.   :10211.4  \n",
       "                                                                         \n",
       "  X214414_x_at      X217232_x_at      X221748_s_at       X208782_at   \n",
       " Min.   :  205.4   Min.   :  295.3   Min.   :  589.8   Min.   : 1522  \n",
       " 1st Qu.: 1057.8   1st Qu.: 1012.4   1st Qu.: 2034.4   1st Qu.: 2663  \n",
       " Median : 2290.7   Median : 2073.6   Median : 3317.4   Median : 4164  \n",
       " Mean   : 3677.7   Mean   : 3662.0   Mean   : 4025.5   Mean   : 4644  \n",
       " 3rd Qu.: 6642.6   3rd Qu.: 6149.9   3rd Qu.: 5312.6   3rd Qu.: 6592  \n",
       " Max.   :15467.7   Max.   :12100.0   Max.   :10414.4   Max.   :10076  \n",
       "                                                                      \n",
       "  X209699_x_at        X201348_at       X201010_s_at    X201432_at    \n",
       " Min.   :   92.19   Min.   :  596.2   Min.   :1026   Min.   : 942.5  \n",
       " 1st Qu.:  562.02   1st Qu.: 1513.9   1st Qu.:2643   1st Qu.:2193.8  \n",
       " Median : 2743.17   Median : 2783.7   Median :4359   Median :3327.5  \n",
       " Mean   : 3408.48   Mean   : 3743.0   Mean   :4450   Mean   :4080.1  \n",
       " 3rd Qu.: 5633.44   3rd Qu.: 5278.5   3rd Qu.:5900   3rd Qu.:5661.9  \n",
       " Max.   :10548.90   Max.   :13820.4   Max.   :9168   Max.   :9437.8  \n",
       "                                                                     \n",
       "  X201893_x_at    X208788_at    X201030_x_at    X211745_x_at    \n",
       " Min.   :1111   Min.   :1064   Min.   :  335   Min.   :  100.6  \n",
       " 1st Qu.:3372   1st Qu.:2565   1st Qu.: 2314   1st Qu.:  281.4  \n",
       " Median :4257   Median :4492   Median : 3804   Median :  964.0  \n",
       " Mean   :4570   Mean   :4505   Mean   : 4150   Mean   : 3023.9  \n",
       " 3rd Qu.:6028   3rd Qu.:6424   3rd Qu.: 5589   3rd Qu.: 5990.3  \n",
       " Max.   :9114   Max.   :9635   Max.   :10611   Max.   :12243.5  \n",
       "                                                                \n",
       "  X216594_x_at      X212097_at      X210427_x_at   X209612_s_at    \n",
       " Min.   : 484.2   Min.   : 157.6   Min.   :1188   Min.   :  110.1  \n",
       " 1st Qu.:1340.0   1st Qu.:1594.1   1st Qu.:2584   1st Qu.:  777.5  \n",
       " Median :3054.1   Median :3253.6   Median :3874   Median : 2636.2  \n",
       " Mean   :3546.6   Mean   :3553.8   Mean   :4359   Mean   : 3259.7  \n",
       " 3rd Qu.:5454.0   3rd Qu.:5567.9   3rd Qu.:5956   3rd Qu.: 4840.7  \n",
       " Max.   :9381.6   Max.   :8687.9   Max.   :9315   Max.   :10469.3  \n",
       "                                                                   \n",
       " AFFX.M27830_M_at  X209555_s_at      X201842_s_at      X213564_x_at \n",
       " Min.   : 642.5   Min.   :  60.15   Min.   :  733.2   Min.   : 656  \n",
       " 1st Qu.:3101.6   1st Qu.: 649.39   1st Qu.: 1920.1   1st Qu.:2615  \n",
       " Median :4117.5   Median :2527.83   Median : 3306.9   Median :4137  \n",
       " Mean   :4341.5   Mean   :3209.09   Mean   : 3728.3   Mean   :4153  \n",
       " 3rd Qu.:5329.3   3rd Qu.:5817.05   3rd Qu.: 5183.5   3rd Qu.:5642  \n",
       " Max.   :9652.5   Max.   :8905.56   Max.   :10492.1   Max.   :8774  \n",
       "                                                                    \n",
       "  X205382_s_at       X205480_s_at    X200799_at      X201012_at    \n",
       " Min.   :   29.99   Min.   :1033   Min.   : 1114   Min.   : 632.3  \n",
       " 1st Qu.:  181.34   1st Qu.:2216   1st Qu.: 2813   1st Qu.:2220.4  \n",
       " Median : 1615.64   Median :3561   Median : 3943   Median :3610.0  \n",
       " Mean   : 2848.98   Mean   :3998   Mean   : 4370   Mean   :3909.6  \n",
       " 3rd Qu.: 4827.16   3rd Qu.:5276   3rd Qu.: 5196   3rd Qu.:5498.0  \n",
       " Max.   :10524.20   Max.   :9564   Max.   :13439   Max.   :7977.6  \n",
       "                                                                   \n",
       "  X209210_s_at     X206488_s_at      X201612_at     X219398_at    \n",
       " Min.   : 473.3   Min.   : 229.2   Min.   :1483   Min.   : 629.9  \n",
       " 1st Qu.:1826.8   1st Qu.:1169.9   1st Qu.:2865   1st Qu.:1519.0  \n",
       " Median :2997.7   Median :2644.4   Median :4043   Median :2533.5  \n",
       " Mean   :3541.7   Mean   :3250.8   Mean   :4274   Mean   :3287.8  \n",
       " 3rd Qu.:5469.9   3rd Qu.:5121.4   3rd Qu.:5401   3rd Qu.:4762.6  \n",
       " Max.   :8615.3   Max.   :9527.7   Max.   :7790   Max.   :9029.9  \n",
       "                                                                  \n",
       "  X213524_s_at     X38707_r_at    X211813_x_at     X212509_s_at   \n",
       " Min.   : 476.3   Min.   :1689   Min.   : 452.3   Min.   : 886.4  \n",
       " 1st Qu.:1259.8   1st Qu.:3032   1st Qu.:2600.7   1st Qu.:2639.0  \n",
       " Median :2267.5   Median :4047   Median :3755.1   Median :3696.2  \n",
       " Mean   :3178.2   Mean   :4204   Mean   :3894.3   Mean   :3876.7  \n",
       " 3rd Qu.:5161.9   3rd Qu.:5004   3rd Qu.:4980.5   3rd Qu.:5040.2  \n",
       " Max.   :9090.0   Max.   :8566   Max.   :8853.1   Max.   :7926.9  \n",
       "                                                                  \n",
       "   X201425_at      X209026_x_at   X216520_s_at      X203221_at    X218101_s_at \n",
       " Min.   : 248.7   Min.   :1626   Min.   : 387.3   Min.   :1804   Min.   :1257  \n",
       " 1st Qu.:1340.7   1st Qu.:3224   1st Qu.:2325.2   1st Qu.:3019   1st Qu.:3007  \n",
       " Median :2337.9   Median :4168   Median :4104.8   Median :3801   Median :3627  \n",
       " Mean   :3175.5   Mean   :4162   Mean   :4088.2   Mean   :4040   Mean   :4138  \n",
       " 3rd Qu.:4156.1   3rd Qu.:5081   3rd Qu.:5692.5   3rd Qu.:5087   3rd Qu.:5388  \n",
       " Max.   :9784.5   Max.   :7363   Max.   :9310.6   Max.   :6858   Max.   :6971  \n",
       "                                                                               \n",
       "   X211980_at      X203548_s_at        X202442_at    X217892_s_at \n",
       " Min.   : 629.7   Min.   :   75.09   Min.   :1335   Min.   :1494  \n",
       " 1st Qu.:1976.8   1st Qu.:  274.43   1st Qu.:2777   1st Qu.:3120  \n",
       " Median :3116.5   Median : 1919.15   Median :3727   Median :3855  \n",
       " Mean   :3583.1   Mean   : 2560.39   Mean   :4029   Mean   :4010  \n",
       " 3rd Qu.:4942.1   3rd Qu.: 4490.91   3rd Qu.:5287   3rd Qu.:4737  \n",
       " Max.   :7468.8   Max.   :10369.00   Max.   :6626   Max.   :7165  \n",
       "                                                                  \n",
       "  X210968_s_at     X217732_s_at   X48030_i_at     X207607_at     \n",
       " Min.   : 735.6   Min.   :1426   Min.   :1854   Min.   : 0.4325  \n",
       " 1st Qu.:2637.5   1st Qu.:2621   1st Qu.:3002   1st Qu.: 0.9056  \n",
       " Median :3340.5   Median :3615   Median :3791   Median : 1.4938  \n",
       " Mean   :3748.6   Mean   :3887   Mean   :4027   Mean   : 2.6862  \n",
       " 3rd Qu.:4839.7   3rd Qu.:5350   3rd Qu.:4986   3rd Qu.: 2.5398  \n",
       " Max.   :7805.1   Max.   :8165   Max.   :7094   Max.   :22.4866  \n",
       "                                                                 \n",
       "   X220656_at       X216987_at      X217078_s_at     X214304_x_at    \n",
       " Min.   : 2.820   Min.   : 2.301   Min.   : 3.065   Min.   :  5.139  \n",
       " 1st Qu.: 6.652   1st Qu.: 6.891   1st Qu.: 5.881   1st Qu.:  8.354  \n",
       " Median : 9.439   Median :10.551   Median :10.672   Median : 12.297  \n",
       " Mean   :11.424   Mean   :13.280   Mean   :12.524   Mean   : 14.211  \n",
       " 3rd Qu.:13.821   3rd Qu.:16.488   3rd Qu.:15.935   3rd Qu.: 17.365  \n",
       " Max.   :35.080   Max.   :85.915   Max.   :41.883   Max.   :106.313  \n",
       "                                                                     \n",
       "  X217536_x_at       X211319_at       X208142_at       X207331_at     \n",
       " Min.   :  3.007   Min.   : 5.881   Min.   : 3.640   Min.   :  2.389  \n",
       " 1st Qu.:  8.121   1st Qu.: 9.824   1st Qu.: 8.959   1st Qu.:  7.190  \n",
       " Median : 11.635   Median :13.490   Median :14.220   Median : 11.218  \n",
       " Mean   : 14.281   Mean   :13.823   Mean   :14.559   Mean   : 18.529  \n",
       " 3rd Qu.: 16.289   3rd Qu.:16.870   3rd Qu.:19.953   3rd Qu.: 18.575  \n",
       " Max.   :134.350   Max.   :28.863   Max.   :31.858   Max.   :158.982  \n",
       "                                                                      \n",
       "   X215309_at       X208547_at      X201374_x_at       X204935_at    \n",
       " Min.   : 4.165   Min.   : 5.436   Min.   :  5.399   Min.   : 3.075  \n",
       " 1st Qu.: 8.973   1st Qu.: 9.486   1st Qu.:  9.383   1st Qu.: 7.139  \n",
       " Median :13.173   Median :12.721   Median : 13.029   Median :11.308  \n",
       " Mean   :14.777   Mean   :14.663   Mean   : 15.991   Mean   :13.973  \n",
       " 3rd Qu.:19.914   3rd Qu.:19.221   3rd Qu.: 18.625   3rd Qu.:17.456  \n",
       " Max.   :36.100   Max.   :31.915   Max.   :109.207   Max.   :41.283  \n",
       "                                                                     \n",
       "   X211054_at       X210683_at        X201062_at        X205421_at     \n",
       " Min.   : 3.146   Min.   :  3.399   Min.   :  6.661   Min.   :  2.047  \n",
       " 1st Qu.: 6.955   1st Qu.:  7.611   1st Qu.: 12.739   1st Qu.:  8.216  \n",
       " Median : 9.681   Median : 11.432   Median : 16.503   Median : 14.645  \n",
       " Mean   :14.454   Mean   : 17.040   Mean   : 23.025   Mean   : 27.620  \n",
       " 3rd Qu.:15.810   3rd Qu.: 18.639   3rd Qu.: 21.073   3rd Qu.: 33.717  \n",
       " Max.   :95.423   Max.   :169.357   Max.   :494.952   Max.   :271.393  \n",
       "                                                                       \n",
       "   X208533_at      X76897_s_at       X211141_s_at       X215619_at     \n",
       " Min.   : 5.477   Min.   :  2.502   Min.   :  5.769   Min.   :  3.842  \n",
       " 1st Qu.:10.855   1st Qu.:  6.340   1st Qu.: 10.033   1st Qu.:  8.745  \n",
       " Median :15.650   Median : 10.119   Median : 14.996   Median : 15.275  \n",
       " Mean   :17.287   Mean   : 15.215   Mean   : 21.488   Mean   : 19.821  \n",
       " 3rd Qu.:22.481   3rd Qu.: 16.133   3rd Qu.: 20.354   3rd Qu.: 23.494  \n",
       " Max.   :40.836   Max.   :113.966   Max.   :355.574   Max.   :307.423  \n",
       "                                                                       \n",
       "   X207696_at       X208572_at     AFFX.TrpnX.3_at    X208512_s_at   \n",
       " Min.   : 4.938   Min.   : 7.114   Min.   :  3.160   Min.   : 7.079  \n",
       " 1st Qu.:10.234   1st Qu.:12.654   1st Qu.:  9.745   1st Qu.:12.451  \n",
       " Median :15.162   Median :16.131   Median : 13.096   Median :15.715  \n",
       " Mean   :18.467   Mean   :17.732   Mean   : 19.223   Mean   :17.279  \n",
       " 3rd Qu.:23.224   3rd Qu.:22.107   3rd Qu.: 20.567   3rd Qu.:20.720  \n",
       " Max.   :74.044   Max.   :46.277   Max.   :174.963   Max.   :42.468  \n",
       "                                                                     \n",
       "  X217661_x_at     X215107_s_at      X220649_at       X222308_x_at   \n",
       " Min.   : 7.049   Min.   : 3.422   Min.   :  3.267   Min.   : 3.555  \n",
       " 1st Qu.:12.478   1st Qu.: 8.762   1st Qu.: 11.135   1st Qu.:11.225  \n",
       " Median :17.464   Median :14.269   Median : 16.223   Median :15.877  \n",
       " Mean   :19.024   Mean   :16.424   Mean   : 21.818   Mean   :16.891  \n",
       " 3rd Qu.:22.375   3rd Qu.:22.059   3rd Qu.: 21.998   3rd Qu.:21.276  \n",
       " Max.   :88.904   Max.   :49.913   Max.   :175.724   Max.   :48.986  \n",
       "                                                                     \n",
       "  X214310_s_at     X216982_x_at       X216424_at        X219174_at    \n",
       " Min.   : 6.136   Min.   :  3.955   Min.   :  4.828   Min.   : 6.774  \n",
       " 1st Qu.:10.641   1st Qu.:  8.590   1st Qu.: 10.214   1st Qu.:11.980  \n",
       " Median :16.844   Median : 14.654   Median : 14.176   Median :16.673  \n",
       " Mean   :18.946   Mean   : 22.933   Mean   : 18.438   Mean   :19.448  \n",
       " 3rd Qu.:25.783   3rd Qu.: 25.391   3rd Qu.: 20.625   3rd Qu.:26.652  \n",
       " Max.   :46.162   Max.   :133.992   Max.   :116.351   Max.   :44.312  \n",
       "                                                                      \n",
       "   X212338_at      X216831_s_at      X216805_at      X222222_s_at   \n",
       " Min.   : 6.152   Min.   : 7.699   Min.   : 7.803   Min.   : 8.023  \n",
       " 1st Qu.:11.261   1st Qu.:12.213   1st Qu.:15.092   1st Qu.:13.585  \n",
       " Median :17.822   Median :18.855   Median :20.273   Median :18.263  \n",
       " Mean   :19.084   Mean   :19.209   Mean   :21.714   Mean   :20.294  \n",
       " 3rd Qu.:23.906   3rd Qu.:23.754   3rd Qu.:26.555   3rd Qu.:23.601  \n",
       " Max.   :55.166   Max.   :45.334   Max.   :61.668   Max.   :87.278  \n",
       "                                                                    \n",
       "   X214586_at       X205234_at       X217400_at       X211526_s_at   \n",
       " Min.   : 5.464   Min.   : 4.159   Min.   :  4.479   Min.   : 4.715  \n",
       " 1st Qu.:11.601   1st Qu.: 9.275   1st Qu.: 11.547   1st Qu.:12.977  \n",
       " Median :17.027   Median :15.220   Median : 16.629   Median :18.981  \n",
       " Mean   :20.476   Mean   :17.755   Mean   : 21.085   Mean   :20.130  \n",
       " 3rd Qu.:24.885   3rd Qu.:22.795   3rd Qu.: 26.933   3rd Qu.:24.548  \n",
       " Max.   :58.029   Max.   :65.859   Max.   :118.003   Max.   :53.522  \n",
       "                                                                     \n",
       "   X214865_at       X203163_at      X214123_s_at      X220704_at    \n",
       " Min.   : 7.967   Min.   : 7.836   Min.   : 5.635   Min.   : 5.467  \n",
       " 1st Qu.:15.081   1st Qu.:13.150   1st Qu.:11.290   1st Qu.:12.207  \n",
       " Median :19.628   Median :20.001   Median :19.943   Median :18.168  \n",
       " Mean   :21.873   Mean   :21.523   Mean   :21.825   Mean   :20.638  \n",
       " 3rd Qu.:28.375   3rd Qu.:26.888   3rd Qu.:27.673   3rd Qu.:24.625  \n",
       " Max.   :54.940   Max.   :47.012   Max.   :59.663   Max.   :89.385  \n",
       "                                                                    \n",
       "  X221972_s_at      X211085_s_at      X206629_at       X64432_at      \n",
       " Min.   :  2.784   Min.   : 3.356   Min.   : 8.148   Min.   :  5.093  \n",
       " 1st Qu.:  7.157   1st Qu.: 9.614   1st Qu.:16.732   1st Qu.: 11.613  \n",
       " Median : 13.688   Median :16.334   Median :21.470   Median : 16.011  \n",
       " Mean   : 21.831   Mean   :21.882   Mean   :21.961   Mean   : 25.387  \n",
       " 3rd Qu.: 27.908   3rd Qu.:30.320   3rd Qu.:26.899   3rd Qu.: 28.035  \n",
       " Max.   :104.876   Max.   :81.445   Max.   :36.309   Max.   :449.020  \n",
       "                                                                      \n",
       "  X213964_x_at      X218744_s_at     X207750_at       X214781_at     \n",
       " Min.   :  8.356   Min.   :10.19   Min.   : 3.617   Min.   :  9.566  \n",
       " 1st Qu.: 13.393   1st Qu.:16.16   1st Qu.:13.180   1st Qu.: 16.654  \n",
       " Median : 19.074   Median :19.43   Median :19.585   Median : 20.356  \n",
       " Mean   : 26.913   Mean   :20.65   Mean   :22.377   Mean   : 23.857  \n",
       " 3rd Qu.: 26.569   3rd Qu.:24.42   3rd Qu.:28.116   3rd Qu.: 28.385  \n",
       " Max.   :402.278   Max.   :47.47   Max.   :65.446   Max.   :123.447  \n",
       "                                                                     \n",
       "  X204456_s_at     X211351_at       X206480_at      X210000_s_at    \n",
       " Min.   : 9.32   Min.   : 5.906   Min.   :  8.21   Min.   :  3.480  \n",
       " 1st Qu.:15.49   1st Qu.:10.232   1st Qu.: 15.62   1st Qu.:  9.935  \n",
       " Median :22.24   Median :17.411   Median : 20.87   Median : 16.245  \n",
       " Mean   :23.23   Mean   :21.988   Mean   : 32.68   Mean   : 24.638  \n",
       " 3rd Qu.:29.81   3rd Qu.:29.916   3rd Qu.: 26.27   3rd Qu.: 33.439  \n",
       " Max.   :49.76   Max.   :83.698   Max.   :839.63   Max.   :150.049  \n",
       "                                                                    \n",
       "   X220480_at       X210919_at       X204238_s_at      X215474_at    \n",
       " Min.   : 8.313   Min.   :  8.337   Min.   : 6.191   Min.   : 5.778  \n",
       " 1st Qu.:17.717   1st Qu.: 15.112   1st Qu.:12.855   1st Qu.:12.694  \n",
       " Median :21.940   Median : 21.050   Median :21.103   Median :17.216  \n",
       " Mean   :23.644   Mean   : 31.706   Mean   :21.318   Mean   :21.797  \n",
       " 3rd Qu.:29.325   3rd Qu.: 31.726   3rd Qu.:26.975   3rd Qu.:27.179  \n",
       " Max.   :48.640   Max.   :218.334   Max.   :63.842   Max.   :81.483  \n",
       "                                                                     \n",
       "   X214887_at      X204737_s_at       X204390_at      X206317_s_at   \n",
       " Min.   : 7.145   Min.   :  4.989   Min.   : 8.155   Min.   : 8.433  \n",
       " 1st Qu.:14.999   1st Qu.: 15.890   1st Qu.:15.683   1st Qu.:15.267  \n",
       " Median :23.908   Median : 22.293   Median :24.913   Median :19.961  \n",
       " Mean   :24.148   Mean   : 26.739   Mean   :24.522   Mean   :22.283  \n",
       " 3rd Qu.:30.713   3rd Qu.: 31.265   3rd Qu.:31.637   3rd Qu.:26.130  \n",
       " Max.   :78.044   Max.   :119.227   Max.   :54.480   Max.   :85.909  \n",
       "                                                                     \n",
       "  X206884_s_at     X214590_s_at      X211017_s_at      X218602_s_at    \n",
       " Min.   : 6.228   Min.   :  5.542   Min.   :  9.346   Min.   :  6.317  \n",
       " 1st Qu.:11.073   1st Qu.: 15.209   1st Qu.: 15.405   1st Qu.: 11.956  \n",
       " Median :16.665   Median : 22.347   Median : 20.389   Median : 16.421  \n",
       " Mean   :22.557   Mean   : 25.969   Mean   : 24.215   Mean   : 26.451  \n",
       " 3rd Qu.:26.078   3rd Qu.: 31.443   3rd Qu.: 27.898   3rd Qu.: 28.713  \n",
       " Max.   :99.273   Max.   :127.741   Max.   :138.472   Max.   :296.080  \n",
       "                                                                       \n",
       "  X213042_s_at    X211083_s_at     X207723_s_at     X205314_x_at  \n",
       " Min.   :11.62   Min.   : 7.635   Min.   : 6.105   Min.   : 9.87  \n",
       " 1st Qu.:16.78   1st Qu.:14.943   1st Qu.:15.555   1st Qu.:17.90  \n",
       " Median :24.22   Median :22.695   Median :23.008   Median :23.08  \n",
       " Mean   :24.70   Mean   :28.539   Mean   :24.831   Mean   :25.33  \n",
       " 3rd Qu.:30.89   3rd Qu.:39.244   3rd Qu.:29.531   3rd Qu.:29.73  \n",
       " Max.   :48.73   Max.   :86.320   Max.   :68.910   Max.   :79.79  \n",
       "                                                                  \n",
       "   X220259_at      X211102_s_at     X208133_at       X214346_at    \n",
       " Min.   : 6.455   Min.   :12.15   Min.   : 9.711   Min.   : 9.014  \n",
       " 1st Qu.:16.149   1st Qu.:19.86   1st Qu.:19.646   1st Qu.:15.482  \n",
       " Median :22.948   Median :26.10   Median :23.179   Median :22.721  \n",
       " Mean   :24.091   Mean   :26.70   Mean   :24.858   Mean   :24.384  \n",
       " 3rd Qu.:30.642   3rd Qu.:31.78   3rd Qu.:29.130   3rd Qu.:30.828  \n",
       " Max.   :55.721   Max.   :56.73   Max.   :51.985   Max.   :52.074  \n",
       "                                                                   \n",
       "   X60815_at         X220426_at      X207768_at     X210630_s_at    \n",
       " Min.   :  4.437   Min.   :10.25   Min.   :10.54   Min.   :  7.452  \n",
       " 1st Qu.: 10.393   1st Qu.:16.94   1st Qu.:17.46   1st Qu.: 14.940  \n",
       " Median : 18.285   Median :24.32   Median :23.08   Median : 23.704  \n",
       " Mean   : 23.912   Mean   :26.42   Mean   :25.46   Mean   : 32.072  \n",
       " 3rd Qu.: 27.697   3rd Qu.:35.01   3rd Qu.:32.64   3rd Qu.: 39.817  \n",
       " Max.   :143.988   Max.   :70.02   Max.   :49.58   Max.   :185.327  \n",
       "                                                                    \n",
       "  X208480_s_at     X211556_at       X220812_s_at     X210364_at    \n",
       " Min.   :11.90   Min.   :  6.551   Min.   : 7.43   Min.   : 9.903  \n",
       " 1st Qu.:20.24   1st Qu.: 12.864   1st Qu.:14.96   1st Qu.:18.191  \n",
       " Median :25.49   Median : 18.529   Median :21.17   Median :24.284  \n",
       " Mean   :26.65   Mean   : 26.094   Mean   :26.11   Mean   :25.240  \n",
       " 3rd Qu.:32.37   3rd Qu.: 31.896   3rd Qu.:36.72   3rd Qu.:31.985  \n",
       " Max.   :57.14   Max.   :147.334   Max.   :73.42   Max.   :46.281  \n",
       "                                                                   \n",
       "   X220579_at        X217366_at        X215231_at      X212065_s_at  \n",
       " Min.   :  6.132   Min.   :  8.548   Min.   :  7.40   Min.   :10.49  \n",
       " 1st Qu.: 14.371   1st Qu.: 17.681   1st Qu.: 15.85   1st Qu.:16.20  \n",
       " Median : 21.661   Median : 23.398   Median : 23.72   Median :23.66  \n",
       " Mean   : 26.674   Mean   : 26.992   Mean   : 28.11   Mean   :26.91  \n",
       " 3rd Qu.: 33.152   3rd Qu.: 34.368   3rd Qu.: 37.62   3rd Qu.:36.67  \n",
       " Max.   :102.930   Max.   :121.492   Max.   :152.08   Max.   :59.76  \n",
       "                                                                     \n",
       "   X214468_at      X214269_at      X208461_at        X220527_at    \n",
       " Min.   : 7.74   Min.   :13.01   Min.   :  7.142   Min.   : 10.74  \n",
       " 1st Qu.:13.79   1st Qu.:20.27   1st Qu.: 17.233   1st Qu.: 16.44  \n",
       " Median :21.43   Median :26.36   Median : 22.976   Median : 24.76  \n",
       " Mean   :26.47   Mean   :26.99   Mean   : 27.560   Mean   : 27.48  \n",
       " 3rd Qu.:34.52   3rd Qu.:31.11   3rd Qu.: 33.882   3rd Qu.: 34.92  \n",
       " Max.   :88.54   Max.   :62.67   Max.   :165.279   Max.   :100.30  \n",
       "                                                                   \n",
       "  X217326_x_at     X210362_x_at     X221231_s_at      X203960_s_at   \n",
       " Min.   : 9.471   Min.   : 10.65   Min.   :  9.949   Min.   : 7.103  \n",
       " 1st Qu.:15.976   1st Qu.: 17.36   1st Qu.: 20.348   1st Qu.:15.691  \n",
       " Median :24.500   Median : 26.45   Median : 28.203   Median :23.378  \n",
       " Mean   :28.122   Mean   : 30.48   Mean   : 31.733   Mean   :27.221  \n",
       " 3rd Qu.:32.557   3rd Qu.: 33.93   3rd Qu.: 39.563   3rd Qu.:33.727  \n",
       " Max.   :87.229   Max.   :275.09   Max.   :123.951   Max.   :68.905  \n",
       "                                                                     \n",
       "  X214406_s_at     X204816_s_at     X207918_s_at      X215294_s_at   \n",
       " Min.   : 9.667   Min.   : 9.281   Min.   :  3.457   Min.   : 5.572  \n",
       " 1st Qu.:20.195   1st Qu.:15.732   1st Qu.: 12.881   1st Qu.:15.035  \n",
       " Median :27.235   Median :23.615   Median : 24.295   Median :24.144  \n",
       " Mean   :31.000   Mean   :24.942   Mean   : 28.720   Mean   :27.246  \n",
       " 3rd Qu.:39.736   3rd Qu.:30.980   3rd Qu.: 37.692   3rd Qu.:35.712  \n",
       " Max.   :72.603   Max.   :77.441   Max.   :166.377   Max.   :81.540  \n",
       "                                                                     \n",
       "  X206500_s_at      X221417_x_at     X221721_s_at      X214793_at    \n",
       " Min.   :  7.452   Min.   : 6.662   Min.   : 10.59   Min.   : 6.775  \n",
       " 1st Qu.: 15.943   1st Qu.:15.013   1st Qu.: 19.78   1st Qu.:17.400  \n",
       " Median : 27.264   Median :25.076   Median : 26.07   Median :24.290  \n",
       " Mean   : 29.444   Mean   :27.398   Mean   : 31.32   Mean   :27.517  \n",
       " 3rd Qu.: 38.038   3rd Qu.:36.020   3rd Qu.: 35.35   3rd Qu.:32.200  \n",
       " Max.   :102.800   Max.   :80.679   Max.   :236.53   Max.   :91.271  \n",
       "                                                                     \n",
       "  X216940_x_at       X211146_at       X220809_at      X213606_s_at   \n",
       " Min.   :  4.593   Min.   : 8.274   Min.   : 7.768   Min.   : 8.712  \n",
       " 1st Qu.: 10.419   1st Qu.:15.618   1st Qu.:18.117   1st Qu.:15.574  \n",
       " Median : 15.731   Median :23.737   Median :25.813   Median :24.236  \n",
       " Mean   : 29.013   Mean   :29.291   Mean   :30.258   Mean   :28.206  \n",
       " 3rd Qu.: 33.876   3rd Qu.:41.519   3rd Qu.:39.855   3rd Qu.:37.735  \n",
       " Max.   :169.977   Max.   :71.072   Max.   :83.577   Max.   :65.667  \n",
       "                                                                     \n",
       "   X210575_at       X217475_s_at      X205309_at      X221576_at   \n",
       " Min.   :  4.474   Min.   : 8.397   Min.   :10.78   Min.   :10.94  \n",
       " 1st Qu.: 18.160   1st Qu.:18.025   1st Qu.:20.53   1st Qu.:19.41  \n",
       " Median : 26.316   Median :25.310   Median :25.72   Median :26.94  \n",
       " Mean   : 29.471   Mean   :28.538   Mean   :27.98   Mean   :29.35  \n",
       " 3rd Qu.: 38.506   3rd Qu.:38.370   3rd Qu.:34.32   3rd Qu.:35.34  \n",
       " Max.   :107.426   Max.   :58.369   Max.   :71.92   Max.   :84.37  \n",
       "                                                                   \n",
       "   X216588_at        X209922_at     X210206_s_at    X208356_x_at  \n",
       " Min.   :  8.956   Min.   :10.86   Min.   :12.00   Min.   :12.75  \n",
       " 1st Qu.: 17.982   1st Qu.:20.55   1st Qu.:18.66   1st Qu.:22.14  \n",
       " Median : 27.914   Median :26.89   Median :26.72   Median :30.09  \n",
       " Mean   : 34.554   Mean   :30.65   Mean   :29.79   Mean   :31.52  \n",
       " 3rd Qu.: 41.861   3rd Qu.:39.11   3rd Qu.:35.90   3rd Qu.:39.10  \n",
       " Max.   :314.184   Max.   :76.67   Max.   :73.69   Max.   :71.93  \n",
       "                                                                  \n",
       "  X214890_s_at      X204936_at     X214130_s_at      X211363_s_at    \n",
       " Min.   : 9.938   Min.   :13.22   Min.   :  2.884   Min.   :  9.015  \n",
       " 1st Qu.:18.201   1st Qu.:20.42   1st Qu.:  7.463   1st Qu.: 17.526  \n",
       " Median :27.670   Median :26.40   Median : 12.848   Median : 27.032  \n",
       " Mean   :32.028   Mean   :29.35   Mean   : 23.851   Mean   : 29.914  \n",
       " 3rd Qu.:43.515   3rd Qu.:38.10   3rd Qu.: 25.090   3rd Qu.: 34.967  \n",
       " Max.   :81.398   Max.   :55.74   Max.   :182.193   Max.   :132.989  \n",
       "                                                                     \n",
       "   X220247_at      X204399_s_at     X203942_s_at      X215937_at    \n",
       " Min.   : 7.686   Min.   : 8.869   Min.   : 6.447   Min.   : 11.90  \n",
       " 1st Qu.:17.357   1st Qu.:16.935   1st Qu.:17.196   1st Qu.: 20.66  \n",
       " Median :24.988   Median :24.114   Median :24.489   Median : 28.24  \n",
       " Mean   :29.628   Mean   :28.250   Mean   :27.591   Mean   : 31.25  \n",
       " 3rd Qu.:34.746   3rd Qu.:36.579   3rd Qu.:34.584   3rd Qu.: 37.40  \n",
       " Max.   :95.662   Max.   :71.224   Max.   :80.992   Max.   :105.38  \n",
       "                                                                    \n",
       "   X204802_at      X207166_at       X202779_s_at      X211833_s_at    \n",
       " Min.   :10.20   Min.   :  6.317   Min.   :  4.928   Min.   :  7.888  \n",
       " 1st Qu.:20.04   1st Qu.: 13.884   1st Qu.: 14.571   1st Qu.: 16.150  \n",
       " Median :27.38   Median : 18.959   Median : 21.699   Median : 25.306  \n",
       " Mean   :31.40   Mean   : 26.528   Mean   : 28.858   Mean   : 29.179  \n",
       " 3rd Qu.:38.29   3rd Qu.: 26.770   3rd Qu.: 35.630   3rd Qu.: 37.185  \n",
       " Max.   :68.71   Max.   :206.922   Max.   :219.260   Max.   :140.003  \n",
       "                                                                      \n",
       "  X205086_s_at      X206418_at        X219759_at      X210546_x_at  \n",
       " Min.   : 10.94   Min.   :  6.635   Min.   : 8.334   Min.   :13.65  \n",
       " 1st Qu.: 20.92   1st Qu.: 17.158   1st Qu.:14.887   1st Qu.:22.41  \n",
       " Median : 29.28   Median : 24.079   Median :23.937   Median :30.72  \n",
       " Mean   : 34.23   Mean   : 30.222   Mean   :28.768   Mean   :31.22  \n",
       " 3rd Qu.: 39.87   3rd Qu.: 39.108   3rd Qu.:37.143   3rd Qu.:37.10  \n",
       " Max.   :113.56   Max.   :107.070   Max.   :98.143   Max.   :72.34  \n",
       "                                                                    \n",
       "  X211788_s_at     X216346_at      X215324_at       X210121_at    \n",
       " Min.   :10.25   Min.   :14.54   Min.   : 7.087   Min.   :  5.58  \n",
       " 1st Qu.:18.99   1st Qu.:21.97   1st Qu.:17.444   1st Qu.: 12.75  \n",
       " Median :26.37   Median :28.67   Median :27.500   Median : 21.46  \n",
       " Mean   :29.47   Mean   :31.09   Mean   :28.932   Mean   : 28.77  \n",
       " 3rd Qu.:36.33   3rd Qu.:37.73   3rd Qu.:38.393   3rd Qu.: 33.46  \n",
       " Max.   :73.68   Max.   :65.72   Max.   :75.752   Max.   :184.16  \n",
       "                                                                  \n",
       "   X206205_at     X217403_s_at    X208010_s_at     X211618_s_at   \n",
       " Min.   :12.46   Min.   : 7.39   Min.   :  7.03   Min.   : 8.134  \n",
       " 1st Qu.:20.66   1st Qu.:20.86   1st Qu.: 19.99   1st Qu.:23.980  \n",
       " Median :28.84   Median :27.78   Median : 29.67   Median :29.908  \n",
       " Mean   :32.28   Mean   :30.14   Mean   : 37.02   Mean   :34.877  \n",
       " 3rd Qu.:42.24   3rd Qu.:36.95   3rd Qu.: 41.59   3rd Qu.:44.299  \n",
       " Max.   :64.60   Max.   :87.24   Max.   :256.13   Max.   :89.001  \n",
       "                                                                  \n",
       "  X217006_x_at     X206517_at     X209261_s_at     X215643_at     \n",
       " Min.   :11.57   Min.   :12.51   Min.   :14.92   Min.   :  7.137  \n",
       " 1st Qu.:20.79   1st Qu.:21.54   1st Qu.:23.59   1st Qu.: 17.970  \n",
       " Median :28.86   Median :27.46   Median :32.32   Median : 26.410  \n",
       " Mean   :29.96   Mean   :31.89   Mean   :32.68   Mean   : 32.418  \n",
       " 3rd Qu.:37.09   3rd Qu.:38.87   3rd Qu.:38.45   3rd Qu.: 36.526  \n",
       " Max.   :81.34   Max.   :69.39   Max.   :90.14   Max.   :264.828  \n",
       "                                                                  \n",
       "  X219663_s_at      X213961_s_at     X202083_s_at      X222255_at     \n",
       " Min.   :  9.893   Min.   : 11.53   Min.   : 10.61   Min.   :  6.697  \n",
       " 1st Qu.: 20.372   1st Qu.: 21.37   1st Qu.: 21.57   1st Qu.: 16.767  \n",
       " Median : 31.191   Median : 32.59   Median : 30.00   Median : 26.779  \n",
       " Mean   : 34.171   Mean   : 35.25   Mean   : 32.11   Mean   : 31.921  \n",
       " 3rd Qu.: 42.919   3rd Qu.: 43.73   3rd Qu.: 40.01   3rd Qu.: 44.067  \n",
       " Max.   :110.787   Max.   :139.42   Max.   :138.62   Max.   :140.243  \n",
       "                                                                      \n",
       "   X216829_at     X214487_s_at      X206980_s_at    X210350_x_at  \n",
       " Min.   :10.39   Min.   :  8.435   Min.   :10.80   Min.   : 7.33  \n",
       " 1st Qu.:17.26   1st Qu.: 19.175   1st Qu.:17.75   1st Qu.:18.70  \n",
       " Median :27.51   Median : 28.470   Median :28.57   Median :29.02  \n",
       " Mean   :29.85   Mean   : 31.499   Mean   :33.49   Mean   :32.24  \n",
       " 3rd Qu.:37.54   3rd Qu.: 38.612   3rd Qu.:45.09   3rd Qu.:40.68  \n",
       " Max.   :71.95   Max.   :106.586   Max.   :94.79   Max.   :87.53  \n",
       "                                                                  \n",
       "  X219047_s_at     X214477_at      X211829_s_at      X220254_at     \n",
       " Min.   :13.37   Min.   :  8.70   Min.   : 12.44   Min.   :  6.084  \n",
       " 1st Qu.:22.76   1st Qu.: 20.02   1st Qu.: 20.31   1st Qu.: 13.636  \n",
       " Median :28.88   Median : 27.52   Median : 28.67   Median : 23.170  \n",
       " Mean   :31.72   Mean   : 33.91   Mean   : 33.53   Mean   : 31.254  \n",
       " 3rd Qu.:39.70   3rd Qu.: 34.52   3rd Qu.: 38.70   3rd Qu.: 36.299  \n",
       " Max.   :60.64   Max.   :276.33   Max.   :136.43   Max.   :185.432  \n",
       "                                                                    \n",
       "   X214977_at      X205224_at      X205177_at     X221968_s_at  \n",
       " Min.   :15.20   Min.   :13.90   Min.   :12.63   Min.   :11.06  \n",
       " 1st Qu.:24.19   1st Qu.:25.98   1st Qu.:22.23   1st Qu.:22.94  \n",
       " Median :32.18   Median :32.67   Median :31.44   Median :32.06  \n",
       " Mean   :32.72   Mean   :33.27   Mean   :32.69   Mean   :32.84  \n",
       " 3rd Qu.:38.39   3rd Qu.:39.39   3rd Qu.:39.39   3rd Qu.:39.53  \n",
       " Max.   :62.29   Max.   :72.79   Max.   :93.76   Max.   :65.01  \n",
       "                                                                \n",
       "   X216136_at       X206709_x_at    X209769_s_at     X217125_at   \n",
       " Min.   :  7.151   Min.   :11.39   Min.   :12.78   Min.   :10.60  \n",
       " 1st Qu.: 13.933   1st Qu.:20.07   1st Qu.:23.23   1st Qu.:21.41  \n",
       " Median : 22.220   Median :26.50   Median :30.99   Median :34.43  \n",
       " Mean   : 28.026   Mean   :30.55   Mean   :32.55   Mean   :34.02  \n",
       " 3rd Qu.: 34.362   3rd Qu.:41.07   3rd Qu.:40.02   3rd Qu.:42.91  \n",
       " Max.   :227.201   Max.   :88.41   Max.   :59.50   Max.   :77.82  \n",
       "                                                                  \n",
       "   X215666_at       X37079_at         X204886_at      AFFX.r2.Bs.dap.5_at\n",
       " Min.   : 8.966   Min.   :  6.993   Min.   :  7.282   Min.   : 8.797     \n",
       " 1st Qu.:18.764   1st Qu.: 17.886   1st Qu.: 21.747   1st Qu.:19.150     \n",
       " Median :27.545   Median : 24.397   Median : 29.300   Median :27.134     \n",
       " Mean   :32.717   Mean   : 33.438   Mean   : 38.255   Mean   :32.432     \n",
       " 3rd Qu.:45.400   3rd Qu.: 47.469   3rd Qu.: 40.225   3rd Qu.:42.821     \n",
       " Max.   :76.190   Max.   :132.572   Max.   :467.778   Max.   :70.754     \n",
       "                                                                         \n",
       "   X207852_at       X215741_x_at     X215457_at        X205045_at     \n",
       " Min.   :  8.505   Min.   :16.13   Min.   :  4.982   Min.   :  8.307  \n",
       " 1st Qu.: 16.790   1st Qu.:23.34   1st Qu.: 18.533   1st Qu.: 18.458  \n",
       " Median : 20.896   Median :29.38   Median : 28.524   Median : 26.751  \n",
       " Mean   : 31.976   Mean   :33.00   Mean   : 34.985   Mean   : 36.184  \n",
       " 3rd Qu.: 36.785   3rd Qu.:40.20   3rd Qu.: 46.624   3rd Qu.: 39.519  \n",
       " Max.   :275.168   Max.   :62.50   Max.   :191.860   Max.   :190.345  \n",
       "                                                                      \n",
       "   X207437_at       X219608_s_at      X217303_s_at    X217238_s_at   \n",
       " Min.   :  1.765   Min.   :  6.122   Min.   :12.65   Min.   : 10.87  \n",
       " 1st Qu.: 13.733   1st Qu.: 19.637   1st Qu.:20.92   1st Qu.: 24.79  \n",
       " Median : 24.597   Median : 29.343   Median :32.84   Median : 30.37  \n",
       " Mean   : 47.724   Mean   : 33.035   Mean   :32.52   Mean   : 41.21  \n",
       " 3rd Qu.: 45.959   3rd Qu.: 43.873   3rd Qu.:42.14   3rd Qu.: 40.75  \n",
       " Max.   :589.857   Max.   :107.452   Max.   :63.83   Max.   :525.87  \n",
       "                                                                     \n",
       "  X216768_x_at     X214522_x_at     X222085_at      X220582_at     \n",
       " Min.   : 14.13   Min.   :10.90   Min.   :13.32   Min.   :  8.194  \n",
       " 1st Qu.: 24.62   1st Qu.:20.60   1st Qu.:22.65   1st Qu.: 19.328  \n",
       " Median : 32.13   Median :27.44   Median :32.88   Median : 32.863  \n",
       " Mean   : 37.51   Mean   :30.80   Mean   :36.38   Mean   : 39.210  \n",
       " 3rd Qu.: 42.98   3rd Qu.:36.96   3rd Qu.:46.82   3rd Qu.: 53.547  \n",
       " Max.   :161.24   Max.   :76.32   Max.   :91.54   Max.   :127.567  \n",
       "                                                                   \n",
       "  X211517_s_at    X213868_s_at     X220919_s_at     X221920_s_at  \n",
       " Min.   :13.61   Min.   : 9.624   Min.   : 12.72   Min.   :12.54  \n",
       " 1st Qu.:23.13   1st Qu.:18.916   1st Qu.: 21.13   1st Qu.:21.61  \n",
       " Median :32.41   Median :31.299   Median : 28.73   Median :28.43  \n",
       " Mean   :34.06   Mean   :33.375   Mean   : 33.36   Mean   :34.12  \n",
       " 3rd Qu.:43.49   3rd Qu.:45.914   3rd Qu.: 41.60   3rd Qu.:43.37  \n",
       " Max.   :70.80   Max.   :76.677   Max.   :123.53   Max.   :84.27  \n",
       "                                                                  \n",
       "   X217069_at      X211187_at      X213987_s_at    X206832_s_at   \n",
       " Min.   :11.16   Min.   : 11.25   Min.   :13.48   Min.   : 13.01  \n",
       " 1st Qu.:27.20   1st Qu.: 20.49   1st Qu.:25.85   1st Qu.: 25.54  \n",
       " Median :33.04   Median : 29.58   Median :31.52   Median : 33.67  \n",
       " Mean   :33.65   Mean   : 34.98   Mean   :34.79   Mean   : 44.38  \n",
       " 3rd Qu.:38.68   3rd Qu.: 43.66   3rd Qu.:43.14   3rd Qu.: 47.15  \n",
       " Max.   :70.57   Max.   :145.32   Max.   :74.90   Max.   :310.32  \n",
       "                                                                  \n",
       "   X220004_at     X207640_x_at    X204961_s_at    X202285_s_at   \n",
       " Min.   :13.08   Min.   :11.24   Min.   :11.54   Min.   : 14.49  \n",
       " 1st Qu.:20.48   1st Qu.:23.93   1st Qu.:25.28   1st Qu.: 22.00  \n",
       " Median :29.87   Median :31.46   Median :34.78   Median : 29.97  \n",
       " Mean   :35.64   Mean   :34.45   Mean   :34.89   Mean   : 33.02  \n",
       " 3rd Qu.:45.32   3rd Qu.:41.11   3rd Qu.:42.88   3rd Qu.: 38.62  \n",
       " Max.   :86.44   Max.   :95.42   Max.   :80.96   Max.   :109.17  \n",
       "                                                                 \n",
       "   X208320_at        X222161_at       X217278_x_at    X216926_s_at    \n",
       " Min.   :  8.271   Min.   :  12.56   Min.   :11.59   Min.   :  7.779  \n",
       " 1st Qu.: 17.339   1st Qu.:  26.12   1st Qu.:23.97   1st Qu.: 20.398  \n",
       " Median : 31.371   Median :  42.13   Median :35.46   Median : 29.890  \n",
       " Mean   : 34.229   Mean   :  89.57   Mean   :35.60   Mean   : 37.652  \n",
       " 3rd Qu.: 41.345   3rd Qu.:  70.91   3rd Qu.:44.09   3rd Qu.: 48.501  \n",
       " Max.   :112.529   Max.   :1028.67   Max.   :74.76   Max.   :229.753  \n",
       "                                                                      \n",
       "   X216314_at        X211642_at       X213580_at        X204162_at     \n",
       " Min.   :  7.307   Min.   : 14.16   Min.   :  5.979   Min.   :  5.476  \n",
       " 1st Qu.: 17.478   1st Qu.: 26.65   1st Qu.: 20.322   1st Qu.: 14.122  \n",
       " Median : 28.664   Median : 34.65   Median : 33.238   Median : 23.762  \n",
       " Mean   : 43.602   Mean   : 39.27   Mean   : 37.225   Mean   : 52.604  \n",
       " 3rd Qu.: 55.071   3rd Qu.: 44.01   3rd Qu.: 47.502   3rd Qu.: 44.649  \n",
       " Max.   :295.230   Max.   :112.11   Max.   :168.229   Max.   :575.632  \n",
       "                                                                       \n",
       "   X32088_at        X214165_s_at    X204286_s_at      X201083_s_at    \n",
       " Min.   :  7.358   Min.   :12.67   Min.   :  6.165   Min.   :  4.285  \n",
       " 1st Qu.: 15.486   1st Qu.:19.28   1st Qu.: 19.868   1st Qu.: 12.120  \n",
       " Median : 22.337   Median :26.70   Median : 29.198   Median : 21.029  \n",
       " Mean   : 30.853   Mean   :30.67   Mean   : 55.050   Mean   : 48.599  \n",
       " 3rd Qu.: 34.584   3rd Qu.:37.31   3rd Qu.: 43.891   3rd Qu.: 47.673  \n",
       " Max.   :138.206   Max.   :72.80   Max.   :800.078   Max.   :460.020  \n",
       "                                                                      \n",
       "  X217452_s_at       X205819_at      X219003_s_at      X214712_at     \n",
       " Min.   :  3.043   Min.   : 11.16   Min.   :  8.33   Min.   :  4.054  \n",
       " 1st Qu.: 10.024   1st Qu.: 19.44   1st Qu.: 20.99   1st Qu.: 12.888  \n",
       " Median : 16.534   Median : 27.33   Median : 32.53   Median : 18.977  \n",
       " Mean   : 33.273   Mean   : 38.48   Mean   : 38.12   Mean   : 34.887  \n",
       " 3rd Qu.: 31.836   3rd Qu.: 35.33   3rd Qu.: 43.36   3rd Qu.: 41.999  \n",
       " Max.   :275.978   Max.   :914.85   Max.   :308.10   Max.   :204.406  \n",
       "                                                                      \n",
       "   X201452_at      X220253_s_at       X216278_at        X207204_at     \n",
       " Min.   : 9.776   Min.   :  8.343   Min.   :  6.798   Min.   :  8.002  \n",
       " 1st Qu.:22.006   1st Qu.: 17.669   1st Qu.: 19.367   1st Qu.: 17.354  \n",
       " Median :29.446   Median : 30.433   Median : 29.483   Median : 23.153  \n",
       " Mean   :33.498   Mean   : 34.253   Mean   : 35.122   Mean   : 33.485  \n",
       " 3rd Qu.:42.846   3rd Qu.: 41.399   3rd Qu.: 41.797   3rd Qu.: 38.647  \n",
       " Max.   :79.883   Max.   :220.991   Max.   :135.894   Max.   :170.518  \n",
       "                                                                       \n",
       "   X215172_at        X215599_at        X216533_at       X215300_s_at   \n",
       " Min.   :  9.221   Min.   :  4.237   Min.   :  5.765   Min.   : 10.12  \n",
       " 1st Qu.: 21.145   1st Qu.: 15.437   1st Qu.: 18.452   1st Qu.: 24.24  \n",
       " Median : 28.926   Median : 34.589   Median : 30.274   Median : 31.87  \n",
       " Mean   : 38.139   Mean   : 84.487   Mean   : 34.950   Mean   : 35.46  \n",
       " 3rd Qu.: 55.373   3rd Qu.: 55.847   3rd Qu.: 47.599   3rd Qu.: 39.92  \n",
       " Max.   :138.976   Max.   :843.619   Max.   :116.948   Max.   :112.94  \n",
       "                                                                       \n",
       "  X218863_s_at     X204709_s_at       X218663_at        X214981_at     \n",
       " Min.   : 14.04   Min.   :  6.849   Min.   :  6.719   Min.   :  4.972  \n",
       " 1st Qu.: 23.52   1st Qu.: 24.689   1st Qu.: 26.188   1st Qu.: 18.747  \n",
       " Median : 31.29   Median : 33.171   Median : 34.938   Median : 27.597  \n",
       " Mean   : 35.04   Mean   : 50.117   Mean   : 39.367   Mean   : 47.385  \n",
       " 3rd Qu.: 40.35   3rd Qu.: 52.760   3rd Qu.: 43.103   3rd Qu.: 41.989  \n",
       " Max.   :145.60   Max.   :357.329   Max.   :396.943   Max.   :617.248  \n",
       "                                                                       \n",
       "   X216660_at       X217101_at       X218922_s_at    X203953_s_at    \n",
       " Min.   : 15.81   Min.   :  7.912   Min.   :14.37   Min.   :  9.375  \n",
       " 1st Qu.: 25.69   1st Qu.: 21.140   1st Qu.:23.17   1st Qu.: 18.068  \n",
       " Median : 31.43   Median : 27.680   Median :32.96   Median : 29.362  \n",
       " Mean   : 37.66   Mean   : 35.280   Mean   :35.68   Mean   : 39.621  \n",
       " 3rd Qu.: 44.39   3rd Qu.: 45.875   3rd Qu.:46.64   3rd Qu.: 48.575  \n",
       " Max.   :138.00   Max.   :111.158   Max.   :88.02   Max.   :398.469  \n",
       "                                                                     \n",
       "   X221755_at     X208278_s_at     X207162_s_at      X206824_at    \n",
       " Min.   :10.25   Min.   : 13.30   Min.   : 12.17   Min.   : 13.76  \n",
       " 1st Qu.:22.19   1st Qu.: 25.64   1st Qu.: 23.00   1st Qu.: 25.77  \n",
       " Median :31.26   Median : 33.24   Median : 32.63   Median : 33.47  \n",
       " Mean   :34.97   Mean   : 36.73   Mean   : 41.35   Mean   : 37.85  \n",
       " 3rd Qu.:47.12   3rd Qu.: 43.43   3rd Qu.: 44.17   3rd Qu.: 46.86  \n",
       " Max.   :91.39   Max.   :113.39   Max.   :358.59   Max.   :105.34  \n",
       "                                                                   \n",
       "  X218840_s_at    \n",
       " Min.   :  14.73  \n",
       " 1st Qu.:  26.08  \n",
       " Median :  34.09  \n",
       " Mean   :  59.13  \n",
       " 3rd Qu.:  43.81  \n",
       " Max.   :1944.78  \n",
       "                  "
      ]
     },
     "metadata": {},
     "output_type": "display_data"
    }
   ],
   "source": [
    "#A simple vista no hay valores NA\n",
    "summary(genexp)"
   ]
  },
  {
   "cell_type": "code",
   "execution_count": 4,
   "metadata": {},
   "outputs": [
    {
     "data": {
      "text/html": [
       "482"
      ],
      "text/latex": [
       "482"
      ],
      "text/markdown": [
       "482"
      ],
      "text/plain": [
       "[1] 482"
      ]
     },
     "metadata": {},
     "output_type": "display_data"
    },
    {
     "data": {
      "text/html": [
       "86"
      ],
      "text/latex": [
       "86"
      ],
      "text/markdown": [
       "86"
      ],
      "text/plain": [
       "[1] 86"
      ]
     },
     "metadata": {},
     "output_type": "display_data"
    }
   ],
   "source": [
    "genexp.sina <- na.omit(genexp)\n",
    "ncol(genexp.sina)\n",
    "nrow(genexp.sina)"
   ]
  },
  {
   "cell_type": "markdown",
   "metadata": {},
   "source": [
    "Efecitvamente no hay NA, procedemos a normalizar:"
   ]
  },
  {
   "cell_type": "code",
   "execution_count": 5,
   "metadata": {},
   "outputs": [],
   "source": [
    "#Normalizamos\n",
    "for (i in 2:ncol(genexp[,2:482])) {\n",
    "    mn <- mean(genexp[,i], na.rm=T)\n",
    "    sd <- sd(genexp[,i], na.rm=T)    \n",
    "    genexp[,i]<-(genexp[,i]-mn)/sd\n",
    "}\n"
   ]
  },
  {
   "cell_type": "code",
   "execution_count": 6,
   "metadata": {},
   "outputs": [
    {
     "data": {
      "text/html": [
       "<table>\n",
       "<thead><tr><th scope=col>X</th><th scope=col>X212284_x_at</th><th scope=col>X212869_x_at</th><th scope=col>X213614_x_at</th><th scope=col>X212391_x_at</th><th scope=col>X201257_x_at</th><th scope=col>AFFX.hum_alu_at</th><th scope=col>X206559_x_at</th><th scope=col>X214003_x_at</th><th scope=col>X208755_x_at</th><th scope=col>⋯</th><th scope=col>X214981_at</th><th scope=col>X216660_at</th><th scope=col>X217101_at</th><th scope=col>X218922_s_at</th><th scope=col>X203953_s_at</th><th scope=col>X221755_at</th><th scope=col>X208278_s_at</th><th scope=col>X207162_s_at</th><th scope=col>X206824_at</th><th scope=col>X218840_s_at</th></tr></thead>\n",
       "<tbody>\n",
       "\t<tr><td>Normal.BC0043N</td><td>-0.6068573    </td><td>-1.02303975   </td><td>-0.5878681    </td><td>-0.70458754   </td><td>-0.4870628    </td><td>-0.5981818    </td><td>-1.0468240    </td><td>-1.11345722   </td><td>-0.1731209    </td><td>⋯             </td><td>-0.4348964    </td><td>-0.3480473    </td><td>-0.4267964    </td><td>-0.3357943    </td><td>-0.5709978    </td><td>-0.6923526    </td><td>-0.4120570    </td><td>-0.4092972    </td><td> 1.5176937    </td><td>25.5825       </td></tr>\n",
       "\t<tr><td>Cancer.BC0043T</td><td>-0.1727236    </td><td> 0.04000518   </td><td>-0.1604944    </td><td> 0.08466742   </td><td> 0.2924008    </td><td>-0.3718649    </td><td>-0.1419996    </td><td>-0.04807841   </td><td>-0.2977776    </td><td>⋯             </td><td>-0.3913809    </td><td> 0.9775076    </td><td>-0.9261639    </td><td>-1.4005432    </td><td>-0.5360644    </td><td>-0.9679607    </td><td>-1.1016441    </td><td>-0.3465632    </td><td> 0.9096190    </td><td>28.7201       </td></tr>\n",
       "\t<tr><td>Normal.BC0051N</td><td>-0.9472612    </td><td>-1.39421666   </td><td>-0.6030510    </td><td>-0.88556176   </td><td>-0.9046498    </td><td>-0.5548790    </td><td>-0.7514226    </td><td>-1.10737355   </td><td>-0.8967592    </td><td>⋯             </td><td>-0.2695435    </td><td>-0.4443742    </td><td>-0.5773193    </td><td>-0.2305764    </td><td>-0.5211235    </td><td>-0.4658521    </td><td>-0.8190931    </td><td>-0.4677517    </td><td>-0.5667981    </td><td>45.1721       </td></tr>\n",
       "\t<tr><td>Cancer.BC0051T</td><td>-0.6322249    </td><td>-0.57062937   </td><td>-0.6062566    </td><td>-0.37136197   </td><td>-0.4054218    </td><td>-0.2199636    </td><td>-0.5222803    </td><td>-0.85223967   </td><td> 0.0572991    </td><td>⋯             </td><td>-0.1275234    </td><td>-0.3992954    </td><td>-0.7322822    </td><td>-0.9018507    </td><td>-0.2654248    </td><td>-0.5231062    </td><td>-0.5652286    </td><td>-0.5790853    </td><td> 0.2096817    </td><td>25.8667       </td></tr>\n",
       "\t<tr><td>Normal.BC0057N</td><td>-0.6542970    </td><td>-0.74248078   </td><td>-0.9462542    </td><td>-0.71549449   </td><td>-0.8126294    </td><td>-0.5684461    </td><td>-0.7578536    </td><td>-0.52281389   </td><td>-0.7655418    </td><td>⋯             </td><td>-0.1425315    </td><td>-0.4026722    </td><td> 0.5097343    </td><td>-0.2999997    </td><td>-0.1821947    </td><td>-0.1829361    </td><td>-0.4101850    </td><td>-0.4708336    </td><td>-0.1790570    </td><td>35.4706       </td></tr>\n",
       "\t<tr><td>Cancer.BC0057T</td><td>-0.8607874    </td><td>-1.04780538   </td><td>-0.9521076    </td><td>-0.96258861   </td><td>-1.1246744    </td><td>-0.5356547    </td><td>-0.9842660    </td><td>-1.03645556   </td><td>-0.8706110    </td><td>⋯             </td><td>-0.3383983    </td><td> 0.8596355    </td><td> 0.1113232    </td><td>-0.8926497    </td><td> 0.2500582    </td><td>-0.5011580    </td><td>-0.1893422    </td><td>-0.5395743    </td><td>-0.7577187    </td><td>24.8679       </td></tr>\n",
       "</tbody>\n",
       "</table>\n"
      ],
      "text/latex": [
       "\\begin{tabular}{r|llllllllllllllllllllllllllllllllllllllllllllllllllllllllllllllllllllllllllllllllllllllllllllllllllllllllllllllllllllllllllllllllllllllllllllllllllllllllllllllllllllllllllllllllllllllllllllllllllllllllllllllllllllllllllllllllllllllllllllllllllllllllllllllllllllllllllllllllllllllllllllllllllllllllllllllllllllllllllllllllllllllllllllllllllllllllllllllllllllllllllllllllllllllllllllllllllllllllllllllllllllllllllllllllllllllllllllllllllllllllllllllllllllllllllllllllllllllllllllllllll}\n",
       " X & X212284\\_x\\_at & X212869\\_x\\_at & X213614\\_x\\_at & X212391\\_x\\_at & X201257\\_x\\_at & AFFX.hum\\_alu\\_at & X206559\\_x\\_at & X214003\\_x\\_at & X208755\\_x\\_at & ⋯ & X214981\\_at & X216660\\_at & X217101\\_at & X218922\\_s\\_at & X203953\\_s\\_at & X221755\\_at & X208278\\_s\\_at & X207162\\_s\\_at & X206824\\_at & X218840\\_s\\_at\\\\\n",
       "\\hline\n",
       "\t Normal.BC0043N & -0.6068573     & -1.02303975    & -0.5878681     & -0.70458754    & -0.4870628     & -0.5981818     & -1.0468240     & -1.11345722    & -0.1731209     & ⋯              & -0.4348964     & -0.3480473     & -0.4267964     & -0.3357943     & -0.5709978     & -0.6923526     & -0.4120570     & -0.4092972     &  1.5176937     & 25.5825       \\\\\n",
       "\t Cancer.BC0043T & -0.1727236     &  0.04000518    & -0.1604944     &  0.08466742    &  0.2924008     & -0.3718649     & -0.1419996     & -0.04807841    & -0.2977776     & ⋯              & -0.3913809     &  0.9775076     & -0.9261639     & -1.4005432     & -0.5360644     & -0.9679607     & -1.1016441     & -0.3465632     &  0.9096190     & 28.7201       \\\\\n",
       "\t Normal.BC0051N & -0.9472612     & -1.39421666    & -0.6030510     & -0.88556176    & -0.9046498     & -0.5548790     & -0.7514226     & -1.10737355    & -0.8967592     & ⋯              & -0.2695435     & -0.4443742     & -0.5773193     & -0.2305764     & -0.5211235     & -0.4658521     & -0.8190931     & -0.4677517     & -0.5667981     & 45.1721       \\\\\n",
       "\t Cancer.BC0051T & -0.6322249     & -0.57062937    & -0.6062566     & -0.37136197    & -0.4054218     & -0.2199636     & -0.5222803     & -0.85223967    &  0.0572991     & ⋯              & -0.1275234     & -0.3992954     & -0.7322822     & -0.9018507     & -0.2654248     & -0.5231062     & -0.5652286     & -0.5790853     &  0.2096817     & 25.8667       \\\\\n",
       "\t Normal.BC0057N & -0.6542970     & -0.74248078    & -0.9462542     & -0.71549449    & -0.8126294     & -0.5684461     & -0.7578536     & -0.52281389    & -0.7655418     & ⋯              & -0.1425315     & -0.4026722     &  0.5097343     & -0.2999997     & -0.1821947     & -0.1829361     & -0.4101850     & -0.4708336     & -0.1790570     & 35.4706       \\\\\n",
       "\t Cancer.BC0057T & -0.8607874     & -1.04780538    & -0.9521076     & -0.96258861    & -1.1246744     & -0.5356547     & -0.9842660     & -1.03645556    & -0.8706110     & ⋯              & -0.3383983     &  0.8596355     &  0.1113232     & -0.8926497     &  0.2500582     & -0.5011580     & -0.1893422     & -0.5395743     & -0.7577187     & 24.8679       \\\\\n",
       "\\end{tabular}\n"
      ],
      "text/markdown": [
       "\n",
       "X | X212284_x_at | X212869_x_at | X213614_x_at | X212391_x_at | X201257_x_at | AFFX.hum_alu_at | X206559_x_at | X214003_x_at | X208755_x_at | ⋯ | X214981_at | X216660_at | X217101_at | X218922_s_at | X203953_s_at | X221755_at | X208278_s_at | X207162_s_at | X206824_at | X218840_s_at | \n",
       "|---|---|---|---|---|---|\n",
       "| Normal.BC0043N | -0.6068573     | -1.02303975    | -0.5878681     | -0.70458754    | -0.4870628     | -0.5981818     | -1.0468240     | -1.11345722    | -0.1731209     | ⋯              | -0.4348964     | -0.3480473     | -0.4267964     | -0.3357943     | -0.5709978     | -0.6923526     | -0.4120570     | -0.4092972     |  1.5176937     | 25.5825        | \n",
       "| Cancer.BC0043T | -0.1727236     |  0.04000518    | -0.1604944     |  0.08466742    |  0.2924008     | -0.3718649     | -0.1419996     | -0.04807841    | -0.2977776     | ⋯              | -0.3913809     |  0.9775076     | -0.9261639     | -1.4005432     | -0.5360644     | -0.9679607     | -1.1016441     | -0.3465632     |  0.9096190     | 28.7201        | \n",
       "| Normal.BC0051N | -0.9472612     | -1.39421666    | -0.6030510     | -0.88556176    | -0.9046498     | -0.5548790     | -0.7514226     | -1.10737355    | -0.8967592     | ⋯              | -0.2695435     | -0.4443742     | -0.5773193     | -0.2305764     | -0.5211235     | -0.4658521     | -0.8190931     | -0.4677517     | -0.5667981     | 45.1721        | \n",
       "| Cancer.BC0051T | -0.6322249     | -0.57062937    | -0.6062566     | -0.37136197    | -0.4054218     | -0.2199636     | -0.5222803     | -0.85223967    |  0.0572991     | ⋯              | -0.1275234     | -0.3992954     | -0.7322822     | -0.9018507     | -0.2654248     | -0.5231062     | -0.5652286     | -0.5790853     |  0.2096817     | 25.8667        | \n",
       "| Normal.BC0057N | -0.6542970     | -0.74248078    | -0.9462542     | -0.71549449    | -0.8126294     | -0.5684461     | -0.7578536     | -0.52281389    | -0.7655418     | ⋯              | -0.1425315     | -0.4026722     |  0.5097343     | -0.2999997     | -0.1821947     | -0.1829361     | -0.4101850     | -0.4708336     | -0.1790570     | 35.4706        | \n",
       "| Cancer.BC0057T | -0.8607874     | -1.04780538    | -0.9521076     | -0.96258861    | -1.1246744     | -0.5356547     | -0.9842660     | -1.03645556    | -0.8706110     | ⋯              | -0.3383983     |  0.8596355     |  0.1113232     | -0.8926497     |  0.2500582     | -0.5011580     | -0.1893422     | -0.5395743     | -0.7577187     | 24.8679        | \n",
       "\n",
       "\n"
      ],
      "text/plain": [
       "  X              X212284_x_at X212869_x_at X213614_x_at X212391_x_at\n",
       "1 Normal.BC0043N -0.6068573   -1.02303975  -0.5878681   -0.70458754 \n",
       "2 Cancer.BC0043T -0.1727236    0.04000518  -0.1604944    0.08466742 \n",
       "3 Normal.BC0051N -0.9472612   -1.39421666  -0.6030510   -0.88556176 \n",
       "4 Cancer.BC0051T -0.6322249   -0.57062937  -0.6062566   -0.37136197 \n",
       "5 Normal.BC0057N -0.6542970   -0.74248078  -0.9462542   -0.71549449 \n",
       "6 Cancer.BC0057T -0.8607874   -1.04780538  -0.9521076   -0.96258861 \n",
       "  X201257_x_at AFFX.hum_alu_at X206559_x_at X214003_x_at X208755_x_at ⋯\n",
       "1 -0.4870628   -0.5981818      -1.0468240   -1.11345722  -0.1731209   ⋯\n",
       "2  0.2924008   -0.3718649      -0.1419996   -0.04807841  -0.2977776   ⋯\n",
       "3 -0.9046498   -0.5548790      -0.7514226   -1.10737355  -0.8967592   ⋯\n",
       "4 -0.4054218   -0.2199636      -0.5222803   -0.85223967   0.0572991   ⋯\n",
       "5 -0.8126294   -0.5684461      -0.7578536   -0.52281389  -0.7655418   ⋯\n",
       "6 -1.1246744   -0.5356547      -0.9842660   -1.03645556  -0.8706110   ⋯\n",
       "  X214981_at X216660_at X217101_at X218922_s_at X203953_s_at X221755_at\n",
       "1 -0.4348964 -0.3480473 -0.4267964 -0.3357943   -0.5709978   -0.6923526\n",
       "2 -0.3913809  0.9775076 -0.9261639 -1.4005432   -0.5360644   -0.9679607\n",
       "3 -0.2695435 -0.4443742 -0.5773193 -0.2305764   -0.5211235   -0.4658521\n",
       "4 -0.1275234 -0.3992954 -0.7322822 -0.9018507   -0.2654248   -0.5231062\n",
       "5 -0.1425315 -0.4026722  0.5097343 -0.2999997   -0.1821947   -0.1829361\n",
       "6 -0.3383983  0.8596355  0.1113232 -0.8926497    0.2500582   -0.5011580\n",
       "  X208278_s_at X207162_s_at X206824_at X218840_s_at\n",
       "1 -0.4120570   -0.4092972    1.5176937 25.5825     \n",
       "2 -1.1016441   -0.3465632    0.9096190 28.7201     \n",
       "3 -0.8190931   -0.4677517   -0.5667981 45.1721     \n",
       "4 -0.5652286   -0.5790853    0.2096817 25.8667     \n",
       "5 -0.4101850   -0.4708336   -0.1790570 35.4706     \n",
       "6 -0.1893422   -0.5395743   -0.7577187 24.8679     "
      ]
     },
     "metadata": {},
     "output_type": "display_data"
    }
   ],
   "source": [
    "head(genexp)"
   ]
  },
  {
   "cell_type": "code",
   "execution_count": 7,
   "metadata": {},
   "outputs": [
    {
     "data": {
      "image/png": "[encoded data removed]",
      "text/plain": [
       "plot without title"
      ]
     },
     "metadata": {},
     "output_type": "display_data"
    }
   ],
   "source": [
    "boxplot(genexp[,2:100])"
   ]
  },
  {
   "cell_type": "code",
   "execution_count": 8,
   "metadata": {},
   "outputs": [
    {
     "data": {
      "image/png": "[encoded data removed]",
      "text/plain": [
       "plot without title"
      ]
     },
     "metadata": {},
     "output_type": "display_data"
    }
   ],
   "source": [
    "boxplot(genexp[,101:200])"
   ]
  },
  {
   "cell_type": "code",
   "execution_count": 9,
   "metadata": {},
   "outputs": [
    {
     "data": {
      "image/png": "[encoded data removed]",
      "text/plain": [
       "plot without title"
      ]
     },
     "metadata": {},
     "output_type": "display_data"
    }
   ],
   "source": [
    "boxplot(genexp[,201:300])"
   ]
  },
  {
   "cell_type": "code",
   "execution_count": 10,
   "metadata": {},
   "outputs": [
    {
     "data": {
      "image/png": "[encoded data removed]",
      "text/plain": [
       "plot without title"
      ]
     },
     "metadata": {},
     "output_type": "display_data"
    }
   ],
   "source": [
    "boxplot(genexp[,301:400])"
   ]
  },
  {
   "cell_type": "code",
   "execution_count": 11,
   "metadata": {},
   "outputs": [
    {
     "data": {
      "image/png": "[encoded data removed]",
      "text/plain": [
       "plot without title"
      ]
     },
     "metadata": {},
     "output_type": "display_data"
    }
   ],
   "source": [
    "boxplot(genexp[,401:481])"
   ]
  },
  {
   "cell_type": "code",
   "execution_count": 12,
   "metadata": {},
   "outputs": [
    {
     "data": {
      "image/png": "[encoded data removed]",
      "text/plain": [
       "plot without title"
      ]
     },
     "metadata": {},
     "output_type": "display_data"
    }
   ],
   "source": [
    "boxplot(genexp[,482])"
   ]
  },
  {
   "cell_type": "markdown",
   "metadata": {},
   "source": [
    "Observando los gráficos generados podemos ver que los outliers aumentan aproximadamente en la mitad del rango 201 - 300, y que en concreto en la columa 482 hay un valor que se va bastante. No voy a hacer tratamiento de outliers para esta práctica (ya que no parece que vayan a afectar al resultado), aunque se podrían estudiar estos casos y ver el modelo antes y después de quitar los outliers."
   ]
  },
  {
   "cell_type": "markdown",
   "metadata": {},
   "source": [
    "### Parte 1\n",
    "Realizar un modelo de regresión logistica que sea capaz de, dada la expresión genética de 482 genes realice una predicción de si el tejido es canceroso o no:\n",
    "* Pintar curva ROC\n",
    "* Para un umbral de 0 calcular:\n",
    " * Precisión\n",
    " * F0.5\n",
    " * Exactitud\n",
    " * Exhaustividad\n",
    " * Matriz de confusión\n",
    " "
   ]
  },
  {
   "cell_type": "code",
   "execution_count": 13,
   "metadata": {},
   "outputs": [],
   "source": [
    "for (i in 1:nrow(genexp)) {\n",
    "    genexp$X <- as.factor(ifelse(grepl(\"Cancer*\",genexp$X), \"Cancer\", \"Normal\"))\n",
    "}"
   ]
  },
  {
   "cell_type": "code",
   "execution_count": 14,
   "metadata": {},
   "outputs": [
    {
     "data": {
      "text/html": [
       "<table>\n",
       "<thead><tr><th scope=col>X</th><th scope=col>X212284_x_at</th><th scope=col>X212869_x_at</th><th scope=col>X213614_x_at</th><th scope=col>X212391_x_at</th><th scope=col>X201257_x_at</th><th scope=col>AFFX.hum_alu_at</th><th scope=col>X206559_x_at</th><th scope=col>X214003_x_at</th><th scope=col>X208755_x_at</th><th scope=col>⋯</th><th scope=col>X214981_at</th><th scope=col>X216660_at</th><th scope=col>X217101_at</th><th scope=col>X218922_s_at</th><th scope=col>X203953_s_at</th><th scope=col>X221755_at</th><th scope=col>X208278_s_at</th><th scope=col>X207162_s_at</th><th scope=col>X206824_at</th><th scope=col>X218840_s_at</th></tr></thead>\n",
       "<tbody>\n",
       "\t<tr><td>Normal     </td><td>-0.6068573 </td><td>-1.02303975</td><td>-0.5878681 </td><td>-0.70458754</td><td>-0.4870628 </td><td>-0.5981818 </td><td>-1.0468240 </td><td>-1.11345722</td><td>-0.1731209 </td><td>⋯          </td><td>-0.4348964 </td><td>-0.3480473 </td><td>-0.4267964 </td><td>-0.3357943 </td><td>-0.5709978 </td><td>-0.6923526 </td><td>-0.4120570 </td><td>-0.4092972 </td><td> 1.5176937 </td><td>25.5825    </td></tr>\n",
       "\t<tr><td>Cancer     </td><td>-0.1727236 </td><td> 0.04000518</td><td>-0.1604944 </td><td> 0.08466742</td><td> 0.2924008 </td><td>-0.3718649 </td><td>-0.1419996 </td><td>-0.04807841</td><td>-0.2977776 </td><td>⋯          </td><td>-0.3913809 </td><td> 0.9775076 </td><td>-0.9261639 </td><td>-1.4005432 </td><td>-0.5360644 </td><td>-0.9679607 </td><td>-1.1016441 </td><td>-0.3465632 </td><td> 0.9096190 </td><td>28.7201    </td></tr>\n",
       "\t<tr><td>Normal     </td><td>-0.9472612 </td><td>-1.39421666</td><td>-0.6030510 </td><td>-0.88556176</td><td>-0.9046498 </td><td>-0.5548790 </td><td>-0.7514226 </td><td>-1.10737355</td><td>-0.8967592 </td><td>⋯          </td><td>-0.2695435 </td><td>-0.4443742 </td><td>-0.5773193 </td><td>-0.2305764 </td><td>-0.5211235 </td><td>-0.4658521 </td><td>-0.8190931 </td><td>-0.4677517 </td><td>-0.5667981 </td><td>45.1721    </td></tr>\n",
       "\t<tr><td>Cancer     </td><td>-0.6322249 </td><td>-0.57062937</td><td>-0.6062566 </td><td>-0.37136197</td><td>-0.4054218 </td><td>-0.2199636 </td><td>-0.5222803 </td><td>-0.85223967</td><td> 0.0572991 </td><td>⋯          </td><td>-0.1275234 </td><td>-0.3992954 </td><td>-0.7322822 </td><td>-0.9018507 </td><td>-0.2654248 </td><td>-0.5231062 </td><td>-0.5652286 </td><td>-0.5790853 </td><td> 0.2096817 </td><td>25.8667    </td></tr>\n",
       "\t<tr><td>Normal     </td><td>-0.6542970 </td><td>-0.74248078</td><td>-0.9462542 </td><td>-0.71549449</td><td>-0.8126294 </td><td>-0.5684461 </td><td>-0.7578536 </td><td>-0.52281389</td><td>-0.7655418 </td><td>⋯          </td><td>-0.1425315 </td><td>-0.4026722 </td><td> 0.5097343 </td><td>-0.2999997 </td><td>-0.1821947 </td><td>-0.1829361 </td><td>-0.4101850 </td><td>-0.4708336 </td><td>-0.1790570 </td><td>35.4706    </td></tr>\n",
       "\t<tr><td>Cancer     </td><td>-0.8607874 </td><td>-1.04780538</td><td>-0.9521076 </td><td>-0.96258861</td><td>-1.1246744 </td><td>-0.5356547 </td><td>-0.9842660 </td><td>-1.03645556</td><td>-0.8706110 </td><td>⋯          </td><td>-0.3383983 </td><td> 0.8596355 </td><td> 0.1113232 </td><td>-0.8926497 </td><td> 0.2500582 </td><td>-0.5011580 </td><td>-0.1893422 </td><td>-0.5395743 </td><td>-0.7577187 </td><td>24.8679    </td></tr>\n",
       "</tbody>\n",
       "</table>\n"
      ],
      "text/latex": [
       "\\begin{tabular}{r|llllllllllllllllllllllllllllllllllllllllllllllllllllllllllllllllllllllllllllllllllllllllllllllllllllllllllllllllllllllllllllllllllllllllllllllllllllllllllllllllllllllllllllllllllllllllllllllllllllllllllllllllllllllllllllllllllllllllllllllllllllllllllllllllllllllllllllllllllllllllllllllllllllllllllllllllllllllllllllllllllllllllllllllllllllllllllllllllllllllllllllllllllllllllllllllllllllllllllllllllllllllllllllllllllllllllllllllllllllllllllllllllllllllllllllllllllllllllllllllllll}\n",
       " X & X212284\\_x\\_at & X212869\\_x\\_at & X213614\\_x\\_at & X212391\\_x\\_at & X201257\\_x\\_at & AFFX.hum\\_alu\\_at & X206559\\_x\\_at & X214003\\_x\\_at & X208755\\_x\\_at & ⋯ & X214981\\_at & X216660\\_at & X217101\\_at & X218922\\_s\\_at & X203953\\_s\\_at & X221755\\_at & X208278\\_s\\_at & X207162\\_s\\_at & X206824\\_at & X218840\\_s\\_at\\\\\n",
       "\\hline\n",
       "\t Normal      & -0.6068573  & -1.02303975 & -0.5878681  & -0.70458754 & -0.4870628  & -0.5981818  & -1.0468240  & -1.11345722 & -0.1731209  & ⋯           & -0.4348964  & -0.3480473  & -0.4267964  & -0.3357943  & -0.5709978  & -0.6923526  & -0.4120570  & -0.4092972  &  1.5176937  & 25.5825    \\\\\n",
       "\t Cancer      & -0.1727236  &  0.04000518 & -0.1604944  &  0.08466742 &  0.2924008  & -0.3718649  & -0.1419996  & -0.04807841 & -0.2977776  & ⋯           & -0.3913809  &  0.9775076  & -0.9261639  & -1.4005432  & -0.5360644  & -0.9679607  & -1.1016441  & -0.3465632  &  0.9096190  & 28.7201    \\\\\n",
       "\t Normal      & -0.9472612  & -1.39421666 & -0.6030510  & -0.88556176 & -0.9046498  & -0.5548790  & -0.7514226  & -1.10737355 & -0.8967592  & ⋯           & -0.2695435  & -0.4443742  & -0.5773193  & -0.2305764  & -0.5211235  & -0.4658521  & -0.8190931  & -0.4677517  & -0.5667981  & 45.1721    \\\\\n",
       "\t Cancer      & -0.6322249  & -0.57062937 & -0.6062566  & -0.37136197 & -0.4054218  & -0.2199636  & -0.5222803  & -0.85223967 &  0.0572991  & ⋯           & -0.1275234  & -0.3992954  & -0.7322822  & -0.9018507  & -0.2654248  & -0.5231062  & -0.5652286  & -0.5790853  &  0.2096817  & 25.8667    \\\\\n",
       "\t Normal      & -0.6542970  & -0.74248078 & -0.9462542  & -0.71549449 & -0.8126294  & -0.5684461  & -0.7578536  & -0.52281389 & -0.7655418  & ⋯           & -0.1425315  & -0.4026722  &  0.5097343  & -0.2999997  & -0.1821947  & -0.1829361  & -0.4101850  & -0.4708336  & -0.1790570  & 35.4706    \\\\\n",
       "\t Cancer      & -0.8607874  & -1.04780538 & -0.9521076  & -0.96258861 & -1.1246744  & -0.5356547  & -0.9842660  & -1.03645556 & -0.8706110  & ⋯           & -0.3383983  &  0.8596355  &  0.1113232  & -0.8926497  &  0.2500582  & -0.5011580  & -0.1893422  & -0.5395743  & -0.7577187  & 24.8679    \\\\\n",
       "\\end{tabular}\n"
      ],
      "text/markdown": [
       "\n",
       "X | X212284_x_at | X212869_x_at | X213614_x_at | X212391_x_at | X201257_x_at | AFFX.hum_alu_at | X206559_x_at | X214003_x_at | X208755_x_at | ⋯ | X214981_at | X216660_at | X217101_at | X218922_s_at | X203953_s_at | X221755_at | X208278_s_at | X207162_s_at | X206824_at | X218840_s_at | \n",
       "|---|---|---|---|---|---|\n",
       "| Normal      | -0.6068573  | -1.02303975 | -0.5878681  | -0.70458754 | -0.4870628  | -0.5981818  | -1.0468240  | -1.11345722 | -0.1731209  | ⋯           | -0.4348964  | -0.3480473  | -0.4267964  | -0.3357943  | -0.5709978  | -0.6923526  | -0.4120570  | -0.4092972  |  1.5176937  | 25.5825     | \n",
       "| Cancer      | -0.1727236  |  0.04000518 | -0.1604944  |  0.08466742 |  0.2924008  | -0.3718649  | -0.1419996  | -0.04807841 | -0.2977776  | ⋯           | -0.3913809  |  0.9775076  | -0.9261639  | -1.4005432  | -0.5360644  | -0.9679607  | -1.1016441  | -0.3465632  |  0.9096190  | 28.7201     | \n",
       "| Normal      | -0.9472612  | -1.39421666 | -0.6030510  | -0.88556176 | -0.9046498  | -0.5548790  | -0.7514226  | -1.10737355 | -0.8967592  | ⋯           | -0.2695435  | -0.4443742  | -0.5773193  | -0.2305764  | -0.5211235  | -0.4658521  | -0.8190931  | -0.4677517  | -0.5667981  | 45.1721     | \n",
       "| Cancer      | -0.6322249  | -0.57062937 | -0.6062566  | -0.37136197 | -0.4054218  | -0.2199636  | -0.5222803  | -0.85223967 |  0.0572991  | ⋯           | -0.1275234  | -0.3992954  | -0.7322822  | -0.9018507  | -0.2654248  | -0.5231062  | -0.5652286  | -0.5790853  |  0.2096817  | 25.8667     | \n",
       "| Normal      | -0.6542970  | -0.74248078 | -0.9462542  | -0.71549449 | -0.8126294  | -0.5684461  | -0.7578536  | -0.52281389 | -0.7655418  | ⋯           | -0.1425315  | -0.4026722  |  0.5097343  | -0.2999997  | -0.1821947  | -0.1829361  | -0.4101850  | -0.4708336  | -0.1790570  | 35.4706     | \n",
       "| Cancer      | -0.8607874  | -1.04780538 | -0.9521076  | -0.96258861 | -1.1246744  | -0.5356547  | -0.9842660  | -1.03645556 | -0.8706110  | ⋯           | -0.3383983  |  0.8596355  |  0.1113232  | -0.8926497  |  0.2500582  | -0.5011580  | -0.1893422  | -0.5395743  | -0.7577187  | 24.8679     | \n",
       "\n",
       "\n"
      ],
      "text/plain": [
       "  X      X212284_x_at X212869_x_at X213614_x_at X212391_x_at X201257_x_at\n",
       "1 Normal -0.6068573   -1.02303975  -0.5878681   -0.70458754  -0.4870628  \n",
       "2 Cancer -0.1727236    0.04000518  -0.1604944    0.08466742   0.2924008  \n",
       "3 Normal -0.9472612   -1.39421666  -0.6030510   -0.88556176  -0.9046498  \n",
       "4 Cancer -0.6322249   -0.57062937  -0.6062566   -0.37136197  -0.4054218  \n",
       "5 Normal -0.6542970   -0.74248078  -0.9462542   -0.71549449  -0.8126294  \n",
       "6 Cancer -0.8607874   -1.04780538  -0.9521076   -0.96258861  -1.1246744  \n",
       "  AFFX.hum_alu_at X206559_x_at X214003_x_at X208755_x_at ⋯ X214981_at\n",
       "1 -0.5981818      -1.0468240   -1.11345722  -0.1731209   ⋯ -0.4348964\n",
       "2 -0.3718649      -0.1419996   -0.04807841  -0.2977776   ⋯ -0.3913809\n",
       "3 -0.5548790      -0.7514226   -1.10737355  -0.8967592   ⋯ -0.2695435\n",
       "4 -0.2199636      -0.5222803   -0.85223967   0.0572991   ⋯ -0.1275234\n",
       "5 -0.5684461      -0.7578536   -0.52281389  -0.7655418   ⋯ -0.1425315\n",
       "6 -0.5356547      -0.9842660   -1.03645556  -0.8706110   ⋯ -0.3383983\n",
       "  X216660_at X217101_at X218922_s_at X203953_s_at X221755_at X208278_s_at\n",
       "1 -0.3480473 -0.4267964 -0.3357943   -0.5709978   -0.6923526 -0.4120570  \n",
       "2  0.9775076 -0.9261639 -1.4005432   -0.5360644   -0.9679607 -1.1016441  \n",
       "3 -0.4443742 -0.5773193 -0.2305764   -0.5211235   -0.4658521 -0.8190931  \n",
       "4 -0.3992954 -0.7322822 -0.9018507   -0.2654248   -0.5231062 -0.5652286  \n",
       "5 -0.4026722  0.5097343 -0.2999997   -0.1821947   -0.1829361 -0.4101850  \n",
       "6  0.8596355  0.1113232 -0.8926497    0.2500582   -0.5011580 -0.1893422  \n",
       "  X207162_s_at X206824_at X218840_s_at\n",
       "1 -0.4092972    1.5176937 25.5825     \n",
       "2 -0.3465632    0.9096190 28.7201     \n",
       "3 -0.4677517   -0.5667981 45.1721     \n",
       "4 -0.5790853    0.2096817 25.8667     \n",
       "5 -0.4708336   -0.1790570 35.4706     \n",
       "6 -0.5395743   -0.7577187 24.8679     "
      ]
     },
     "metadata": {},
     "output_type": "display_data"
    }
   ],
   "source": [
    "head(genexp)"
   ]
  },
  {
   "cell_type": "code",
   "execution_count": 15,
   "metadata": {},
   "outputs": [],
   "source": [
    "idx<-sample(1:nrow(genexp),round(nrow(genexp)*0.7))\n",
    "genexp.train <- genexp[ idx,]\n",
    "genexp.test  <- genexp[-idx,]\n",
    "\n",
    "model <- glm(formula=X~.,family=binomial(link='logit'),data=genexp.train)"
   ]
  },
  {
   "cell_type": "code",
   "execution_count": 16,
   "metadata": {},
   "outputs": [
    {
     "data": {
      "text/plain": [
       "\n",
       "Call:\n",
       "glm(formula = X ~ ., family = binomial(link = \"logit\"), data = genexp.train)\n",
       "\n",
       "Deviance Residuals: \n",
       " [1]  0  0  0  0  0  0  0  0  0  0  0  0  0  0  0  0  0  0  0  0  0  0  0  0  0\n",
       "[26]  0  0  0  0  0  0  0  0  0  0  0  0  0  0  0  0  0  0  0  0  0  0  0  0  0\n",
       "[51]  0  0  0  0  0  0  0  0  0  0\n",
       "\n",
       "Coefficients: (422 not defined because of singularities)\n",
       "                          Estimate Std. Error z value Pr(>|z|)\n",
       "(Intercept)              3.361e+00  3.472e+05       0        1\n",
       "X212284_x_at             7.755e+01  1.904e+06       0        1\n",
       "X212869_x_at            -2.653e+02  4.875e+06       0        1\n",
       "X213614_x_at            -1.302e+02  2.385e+06       0        1\n",
       "X212391_x_at             9.819e+00  3.211e+06       0        1\n",
       "X201257_x_at            -3.246e+01  5.116e+06       0        1\n",
       "AFFX.hum_alu_at          8.152e+01  4.414e+06       0        1\n",
       "X206559_x_at            -4.181e-01  1.495e+07       0        1\n",
       "X214003_x_at             1.316e+02  2.666e+06       0        1\n",
       "X208755_x_at            -1.031e+01  8.871e+05       0        1\n",
       "X200062_s_at             1.596e+02  5.819e+06       0        1\n",
       "X201429_s_at             8.975e+01  3.990e+06       0        1\n",
       "X213828_x_at            -3.642e+01  2.367e+06       0        1\n",
       "X200717_x_at             5.929e+01  2.481e+06       0        1\n",
       "X201891_s_at            -1.438e+02  5.255e+06       0        1\n",
       "X213477_x_at            -2.482e+02  4.223e+06       0        1\n",
       "X213080_x_at            -1.340e+02  3.680e+06       0        1\n",
       "X200633_at               7.498e+00  6.219e+05       0        1\n",
       "X200926_at               4.442e+01  9.453e+05       0        1\n",
       "X200933_x_at            -3.575e+01  4.368e+06       0        1\n",
       "X213583_x_at             1.977e+02  1.199e+07       0        1\n",
       "X204892_x_at             1.746e+02  1.612e+06       0        1\n",
       "X201492_s_at            -3.217e+01  1.082e+06       0        1\n",
       "X200095_x_at            -7.887e+01  3.847e+06       0        1\n",
       "X208695_s_at             7.442e+00  2.344e+06       0        1\n",
       "X207783_x_at             8.032e+00  1.962e+06       0        1\n",
       "X71933_at                8.918e+01  1.917e+06       0        1\n",
       "X200016_x_at             1.301e+02  4.410e+06       0        1\n",
       "X200741_s_at            -1.115e+02  2.232e+06       0        1\n",
       "X396_f_at               -3.077e+01  2.688e+06       0        1\n",
       "X213084_x_at             1.376e+01  8.036e+05       0        1\n",
       "X200963_x_at            -4.337e+01  4.307e+06       0        1\n",
       "X200099_s_at            -1.679e+01  2.326e+06       0        1\n",
       "X213356_x_at            -1.178e+02  1.892e+06       0        1\n",
       "X211542_x_at            -1.410e+02  8.098e+06       0        1\n",
       "X213347_x_at             1.197e+02  2.759e+06       0        1\n",
       "X201217_x_at            -3.735e+01  1.115e+06       0        1\n",
       "X200032_s_at             1.290e+02  4.700e+06       0        1\n",
       "X211978_x_at            -4.705e+02  6.234e+06       0        1\n",
       "X201254_x_at            -2.588e+01  1.458e+06       0        1\n",
       "X200817_x_at             3.006e+01  5.036e+06       0        1\n",
       "X33323_r_at             -6.117e+01  1.145e+06       0        1\n",
       "X211378_x_at             2.808e+02  4.774e+06       0        1\n",
       "X217740_x_at             1.490e+01  9.963e+05       0        1\n",
       "X201293_x_at             5.673e+01  5.111e+06       0        1\n",
       "X211073_x_at            -2.492e+01  5.309e+06       0        1\n",
       "X221607_x_at             1.377e+02  1.399e+06       0        1\n",
       "X212661_x_at             2.351e+02  4.548e+06       0        1\n",
       "X208825_x_at            -5.154e+01  1.433e+06       0        1\n",
       "X215076_s_at             3.633e+01  1.112e+06       0        1\n",
       "X213214_x_at             1.135e+01  2.595e+06       0        1\n",
       "X214328_s_at             1.299e+01  1.205e+06       0        1\n",
       "X212039_x_at             8.869e+01  1.525e+06       0        1\n",
       "X201033_x_at            -4.894e+01  1.807e+06       0        1\n",
       "X211970_x_at            -1.022e+02  1.218e+07       0        1\n",
       "X207243_s_at            -9.181e+01  1.392e+06       0        1\n",
       "X201550_x_at            -7.397e+01  8.453e+06       0        1\n",
       "X202088_at              -3.258e+01  1.015e+06       0        1\n",
       "X211983_x_at             1.535e+02  2.710e+06       0        1\n",
       "X200834_s_at             9.716e+00  7.498e+05       0        1\n",
       "X211943_x_at                    NA         NA      NA       NA\n",
       "X202649_x_at                    NA         NA      NA       NA\n",
       "X200763_s_at                    NA         NA      NA       NA\n",
       "X214749_s_at                    NA         NA      NA       NA\n",
       "X212988_x_at                    NA         NA      NA       NA\n",
       "X211765_x_at                    NA         NA      NA       NA\n",
       "X210646_x_at                    NA         NA      NA       NA\n",
       "X208718_at                      NA         NA      NA       NA\n",
       "X201553_s_at                    NA         NA      NA       NA\n",
       "X200092_s_at                    NA         NA      NA       NA\n",
       "X208856_x_at                    NA         NA      NA       NA\n",
       "X219071_x_at                    NA         NA      NA       NA\n",
       "X200809_x_at                    NA         NA      NA       NA\n",
       "X208834_x_at                    NA         NA      NA       NA\n",
       "X200614_at                      NA         NA      NA       NA\n",
       "X200650_s_at                    NA         NA      NA       NA\n",
       "X211720_x_at                    NA         NA      NA       NA\n",
       "X200088_x_at                    NA         NA      NA       NA\n",
       "X213414_s_at                    NA         NA      NA       NA\n",
       "X209134_s_at                    NA         NA      NA       NA\n",
       "X201994_at                      NA         NA      NA       NA\n",
       "X212790_x_at                    NA         NA      NA       NA\n",
       "X201049_s_at                    NA         NA      NA       NA\n",
       "X200958_s_at                    NA         NA      NA       NA\n",
       "X208768_x_at                    NA         NA      NA       NA\n",
       "X214394_x_at                    NA         NA      NA       NA\n",
       "X212042_x_at                    NA         NA      NA       NA\n",
       "X200674_s_at                    NA         NA      NA       NA\n",
       "X200819_s_at                    NA         NA      NA       NA\n",
       "X209001_s_at                    NA         NA      NA       NA\n",
       "X211940_x_at                    NA         NA      NA       NA\n",
       "X201154_x_at                    NA         NA      NA       NA\n",
       "X212363_x_at                    NA         NA      NA       NA\n",
       "X212581_x_at                    NA         NA      NA       NA\n",
       "X213941_x_at                    NA         NA      NA       NA\n",
       "X211345_x_at                    NA         NA      NA       NA\n",
       "X202698_x_at                    NA         NA      NA       NA\n",
       "X215479_at                      NA         NA      NA       NA\n",
       "X211927_x_at                    NA         NA      NA       NA\n",
       "X214327_x_at                    NA         NA      NA       NA\n",
       "X213738_s_at                    NA         NA      NA       NA\n",
       "X200019_s_at                    NA         NA      NA       NA\n",
       "X200807_s_at                    NA         NA      NA       NA\n",
       "X211995_x_at                    NA         NA      NA       NA\n",
       "X221775_x_at                    NA         NA      NA       NA\n",
       "X200006_at                      NA         NA      NA       NA\n",
       "X200944_s_at                    NA         NA      NA       NA\n",
       "X212639_x_at                    NA         NA      NA       NA\n",
       "X214629_x_at                    NA         NA      NA       NA\n",
       "X212788_x_at                    NA         NA      NA       NA\n",
       "X213377_x_at                    NA         NA      NA       NA\n",
       "X216379_x_at                    NA         NA      NA       NA\n",
       "X211956_s_at                    NA         NA      NA       NA\n",
       "X200031_s_at                    NA         NA      NA       NA\n",
       "X213867_x_at                    NA         NA      NA       NA\n",
       "X211296_x_at                    NA         NA      NA       NA\n",
       "X212082_s_at                    NA         NA      NA       NA\n",
       "X209771_x_at                    NA         NA      NA       NA\n",
       "X215157_x_at                    NA         NA      NA       NA\n",
       "X214548_x_at                    NA         NA      NA       NA\n",
       "X215313_x_at                    NA         NA      NA       NA\n",
       "X213588_x_at                    NA         NA      NA       NA\n",
       "X200781_s_at                    NA         NA      NA       NA\n",
       "X200080_s_at                    NA         NA      NA       NA\n",
       "X208635_x_at                    NA         NA      NA       NA\n",
       "X200735_x_at                    NA         NA      NA       NA\n",
       "X217982_s_at                    NA         NA      NA       NA\n",
       "X217733_s_at                    NA         NA      NA       NA\n",
       "X208692_at                      NA         NA      NA       NA\n",
       "X213101_s_at                    NA         NA      NA       NA\n",
       "X211710_x_at                    NA         NA      NA       NA\n",
       "X211945_s_at                    NA         NA      NA       NA\n",
       "X213801_x_at                    NA         NA      NA       NA\n",
       "X200718_s_at                    NA         NA      NA       NA\n",
       "X203107_x_at                    NA         NA      NA       NA\n",
       "X216526_x_at                    NA         NA      NA       NA\n",
       "X200034_s_at                    NA         NA      NA       NA\n",
       "X36888_at                       NA         NA      NA       NA\n",
       "X211628_x_at                    NA         NA      NA       NA\n",
       "X200936_at                      NA         NA      NA       NA\n",
       "X213503_x_at                    NA         NA      NA       NA\n",
       "X212933_x_at                    NA         NA      NA       NA\n",
       "X200705_s_at                    NA         NA      NA       NA\n",
       "X205967_at                      NA         NA      NA       NA\n",
       "X200795_at                      NA         NA      NA       NA\n",
       "X200673_at                      NA         NA      NA       NA\n",
       "X217979_at                      NA         NA      NA       NA\n",
       "X200063_s_at                    NA         NA      NA       NA\n",
       "X200018_at                      NA         NA      NA       NA\n",
       "X208640_at                      NA         NA      NA       NA\n",
       "X208870_x_at                    NA         NA      NA       NA\n",
       "X200025_s_at                    NA         NA      NA       NA\n",
       "X202488_s_at                    NA         NA      NA       NA\n",
       "X217718_s_at                    NA         NA      NA       NA\n",
       "X202029_x_at                    NA         NA      NA       NA\n",
       "X211058_x_at                    NA         NA      NA       NA\n",
       "X220960_x_at                    NA         NA      NA       NA\n",
       "X200015_s_at                    NA         NA      NA       NA\n",
       "X208845_at                      NA         NA      NA       NA\n",
       "X219883_at                      NA         NA      NA       NA\n",
       "X200689_x_at                    NA         NA      NA       NA\n",
       "X211509_s_at                    NA         NA      NA       NA\n",
       "X201358_s_at                    NA         NA      NA       NA\n",
       "X211430_s_at                    NA         NA      NA       NA\n",
       "X208578_at                      NA         NA      NA       NA\n",
       "X211969_at                      NA         NA      NA       NA\n",
       "X210774_s_at                    NA         NA      NA       NA\n",
       "X216442_x_at                    NA         NA      NA       NA\n",
       "X200716_x_at                    NA         NA      NA       NA\n",
       "X210809_s_at                    NA         NA      NA       NA\n",
       "X211161_s_at                    NA         NA      NA       NA\n",
       "X200033_at                      NA         NA      NA       NA\n",
       "AFFX.HSAC07.X00351_3_at         NA         NA      NA       NA\n",
       "X200780_x_at                    NA         NA      NA       NA\n",
       "X218198_at                      NA         NA      NA       NA\n",
       "X213612_x_at                    NA         NA      NA       NA\n",
       "X214938_x_at                    NA         NA      NA       NA\n",
       "X207168_s_at                    NA         NA      NA       NA\n",
       "X200081_s_at                    NA         NA      NA       NA\n",
       "X216438_s_at                    NA         NA      NA       NA\n",
       "X201590_x_at                    NA         NA      NA       NA\n",
       "X200026_at                      NA         NA      NA       NA\n",
       "X214459_x_at                    NA         NA      NA       NA\n",
       "X203083_at                      NA         NA      NA       NA\n",
       "X208812_x_at                    NA         NA      NA       NA\n",
       "X210495_x_at                    NA         NA      NA       NA\n",
       "X213881_x_at                    NA         NA      NA       NA\n",
       "X206861_s_at                    NA         NA      NA       NA\n",
       "X215726_s_at                    NA         NA      NA       NA\n",
       "X202403_s_at                    NA         NA      NA       NA\n",
       "X202404_s_at                    NA         NA      NA       NA\n",
       "X212077_at                      NA         NA      NA       NA\n",
       "X208949_s_at                    NA         NA      NA       NA\n",
       "X211921_x_at                    NA         NA      NA       NA\n",
       "X201022_s_at                    NA         NA      NA       NA\n",
       "X221891_x_at                    NA         NA      NA       NA\n",
       "X218665_at                      NA         NA      NA       NA\n",
       "X202443_x_at                    NA         NA      NA       NA\n",
       "X212433_x_at                    NA         NA      NA       NA\n",
       "X211972_x_at                    NA         NA      NA       NA\n",
       "X212412_at                      NA         NA      NA       NA\n",
       "X203980_at                      NA         NA      NA       NA\n",
       "X211696_x_at                    NA         NA      NA       NA\n",
       "X201540_at                      NA         NA      NA       NA\n",
       "X204151_x_at                    NA         NA      NA       NA\n",
       "X203549_s_at                    NA         NA      NA       NA\n",
       "X209116_x_at                    NA         NA      NA       NA\n",
       "X207175_at                      NA         NA      NA       NA\n",
       "X214414_x_at                    NA         NA      NA       NA\n",
       "X217232_x_at                    NA         NA      NA       NA\n",
       "X221748_s_at                    NA         NA      NA       NA\n",
       "X208782_at                      NA         NA      NA       NA\n",
       "X209699_x_at                    NA         NA      NA       NA\n",
       "X201348_at                      NA         NA      NA       NA\n",
       "X201010_s_at                    NA         NA      NA       NA\n",
       "X201432_at                      NA         NA      NA       NA\n",
       "X201893_x_at                    NA         NA      NA       NA\n",
       "X208788_at                      NA         NA      NA       NA\n",
       "X201030_x_at                    NA         NA      NA       NA\n",
       "X211745_x_at                    NA         NA      NA       NA\n",
       "X216594_x_at                    NA         NA      NA       NA\n",
       "X212097_at                      NA         NA      NA       NA\n",
       "X210427_x_at                    NA         NA      NA       NA\n",
       "X209612_s_at                    NA         NA      NA       NA\n",
       "AFFX.M27830_M_at                NA         NA      NA       NA\n",
       "X209555_s_at                    NA         NA      NA       NA\n",
       "X201842_s_at                    NA         NA      NA       NA\n",
       "X213564_x_at                    NA         NA      NA       NA\n",
       "X205382_s_at                    NA         NA      NA       NA\n",
       "X205480_s_at                    NA         NA      NA       NA\n",
       "X200799_at                      NA         NA      NA       NA\n",
       "X201012_at                      NA         NA      NA       NA\n",
       "X209210_s_at                    NA         NA      NA       NA\n",
       "X206488_s_at                    NA         NA      NA       NA\n",
       "X201612_at                      NA         NA      NA       NA\n",
       "X219398_at                      NA         NA      NA       NA\n",
       "X213524_s_at                    NA         NA      NA       NA\n",
       "X38707_r_at                     NA         NA      NA       NA\n",
       "X211813_x_at                    NA         NA      NA       NA\n",
       "X212509_s_at                    NA         NA      NA       NA\n",
       "X201425_at                      NA         NA      NA       NA\n",
       "X209026_x_at                    NA         NA      NA       NA\n",
       "X216520_s_at                    NA         NA      NA       NA\n",
       "X203221_at                      NA         NA      NA       NA\n",
       "X218101_s_at                    NA         NA      NA       NA\n",
       "X211980_at                      NA         NA      NA       NA\n",
       "X203548_s_at                    NA         NA      NA       NA\n",
       "X202442_at                      NA         NA      NA       NA\n",
       "X217892_s_at                    NA         NA      NA       NA\n",
       "X210968_s_at                    NA         NA      NA       NA\n",
       "X217732_s_at                    NA         NA      NA       NA\n",
       "X48030_i_at                     NA         NA      NA       NA\n",
       "X207607_at                      NA         NA      NA       NA\n",
       "X220656_at                      NA         NA      NA       NA\n",
       "X216987_at                      NA         NA      NA       NA\n",
       "X217078_s_at                    NA         NA      NA       NA\n",
       "X214304_x_at                    NA         NA      NA       NA\n",
       "X217536_x_at                    NA         NA      NA       NA\n",
       "X211319_at                      NA         NA      NA       NA\n",
       "X208142_at                      NA         NA      NA       NA\n",
       "X207331_at                      NA         NA      NA       NA\n",
       "X215309_at                      NA         NA      NA       NA\n",
       "X208547_at                      NA         NA      NA       NA\n",
       "X201374_x_at                    NA         NA      NA       NA\n",
       "X204935_at                      NA         NA      NA       NA\n",
       "X211054_at                      NA         NA      NA       NA\n",
       "X210683_at                      NA         NA      NA       NA\n",
       "X201062_at                      NA         NA      NA       NA\n",
       "X205421_at                      NA         NA      NA       NA\n",
       "X208533_at                      NA         NA      NA       NA\n",
       "X76897_s_at                     NA         NA      NA       NA\n",
       "X211141_s_at                    NA         NA      NA       NA\n",
       "X215619_at                      NA         NA      NA       NA\n",
       "X207696_at                      NA         NA      NA       NA\n",
       "X208572_at                      NA         NA      NA       NA\n",
       "AFFX.TrpnX.3_at                 NA         NA      NA       NA\n",
       "X208512_s_at                    NA         NA      NA       NA\n",
       "X217661_x_at                    NA         NA      NA       NA\n",
       "X215107_s_at                    NA         NA      NA       NA\n",
       "X220649_at                      NA         NA      NA       NA\n",
       "X222308_x_at                    NA         NA      NA       NA\n",
       "X214310_s_at                    NA         NA      NA       NA\n",
       "X216982_x_at                    NA         NA      NA       NA\n",
       "X216424_at                      NA         NA      NA       NA\n",
       "X219174_at                      NA         NA      NA       NA\n",
       "X212338_at                      NA         NA      NA       NA\n",
       "X216831_s_at                    NA         NA      NA       NA\n",
       "X216805_at                      NA         NA      NA       NA\n",
       "X222222_s_at                    NA         NA      NA       NA\n",
       "X214586_at                      NA         NA      NA       NA\n",
       "X205234_at                      NA         NA      NA       NA\n",
       "X217400_at                      NA         NA      NA       NA\n",
       "X211526_s_at                    NA         NA      NA       NA\n",
       "X214865_at                      NA         NA      NA       NA\n",
       "X203163_at                      NA         NA      NA       NA\n",
       "X214123_s_at                    NA         NA      NA       NA\n",
       "X220704_at                      NA         NA      NA       NA\n",
       "X221972_s_at                    NA         NA      NA       NA\n",
       "X211085_s_at                    NA         NA      NA       NA\n",
       "X206629_at                      NA         NA      NA       NA\n",
       "X64432_at                       NA         NA      NA       NA\n",
       "X213964_x_at                    NA         NA      NA       NA\n",
       "X218744_s_at                    NA         NA      NA       NA\n",
       "X207750_at                      NA         NA      NA       NA\n",
       "X214781_at                      NA         NA      NA       NA\n",
       "X204456_s_at                    NA         NA      NA       NA\n",
       "X211351_at                      NA         NA      NA       NA\n",
       "X206480_at                      NA         NA      NA       NA\n",
       "X210000_s_at                    NA         NA      NA       NA\n",
       "X220480_at                      NA         NA      NA       NA\n",
       "X210919_at                      NA         NA      NA       NA\n",
       "X204238_s_at                    NA         NA      NA       NA\n",
       "X215474_at                      NA         NA      NA       NA\n",
       "X214887_at                      NA         NA      NA       NA\n",
       "X204737_s_at                    NA         NA      NA       NA\n",
       "X204390_at                      NA         NA      NA       NA\n",
       "X206317_s_at                    NA         NA      NA       NA\n",
       "X206884_s_at                    NA         NA      NA       NA\n",
       "X214590_s_at                    NA         NA      NA       NA\n",
       "X211017_s_at                    NA         NA      NA       NA\n",
       "X218602_s_at                    NA         NA      NA       NA\n",
       "X213042_s_at                    NA         NA      NA       NA\n",
       "X211083_s_at                    NA         NA      NA       NA\n",
       "X207723_s_at                    NA         NA      NA       NA\n",
       "X205314_x_at                    NA         NA      NA       NA\n",
       "X220259_at                      NA         NA      NA       NA\n",
       "X211102_s_at                    NA         NA      NA       NA\n",
       "X208133_at                      NA         NA      NA       NA\n",
       "X214346_at                      NA         NA      NA       NA\n",
       "X60815_at                       NA         NA      NA       NA\n",
       "X220426_at                      NA         NA      NA       NA\n",
       "X207768_at                      NA         NA      NA       NA\n",
       "X210630_s_at                    NA         NA      NA       NA\n",
       "X208480_s_at                    NA         NA      NA       NA\n",
       "X211556_at                      NA         NA      NA       NA\n",
       "X220812_s_at                    NA         NA      NA       NA\n",
       "X210364_at                      NA         NA      NA       NA\n",
       "X220579_at                      NA         NA      NA       NA\n",
       "X217366_at                      NA         NA      NA       NA\n",
       "X215231_at                      NA         NA      NA       NA\n",
       "X212065_s_at                    NA         NA      NA       NA\n",
       "X214468_at                      NA         NA      NA       NA\n",
       "X214269_at                      NA         NA      NA       NA\n",
       "X208461_at                      NA         NA      NA       NA\n",
       "X220527_at                      NA         NA      NA       NA\n",
       "X217326_x_at                    NA         NA      NA       NA\n",
       "X210362_x_at                    NA         NA      NA       NA\n",
       "X221231_s_at                    NA         NA      NA       NA\n",
       "X203960_s_at                    NA         NA      NA       NA\n",
       "X214406_s_at                    NA         NA      NA       NA\n",
       "X204816_s_at                    NA         NA      NA       NA\n",
       "X207918_s_at                    NA         NA      NA       NA\n",
       "X215294_s_at                    NA         NA      NA       NA\n",
       "X206500_s_at                    NA         NA      NA       NA\n",
       "X221417_x_at                    NA         NA      NA       NA\n",
       "X221721_s_at                    NA         NA      NA       NA\n",
       "X214793_at                      NA         NA      NA       NA\n",
       "X216940_x_at                    NA         NA      NA       NA\n",
       "X211146_at                      NA         NA      NA       NA\n",
       "X220809_at                      NA         NA      NA       NA\n",
       "X213606_s_at                    NA         NA      NA       NA\n",
       "X210575_at                      NA         NA      NA       NA\n",
       "X217475_s_at                    NA         NA      NA       NA\n",
       "X205309_at                      NA         NA      NA       NA\n",
       "X221576_at                      NA         NA      NA       NA\n",
       "X216588_at                      NA         NA      NA       NA\n",
       "X209922_at                      NA         NA      NA       NA\n",
       "X210206_s_at                    NA         NA      NA       NA\n",
       "X208356_x_at                    NA         NA      NA       NA\n",
       "X214890_s_at                    NA         NA      NA       NA\n",
       "X204936_at                      NA         NA      NA       NA\n",
       "X214130_s_at                    NA         NA      NA       NA\n",
       "X211363_s_at                    NA         NA      NA       NA\n",
       "X220247_at                      NA         NA      NA       NA\n",
       "X204399_s_at                    NA         NA      NA       NA\n",
       "X203942_s_at                    NA         NA      NA       NA\n",
       "X215937_at                      NA         NA      NA       NA\n",
       "X204802_at                      NA         NA      NA       NA\n",
       "X207166_at                      NA         NA      NA       NA\n",
       "X202779_s_at                    NA         NA      NA       NA\n",
       "X211833_s_at                    NA         NA      NA       NA\n",
       "X205086_s_at                    NA         NA      NA       NA\n",
       "X206418_at                      NA         NA      NA       NA\n",
       "X219759_at                      NA         NA      NA       NA\n",
       "X210546_x_at                    NA         NA      NA       NA\n",
       "X211788_s_at                    NA         NA      NA       NA\n",
       "X216346_at                      NA         NA      NA       NA\n",
       "X215324_at                      NA         NA      NA       NA\n",
       "X210121_at                      NA         NA      NA       NA\n",
       "X206205_at                      NA         NA      NA       NA\n",
       "X217403_s_at                    NA         NA      NA       NA\n",
       "X208010_s_at                    NA         NA      NA       NA\n",
       "X211618_s_at                    NA         NA      NA       NA\n",
       "X217006_x_at                    NA         NA      NA       NA\n",
       "X206517_at                      NA         NA      NA       NA\n",
       "X209261_s_at                    NA         NA      NA       NA\n",
       "X215643_at                      NA         NA      NA       NA\n",
       "X219663_s_at                    NA         NA      NA       NA\n",
       "X213961_s_at                    NA         NA      NA       NA\n",
       "X202083_s_at                    NA         NA      NA       NA\n",
       "X222255_at                      NA         NA      NA       NA\n",
       "X216829_at                      NA         NA      NA       NA\n",
       "X214487_s_at                    NA         NA      NA       NA\n",
       "X206980_s_at                    NA         NA      NA       NA\n",
       "X210350_x_at                    NA         NA      NA       NA\n",
       "X219047_s_at                    NA         NA      NA       NA\n",
       "X214477_at                      NA         NA      NA       NA\n",
       "X211829_s_at                    NA         NA      NA       NA\n",
       "X220254_at                      NA         NA      NA       NA\n",
       "X214977_at                      NA         NA      NA       NA\n",
       "X205224_at                      NA         NA      NA       NA\n",
       "X205177_at                      NA         NA      NA       NA\n",
       "X221968_s_at                    NA         NA      NA       NA\n",
       "X216136_at                      NA         NA      NA       NA\n",
       "X206709_x_at                    NA         NA      NA       NA\n",
       "X209769_s_at                    NA         NA      NA       NA\n",
       "X217125_at                      NA         NA      NA       NA\n",
       "X215666_at                      NA         NA      NA       NA\n",
       "X37079_at                       NA         NA      NA       NA\n",
       "X204886_at                      NA         NA      NA       NA\n",
       "AFFX.r2.Bs.dap.5_at             NA         NA      NA       NA\n",
       "X207852_at                      NA         NA      NA       NA\n",
       "X215741_x_at                    NA         NA      NA       NA\n",
       "X215457_at                      NA         NA      NA       NA\n",
       "X205045_at                      NA         NA      NA       NA\n",
       "X207437_at                      NA         NA      NA       NA\n",
       "X219608_s_at                    NA         NA      NA       NA\n",
       "X217303_s_at                    NA         NA      NA       NA\n",
       "X217238_s_at                    NA         NA      NA       NA\n",
       "X216768_x_at                    NA         NA      NA       NA\n",
       "X214522_x_at                    NA         NA      NA       NA\n",
       "X222085_at                      NA         NA      NA       NA\n",
       "X220582_at                      NA         NA      NA       NA\n",
       "X211517_s_at                    NA         NA      NA       NA\n",
       "X213868_s_at                    NA         NA      NA       NA\n",
       "X220919_s_at                    NA         NA      NA       NA\n",
       "X221920_s_at                    NA         NA      NA       NA\n",
       "X217069_at                      NA         NA      NA       NA\n",
       "X211187_at                      NA         NA      NA       NA\n",
       "X213987_s_at                    NA         NA      NA       NA\n",
       "X206832_s_at                    NA         NA      NA       NA\n",
       "X220004_at                      NA         NA      NA       NA\n",
       "X207640_x_at                    NA         NA      NA       NA\n",
       "X204961_s_at                    NA         NA      NA       NA\n",
       "X202285_s_at                    NA         NA      NA       NA\n",
       "X208320_at                      NA         NA      NA       NA\n",
       "X222161_at                      NA         NA      NA       NA\n",
       "X217278_x_at                    NA         NA      NA       NA\n",
       "X216926_s_at                    NA         NA      NA       NA\n",
       "X216314_at                      NA         NA      NA       NA\n",
       "X211642_at                      NA         NA      NA       NA\n",
       "X213580_at                      NA         NA      NA       NA\n",
       "X204162_at                      NA         NA      NA       NA\n",
       "X32088_at                       NA         NA      NA       NA\n",
       "X214165_s_at                    NA         NA      NA       NA\n",
       "X204286_s_at                    NA         NA      NA       NA\n",
       "X201083_s_at                    NA         NA      NA       NA\n",
       "X217452_s_at                    NA         NA      NA       NA\n",
       "X205819_at                      NA         NA      NA       NA\n",
       "X219003_s_at                    NA         NA      NA       NA\n",
       "X214712_at                      NA         NA      NA       NA\n",
       "X201452_at                      NA         NA      NA       NA\n",
       "X220253_s_at                    NA         NA      NA       NA\n",
       "X216278_at                      NA         NA      NA       NA\n",
       "X207204_at                      NA         NA      NA       NA\n",
       "X215172_at                      NA         NA      NA       NA\n",
       "X215599_at                      NA         NA      NA       NA\n",
       "X216533_at                      NA         NA      NA       NA\n",
       "X215300_s_at                    NA         NA      NA       NA\n",
       "X218863_s_at                    NA         NA      NA       NA\n",
       "X204709_s_at                    NA         NA      NA       NA\n",
       "X218663_at                      NA         NA      NA       NA\n",
       "X214981_at                      NA         NA      NA       NA\n",
       "X216660_at                      NA         NA      NA       NA\n",
       "X217101_at                      NA         NA      NA       NA\n",
       "X218922_s_at                    NA         NA      NA       NA\n",
       "X203953_s_at                    NA         NA      NA       NA\n",
       "X221755_at                      NA         NA      NA       NA\n",
       "X208278_s_at                    NA         NA      NA       NA\n",
       "X207162_s_at                    NA         NA      NA       NA\n",
       "X206824_at                      NA         NA      NA       NA\n",
       "X218840_s_at                    NA         NA      NA       NA\n",
       "\n",
       "(Dispersion parameter for binomial family taken to be 1)\n",
       "\n",
       "    Null deviance: 8.3111e+01  on 59  degrees of freedom\n",
       "Residual deviance: 3.4809e-10  on  0  degrees of freedom\n",
       "AIC: 120\n",
       "\n",
       "Number of Fisher Scoring iterations: 25\n"
      ]
     },
     "metadata": {},
     "output_type": "display_data"
    }
   ],
   "source": [
    "summary(model)"
   ]
  },
  {
   "cell_type": "code",
   "execution_count": 17,
   "metadata": {},
   "outputs": [
    {
     "data": {
      "text/html": [
       "60"
      ],
      "text/latex": [
       "60"
      ],
      "text/markdown": [
       "60"
      ],
      "text/plain": [
       "[1] 60"
      ]
     },
     "metadata": {},
     "output_type": "display_data"
    }
   ],
   "source": [
    "nrow(genexp.train)"
   ]
  },
  {
   "cell_type": "markdown",
   "metadata": {},
   "source": [
    "Vemos que como tenemos muy pocas muestras en el conjunto de entrenamiento (60) y tenemos muchas columnas, sólo se asignan coeficientes a 60 variables (482-422) y el resto están a NA. Este modelo será muy complejo y tendrá overfitting."
   ]
  },
  {
   "cell_type": "markdown",
   "metadata": {},
   "source": [
    "**Pintamos la curva ROC**"
   ]
  },
  {
   "cell_type": "code",
   "execution_count": 18,
   "metadata": {},
   "outputs": [
    {
     "name": "stderr",
     "output_type": "stream",
     "text": [
      "Warning message in predict.lm(object, newdata, se.fit, scale = 1, type = ifelse(type == :\n",
      "“prediction from a rank-deficient fit may be misleading”"
     ]
    }
   ],
   "source": [
    "y_predict<-predict(model,genexp.test)"
   ]
  },
  {
   "cell_type": "code",
   "execution_count": 19,
   "metadata": {},
   "outputs": [
    {
     "data": {
      "text/html": [
       "<dl class=dl-horizontal>\n",
       "\t<dt>7</dt>\n",
       "\t\t<dd>-13.8114496376675</dd>\n",
       "\t<dt>13</dt>\n",
       "\t\t<dd>35.3685174763984</dd>\n",
       "\t<dt>16</dt>\n",
       "\t\t<dd>-392.721155796248</dd>\n",
       "\t<dt>21</dt>\n",
       "\t\t<dd>-159.205027711896</dd>\n",
       "\t<dt>23</dt>\n",
       "\t\t<dd>101.573159308347</dd>\n",
       "\t<dt>24</dt>\n",
       "\t\t<dd>531.456039902093</dd>\n",
       "\t<dt>32</dt>\n",
       "\t\t<dd>-181.651842083519</dd>\n",
       "\t<dt>34</dt>\n",
       "\t\t<dd>10.9128987592115</dd>\n",
       "\t<dt>36</dt>\n",
       "\t\t<dd>250.026068319446</dd>\n",
       "\t<dt>41</dt>\n",
       "\t\t<dd>134.834376045654</dd>\n",
       "\t<dt>44</dt>\n",
       "\t\t<dd>-375.749584749479</dd>\n",
       "\t<dt>47</dt>\n",
       "\t\t<dd>-128.185405566216</dd>\n",
       "\t<dt>54</dt>\n",
       "\t\t<dd>401.463631993747</dd>\n",
       "\t<dt>57</dt>\n",
       "\t\t<dd>267.090506890943</dd>\n",
       "\t<dt>60</dt>\n",
       "\t\t<dd>-22.6893945223219</dd>\n",
       "\t<dt>61</dt>\n",
       "\t\t<dd>-295.570340333155</dd>\n",
       "\t<dt>63</dt>\n",
       "\t\t<dd>-150.336557773683</dd>\n",
       "\t<dt>64</dt>\n",
       "\t\t<dd>114.180328467997</dd>\n",
       "\t<dt>65</dt>\n",
       "\t\t<dd>32.1532722905111</dd>\n",
       "\t<dt>70</dt>\n",
       "\t\t<dd>-275.664992491348</dd>\n",
       "\t<dt>72</dt>\n",
       "\t\t<dd>9.04648485863106</dd>\n",
       "\t<dt>76</dt>\n",
       "\t\t<dd>284.149601985128</dd>\n",
       "\t<dt>79</dt>\n",
       "\t\t<dd>320.036638168411</dd>\n",
       "\t<dt>81</dt>\n",
       "\t\t<dd>59.2698677007371</dd>\n",
       "\t<dt>83</dt>\n",
       "\t\t<dd>-117.531119482134</dd>\n",
       "\t<dt>85</dt>\n",
       "\t\t<dd>-96.2488077332482</dd>\n",
       "</dl>\n"
      ],
      "text/latex": [
       "\\begin{description*}\n",
       "\\item[7] -13.8114496376675\n",
       "\\item[13] 35.3685174763984\n",
       "\\item[16] -392.721155796248\n",
       "\\item[21] -159.205027711896\n",
       "\\item[23] 101.573159308347\n",
       "\\item[24] 531.456039902093\n",
       "\\item[32] -181.651842083519\n",
       "\\item[34] 10.9128987592115\n",
       "\\item[36] 250.026068319446\n",
       "\\item[41] 134.834376045654\n",
       "\\item[44] -375.749584749479\n",
       "\\item[47] -128.185405566216\n",
       "\\item[54] 401.463631993747\n",
       "\\item[57] 267.090506890943\n",
       "\\item[60] -22.6893945223219\n",
       "\\item[61] -295.570340333155\n",
       "\\item[63] -150.336557773683\n",
       "\\item[64] 114.180328467997\n",
       "\\item[65] 32.1532722905111\n",
       "\\item[70] -275.664992491348\n",
       "\\item[72] 9.04648485863106\n",
       "\\item[76] 284.149601985128\n",
       "\\item[79] 320.036638168411\n",
       "\\item[81] 59.2698677007371\n",
       "\\item[83] -117.531119482134\n",
       "\\item[85] -96.2488077332482\n",
       "\\end{description*}\n"
      ],
      "text/markdown": [
       "7\n",
       ":   -13.811449637667513\n",
       ":   35.368517476398416\n",
       ":   -392.72115579624821\n",
       ":   -159.20502771189623\n",
       ":   101.57315930834724\n",
       ":   531.45603990209332\n",
       ":   -181.65184208351934\n",
       ":   10.912898759211536\n",
       ":   250.02606831944641\n",
       ":   134.83437604565444\n",
       ":   -375.74958474947947\n",
       ":   -128.18540556621654\n",
       ":   401.46363199374757\n",
       ":   267.09050689094360\n",
       ":   -22.689394522321961\n",
       ":   -295.57034033315563\n",
       ":   -150.33655777368364\n",
       ":   114.18032846799765\n",
       ":   32.153272290511170\n",
       ":   -275.66499249134872\n",
       ":   9.0464848586310676\n",
       ":   284.14960198512879\n",
       ":   320.03663816841181\n",
       ":   59.269867700737183\n",
       ":   -117.53111948213485\n",
       ":   -96.2488077332482\n",
       "\n"
      ],
      "text/plain": [
       "          7          13          16          21          23          24 \n",
       " -13.811450   35.368517 -392.721156 -159.205028  101.573159  531.456040 \n",
       "         32          34          36          41          44          47 \n",
       "-181.651842   10.912899  250.026068  134.834376 -375.749585 -128.185406 \n",
       "         54          57          60          61          63          64 \n",
       " 401.463632  267.090507  -22.689395 -295.570340 -150.336558  114.180328 \n",
       "         65          70          72          76          79          81 \n",
       "  32.153272 -275.664992    9.046485  284.149602  320.036638   59.269868 \n",
       "         83          85 \n",
       "-117.531119  -96.248808 "
      ]
     },
     "metadata": {},
     "output_type": "display_data"
    }
   ],
   "source": [
    "y_predict"
   ]
  },
  {
   "cell_type": "code",
   "execution_count": 20,
   "metadata": {},
   "outputs": [],
   "source": [
    "dfROC<-data.frame(th=unique(y_predict),tp=NA,fp=NA)"
   ]
  },
  {
   "cell_type": "code",
   "execution_count": 21,
   "metadata": {},
   "outputs": [],
   "source": [
    "calctp_fp<-function(y_predict,y_real,th){\n",
    "    y_factor<-as.factor(ifelse(y_predict<th,\"Normal\",\"Cancer\"))    \n",
    "    M <- table(y_factor,genexp.test$X)\n",
    "    M\n",
    "    if (ncol(M)==2 && nrow(M)==2){\n",
    "        truePositive<-M[1,1]/(M[1,1]+M[2,1])\n",
    "        falsePositive<-M[1,2]/(M[1,2]+M[2,2])\n",
    "        c(tp=truePositive,fp=falsePositive)\n",
    "    }else{\n",
    "        c(tp=NA,fp=NA)\n",
    "    }\n",
    "}"
   ]
  },
  {
   "cell_type": "code",
   "execution_count": 22,
   "metadata": {},
   "outputs": [],
   "source": [
    "for (i in 1:nrow(dfROC)){\n",
    "    v<-calctp_fp(y_predict,genexp.test$X,dfROC$th[i])\n",
    "    dfROC$tp[i]<-v[\"tp\"]\n",
    "    dfROC$fp[i]<-v[\"fp\"]\n",
    "}"
   ]
  },
  {
   "cell_type": "code",
   "execution_count": 23,
   "metadata": {},
   "outputs": [],
   "source": [
    "dfROC<-dfROC[order(dfROC$fp),]"
   ]
  },
  {
   "cell_type": "code",
   "execution_count": 24,
   "metadata": {},
   "outputs": [
    {
     "data": {
      "text/html": [
       "<table>\n",
       "<thead><tr><th></th><th scope=col>th</th><th scope=col>tp</th><th scope=col>fp</th></tr></thead>\n",
       "<tbody>\n",
       "\t<tr><th scope=row>6</th><td> 531.456040</td><td>0.08333333 </td><td>0.00000000 </td></tr>\n",
       "\t<tr><th scope=row>13</th><td> 401.463632</td><td>0.16666667 </td><td>0.00000000 </td></tr>\n",
       "\t<tr><th scope=row>22</th><td> 284.149602</td><td>0.25000000 </td><td>0.07142857 </td></tr>\n",
       "\t<tr><th scope=row>23</th><td> 320.036638</td><td>0.16666667 </td><td>0.07142857 </td></tr>\n",
       "\t<tr><th scope=row>9</th><td> 250.026068</td><td>0.33333333 </td><td>0.14285714 </td></tr>\n",
       "\t<tr><th scope=row>14</th><td> 267.090507</td><td>0.25000000 </td><td>0.14285714 </td></tr>\n",
       "\t<tr><th scope=row>10</th><td> 134.834376</td><td>0.33333333 </td><td>0.21428571 </td></tr>\n",
       "\t<tr><th scope=row>18</th><td> 114.180328</td><td>0.41666667 </td><td>0.21428571 </td></tr>\n",
       "\t<tr><th scope=row>5</th><td> 101.573159</td><td>0.41666667 </td><td>0.28571429 </td></tr>\n",
       "\t<tr><th scope=row>24</th><td>  59.269868</td><td>0.41666667 </td><td>0.35714286 </td></tr>\n",
       "\t<tr><th scope=row>2</th><td>  35.368517</td><td>0.41666667 </td><td>0.42857143 </td></tr>\n",
       "\t<tr><th scope=row>8</th><td>  10.912899</td><td>0.50000000 </td><td>0.50000000 </td></tr>\n",
       "\t<tr><th scope=row>19</th><td>  32.153272</td><td>0.41666667 </td><td>0.50000000 </td></tr>\n",
       "\t<tr><th scope=row>21</th><td>   9.046485</td><td>0.58333333 </td><td>0.50000000 </td></tr>\n",
       "\t<tr><th scope=row>1</th><td> -13.811450</td><td>0.58333333 </td><td>0.57142857 </td></tr>\n",
       "\t<tr><th scope=row>15</th><td> -22.689395</td><td>0.66666667 </td><td>0.57142857 </td></tr>\n",
       "\t<tr><th scope=row>26</th><td> -96.248808</td><td>0.66666667 </td><td>0.64285714 </td></tr>\n",
       "\t<tr><th scope=row>25</th><td>-117.531119</td><td>0.66666667 </td><td>0.71428571 </td></tr>\n",
       "\t<tr><th scope=row>12</th><td>-128.185406</td><td>0.66666667 </td><td>0.78571429 </td></tr>\n",
       "\t<tr><th scope=row>17</th><td>-150.336558</td><td>0.66666667 </td><td>0.85714286 </td></tr>\n",
       "\t<tr><th scope=row>4</th><td>-159.205028</td><td>0.66666667 </td><td>0.92857143 </td></tr>\n",
       "\t<tr><th scope=row>7</th><td>-181.651842</td><td>0.75000000 </td><td>0.92857143 </td></tr>\n",
       "\t<tr><th scope=row>20</th><td>-275.664992</td><td>0.83333333 </td><td>0.92857143 </td></tr>\n",
       "\t<tr><th scope=row>11</th><td>-375.749585</td><td>0.91666667 </td><td>1.00000000 </td></tr>\n",
       "\t<tr><th scope=row>16</th><td>-295.570340</td><td>0.83333333 </td><td>1.00000000 </td></tr>\n",
       "\t<tr><th scope=row>3</th><td>-392.721156</td><td>        NA </td><td>        NA </td></tr>\n",
       "</tbody>\n",
       "</table>\n"
      ],
      "text/latex": [
       "\\begin{tabular}{r|lll}\n",
       "  & th & tp & fp\\\\\n",
       "\\hline\n",
       "\t6 &  531.456040 & 0.08333333  & 0.00000000 \\\\\n",
       "\t13 &  401.463632 & 0.16666667  & 0.00000000 \\\\\n",
       "\t22 &  284.149602 & 0.25000000  & 0.07142857 \\\\\n",
       "\t23 &  320.036638 & 0.16666667  & 0.07142857 \\\\\n",
       "\t9 &  250.026068 & 0.33333333  & 0.14285714 \\\\\n",
       "\t14 &  267.090507 & 0.25000000  & 0.14285714 \\\\\n",
       "\t10 &  134.834376 & 0.33333333  & 0.21428571 \\\\\n",
       "\t18 &  114.180328 & 0.41666667  & 0.21428571 \\\\\n",
       "\t5 &  101.573159 & 0.41666667  & 0.28571429 \\\\\n",
       "\t24 &   59.269868 & 0.41666667  & 0.35714286 \\\\\n",
       "\t2 &   35.368517 & 0.41666667  & 0.42857143 \\\\\n",
       "\t8 &   10.912899 & 0.50000000  & 0.50000000 \\\\\n",
       "\t19 &   32.153272 & 0.41666667  & 0.50000000 \\\\\n",
       "\t21 &    9.046485 & 0.58333333  & 0.50000000 \\\\\n",
       "\t1 &  -13.811450 & 0.58333333  & 0.57142857 \\\\\n",
       "\t15 &  -22.689395 & 0.66666667  & 0.57142857 \\\\\n",
       "\t26 &  -96.248808 & 0.66666667  & 0.64285714 \\\\\n",
       "\t25 & -117.531119 & 0.66666667  & 0.71428571 \\\\\n",
       "\t12 & -128.185406 & 0.66666667  & 0.78571429 \\\\\n",
       "\t17 & -150.336558 & 0.66666667  & 0.85714286 \\\\\n",
       "\t4 & -159.205028 & 0.66666667  & 0.92857143 \\\\\n",
       "\t7 & -181.651842 & 0.75000000  & 0.92857143 \\\\\n",
       "\t20 & -275.664992 & 0.83333333  & 0.92857143 \\\\\n",
       "\t11 & -375.749585 & 0.91666667  & 1.00000000 \\\\\n",
       "\t16 & -295.570340 & 0.83333333  & 1.00000000 \\\\\n",
       "\t3 & -392.721156 &         NA  &         NA \\\\\n",
       "\\end{tabular}\n"
      ],
      "text/markdown": [
       "\n",
       "| <!--/--> | th | tp | fp | \n",
       "|---|---|---|---|---|---|---|---|---|---|---|---|---|---|---|---|---|---|---|---|---|---|---|---|---|---|\n",
       "| 6 |  531.456040 | 0.08333333  | 0.00000000  | \n",
       "| 13 |  401.463632 | 0.16666667  | 0.00000000  | \n",
       "| 22 |  284.149602 | 0.25000000  | 0.07142857  | \n",
       "| 23 |  320.036638 | 0.16666667  | 0.07142857  | \n",
       "| 9 |  250.026068 | 0.33333333  | 0.14285714  | \n",
       "| 14 |  267.090507 | 0.25000000  | 0.14285714  | \n",
       "| 10 |  134.834376 | 0.33333333  | 0.21428571  | \n",
       "| 18 |  114.180328 | 0.41666667  | 0.21428571  | \n",
       "| 5 |  101.573159 | 0.41666667  | 0.28571429  | \n",
       "| 24 |   59.269868 | 0.41666667  | 0.35714286  | \n",
       "| 2 |   35.368517 | 0.41666667  | 0.42857143  | \n",
       "| 8 |   10.912899 | 0.50000000  | 0.50000000  | \n",
       "| 19 |   32.153272 | 0.41666667  | 0.50000000  | \n",
       "| 21 |    9.046485 | 0.58333333  | 0.50000000  | \n",
       "| 1 |  -13.811450 | 0.58333333  | 0.57142857  | \n",
       "| 15 |  -22.689395 | 0.66666667  | 0.57142857  | \n",
       "| 26 |  -96.248808 | 0.66666667  | 0.64285714  | \n",
       "| 25 | -117.531119 | 0.66666667  | 0.71428571  | \n",
       "| 12 | -128.185406 | 0.66666667  | 0.78571429  | \n",
       "| 17 | -150.336558 | 0.66666667  | 0.85714286  | \n",
       "| 4 | -159.205028 | 0.66666667  | 0.92857143  | \n",
       "| 7 | -181.651842 | 0.75000000  | 0.92857143  | \n",
       "| 20 | -275.664992 | 0.83333333  | 0.92857143  | \n",
       "| 11 | -375.749585 | 0.91666667  | 1.00000000  | \n",
       "| 16 | -295.570340 | 0.83333333  | 1.00000000  | \n",
       "| 3 | -392.721156 |         NA  |         NA  | \n",
       "\n",
       "\n"
      ],
      "text/plain": [
       "   th          tp         fp        \n",
       "6   531.456040 0.08333333 0.00000000\n",
       "13  401.463632 0.16666667 0.00000000\n",
       "22  284.149602 0.25000000 0.07142857\n",
       "23  320.036638 0.16666667 0.07142857\n",
       "9   250.026068 0.33333333 0.14285714\n",
       "14  267.090507 0.25000000 0.14285714\n",
       "10  134.834376 0.33333333 0.21428571\n",
       "18  114.180328 0.41666667 0.21428571\n",
       "5   101.573159 0.41666667 0.28571429\n",
       "24   59.269868 0.41666667 0.35714286\n",
       "2    35.368517 0.41666667 0.42857143\n",
       "8    10.912899 0.50000000 0.50000000\n",
       "19   32.153272 0.41666667 0.50000000\n",
       "21    9.046485 0.58333333 0.50000000\n",
       "1   -13.811450 0.58333333 0.57142857\n",
       "15  -22.689395 0.66666667 0.57142857\n",
       "26  -96.248808 0.66666667 0.64285714\n",
       "25 -117.531119 0.66666667 0.71428571\n",
       "12 -128.185406 0.66666667 0.78571429\n",
       "17 -150.336558 0.66666667 0.85714286\n",
       "4  -159.205028 0.66666667 0.92857143\n",
       "7  -181.651842 0.75000000 0.92857143\n",
       "20 -275.664992 0.83333333 0.92857143\n",
       "11 -375.749585 0.91666667 1.00000000\n",
       "16 -295.570340 0.83333333 1.00000000\n",
       "3  -392.721156         NA         NA"
      ]
     },
     "metadata": {},
     "output_type": "display_data"
    }
   ],
   "source": [
    "dfROC"
   ]
  },
  {
   "cell_type": "code",
   "execution_count": 25,
   "metadata": {},
   "outputs": [],
   "source": [
    "library(ggplot2)"
   ]
  },
  {
   "cell_type": "code",
   "execution_count": 26,
   "metadata": {},
   "outputs": [
    {
     "name": "stderr",
     "output_type": "stream",
     "text": [
      "Warning message:\n",
      "“Removed 1 rows containing missing values (geom_point).”"
     ]
    },
    {
     "data": {},
     "metadata": {},
     "output_type": "display_data"
    },
    {
     "data": {
      "image/png": "[encoded data removed]",
      "text/plain": [
       "plot without title"
      ]
     },
     "metadata": {},
     "output_type": "display_data"
    }
   ],
   "source": [
    "ggplot(data=dfROC,aes(x=fp,y=tp))+geom_point()+\n",
    " geom_abline(intercept = 0,slope = 1, color=\"blue\")+coord_cartesian(xlim = c(0, 0), ylim = c(0,0))+coord_flip()"
   ]
  },
  {
   "cell_type": "markdown",
   "metadata": {},
   "source": [
    "La diagonal representada por la línea azul nos marca el límite por el que iría una predicción aleatoria, es decir, una predicción con el mismo número de casos acertados que fallados. Vemos que nuestro modelo es bastante malo, ya que la curva ROC pasa por debajo de la diagonal para bastantes thresholds."
   ]
  },
  {
   "cell_type": "markdown",
   "metadata": {},
   "source": [
    "* Para un umbral de 0 calcular:\n",
    " * Precisión\n",
    " * F0.5\n",
    " * Exactitud\n",
    " * Exhaustividad\n",
    " * Matriz de confusión"
   ]
  },
  {
   "cell_type": "code",
   "execution_count": 27,
   "metadata": {},
   "outputs": [],
   "source": [
    "th = 0"
   ]
  },
  {
   "cell_type": "markdown",
   "metadata": {},
   "source": [
    "**Matriz de confusión:**"
   ]
  },
  {
   "cell_type": "code",
   "execution_count": 28,
   "metadata": {},
   "outputs": [
    {
     "data": {
      "text/plain": [
       "        \n",
       "y_factor Cancer Normal\n",
       "  Cancer      7      7\n",
       "  Normal      5      7"
      ]
     },
     "metadata": {},
     "output_type": "display_data"
    }
   ],
   "source": [
    "y_factor <- as.factor(ifelse(y_predict<th,\"Normal\",\"Cancer\"))    \n",
    "M <- table(y_factor,genexp.test$X)\n",
    "M"
   ]
  },
  {
   "cell_type": "markdown",
   "metadata": {},
   "source": [
    "* **Precisión**\n",
    "* **Exactitud**\n",
    "* **Exhaustividad**\n",
    "* **F0.5**"
   ]
  },
  {
   "cell_type": "code",
   "execution_count": 29,
   "metadata": {},
   "outputs": [
    {
     "data": {
      "text/html": [
       "'Precision: 0.5'"
      ],
      "text/latex": [
       "'Precision: 0.5'"
      ],
      "text/markdown": [
       "'Precision: 0.5'"
      ],
      "text/plain": [
       "[1] \"Precision: 0.5\""
      ]
     },
     "metadata": {},
     "output_type": "display_data"
    },
    {
     "data": {
      "text/html": [
       "'Exactitud: 0.538461538461538'"
      ],
      "text/latex": [
       "'Exactitud: 0.538461538461538'"
      ],
      "text/markdown": [
       "'Exactitud: 0.538461538461538'"
      ],
      "text/plain": [
       "[1] \"Exactitud: 0.538461538461538\""
      ]
     },
     "metadata": {},
     "output_type": "display_data"
    },
    {
     "data": {
      "text/html": [
       "'Exhausitivad: 0.583333333333333'"
      ],
      "text/latex": [
       "'Exhausitivad: 0.583333333333333'"
      ],
      "text/markdown": [
       "'Exhausitivad: 0.583333333333333'"
      ],
      "text/plain": [
       "[1] \"Exhausitivad: 0.583333333333333\""
      ]
     },
     "metadata": {},
     "output_type": "display_data"
    },
    {
     "data": {
      "text/html": [
       "'F0.5: 0.514705882352941'"
      ],
      "text/latex": [
       "'F0.5: 0.514705882352941'"
      ],
      "text/markdown": [
       "'F0.5: 0.514705882352941'"
      ],
      "text/plain": [
       "[1] \"F0.5: 0.514705882352941\""
      ]
     },
     "metadata": {},
     "output_type": "display_data"
    }
   ],
   "source": [
    "paste(\"Precision:\", M[1,1]/(M[1,2]+M[1,1]))\n",
    "paste(\"Exactitud:\",(M[1,1]+M[2,2])/sum(sum(M)))\n",
    "paste(\"Exhausitivad:\", M[1,1]/(M[2,1]+M[1,1]))\n",
    "p<-M[1,1]/(M[1,2]+M[1,1])\n",
    "e<-M[1,1]/(M[2,1]+M[1,1])\n",
    "F05<-0.5\n",
    "paste(\"F0.5:\", (1+F05^2)*(p*e)/(F05^2*p+e))"
   ]
  },
  {
   "cell_type": "markdown",
   "metadata": {},
   "source": [
    "Vemos que el modelo no es demasiado preciso"
   ]
  },
  {
   "cell_type": "markdown",
   "metadata": {},
   "source": [
    "### Parte 2\n",
    "\n",
    "Realizar clusterización por k-means y uno basado en áboles (dendrograma). ¿Cual sería el número de clusters óptimo?  ¿Puedes identificar algún cluster interesante?"
   ]
  },
  {
   "cell_type": "code",
   "execution_count": 30,
   "metadata": {},
   "outputs": [],
   "source": [
    "#Así a priori se me ocurre dividir en dos clusters\n",
    "genexp.cluster <- genexp[,2:482]\n",
    "clusterKMeans <- kmeans(genexp.cluster,2)"
   ]
  },
  {
   "cell_type": "code",
   "execution_count": 31,
   "metadata": {},
   "outputs": [
    {
     "data": {
      "text/plain": [
       "K-means clustering with 2 clusters of sizes 85, 1\n",
       "\n",
       "Cluster means:\n",
       "  X212284_x_at X212869_x_at X213614_x_at X212391_x_at X201257_x_at\n",
       "1 -0.007987661 -0.007906571  -0.01611082  -0.01500859  -0.01237994\n",
       "2  0.678951161  0.672058566   1.36942011   1.27572980   1.05229489\n",
       "  AFFX.hum_alu_at X206559_x_at X214003_x_at X208755_x_at X200062_s_at\n",
       "1     -0.01051349  -0.01297422  -0.01114789  0.008985336  -0.02013154\n",
       "2      0.89364643   1.10280856   0.94757046 -0.763753547   1.71118125\n",
       "  X201429_s_at X213828_x_at X200717_x_at X201891_s_at X213477_x_at X213080_x_at\n",
       "1  -0.01570923  0.005722886  -0.02903924 -0.007575866  -0.01284916 -0.002010618\n",
       "2   1.33528431 -0.486445335   2.46833555  0.643948621   1.09217835  0.170902519\n",
       "   X200633_at  X200926_at X200933_x_at X213583_x_at X204892_x_at X201492_s_at\n",
       "1 -0.01027204 -0.01467176 -0.009169745  -0.01025844  -0.01071447 -0.009850122\n",
       "2  0.87312355  1.24709927  0.779428317   0.87196702   0.91072954  0.837260384\n",
       "  X200095_x_at X208695_s_at X207783_x_at    X71933_at X200016_x_at X200741_s_at\n",
       "1  -0.01787549 -0.009958117  0.004607225  0.006191478  -0.01328955  -0.01173587\n",
       "2   1.51941673  0.846439932 -0.391614147 -0.526275600   1.12961216   0.99754937\n",
       "    X396_f_at X213084_x_at X200963_x_at X200099_s_at X213356_x_at X211542_x_at\n",
       "1  0.01453134 -0.008869123 -0.009105466 -0.006288595 -0.001726712   -0.0242797\n",
       "2 -1.23516367  0.753875491  0.773964638  0.534530572  0.146770537    2.0637742\n",
       "  X213347_x_at X201217_x_at X200032_s_at X211978_x_at X201254_x_at X200817_x_at\n",
       "1 -0.007859925 -0.009202947 -0.003664836  -0.02066388   -0.0225098  -0.02534667\n",
       "2  0.668093608  0.782250483  0.311511096   1.75642941    1.9133326   2.15446698\n",
       "    X33323_r_at X211378_x_at X217740_x_at X201293_x_at X211073_x_at\n",
       "1 -0.0004488696  -0.02104297 -0.008663711  -0.01987621  -0.01077658\n",
       "2  0.0381539140   1.78865220  0.736415408   1.68947819   0.91600916\n",
       "  X221607_x_at X212661_x_at X208825_x_at X215076_s_at X213214_x_at X214328_s_at\n",
       "1  -0.02067273  -0.01812913  -0.01151402  -0.01476375  -0.02442676  -0.01524256\n",
       "2   1.75718178   1.54097596   0.97869182   1.25491852   2.07627439   1.29561729\n",
       "  X212039_x_at X201033_x_at X211970_x_at X207243_s_at X201550_x_at  X202088_at\n",
       "1 -0.008895994  -0.01229644  -0.02453724  -0.02077648  -0.02403069 -0.00740907\n",
       "2  0.756159529   1.04519756   2.08566535   1.76600112   2.04260867  0.62977097\n",
       "  X211983_x_at X200834_s_at X211943_x_at X202649_x_at X200763_s_at\n",
       "1  -0.02619537  -0.01049468  -0.02183594  -0.02120672 -0.007648191\n",
       "2   2.22660679   0.89204809   1.85605494   1.80257096  0.650096272\n",
       "   X214749_s_at X212988_x_at X211765_x_at X210646_x_at   X208718_at\n",
       "1  0.0006409983  -0.02477345  -0.02333659  -0.02258972 -0.009134843\n",
       "2 -0.0544848527   2.10574330   1.98361052   1.92012613  0.776461643\n",
       "  X201553_s_at X200092_s_at X208856_x_at  X219071_x_at X200809_x_at\n",
       "1 -0.007205312  -0.01245855  -0.01015246 -0.0006968844  -0.01805198\n",
       "2  0.612451513   1.05897653   0.86295923  0.0592351758   1.53441871\n",
       "  X208834_x_at  X200614_at X200650_s_at X211720_x_at X200088_x_at X213414_s_at\n",
       "1  -0.01303071 -0.00188253  -0.02030245  -0.01718494  -0.01254833  -0.02047348\n",
       "2   1.10761046  0.16001506   1.72570819   1.46071973   1.06660801   1.74024613\n",
       "  X209134_s_at   X201994_at X212790_x_at X201049_s_at X200958_s_at X208768_x_at\n",
       "1 -0.009506847 -0.007065624  -0.02506231  -0.01186949  -0.01931535  -0.01172007\n",
       "2  0.808081954  0.600578076   2.13029637   1.00890632   1.64180454   0.99620614\n",
       "  X214394_x_at X212042_x_at X200674_s_at X200819_s_at X209001_s_at X211940_x_at\n",
       "1    -0.016688  -0.03228241 -0.008745419  -0.01941893 -0.001388781 -0.002301886\n",
       "2     1.418480   2.74400443  0.743360584   1.65060863  0.118046410  0.195660335\n",
       "  X201154_x_at X212363_x_at X212581_x_at X213941_x_at X211345_x_at X202698_x_at\n",
       "1  -0.01136229  -0.02350517  -0.02023019  -0.01602424  -0.01474993 -0.003641458\n",
       "2   0.96579443   1.99793916   1.71956590   1.36206038   1.25374423  0.309523947\n",
       "   X215479_at X211927_x_at X214327_x_at X213738_s_at X200019_s_at X200807_s_at\n",
       "1  0.01081365 -0.008165488   -0.0164504 -0.008277672 -0.006447349  -0.02281725\n",
       "2 -0.91916051  0.694066487    1.3982838  0.703602112  0.548024680   1.93946628\n",
       "  X211995_x_at X221775_x_at   X200006_at X200944_s_at X212639_x_at\n",
       "1  -0.02280013  -0.01950089 -0.008124196  -0.01397111  -0.01128423\n",
       "2   1.93801071   1.65757579  0.690556648   1.18754450   0.95915981\n",
       "   X214629_x_at X212788_x_at X213377_x_at X216379_x_at  X211956_s_at\n",
       "1  0.0003408349 -0.008844119  0.002712149  -0.01720427 -0.0008582554\n",
       "2 -0.0289709660  0.751750148 -0.230532643   1.46236280  0.0729517060\n",
       "   X200031_s_at X213867_x_at X211296_x_at X212082_s_at X209771_x_at\n",
       "1  0.0009135152  -0.02115072  0.001996286 -0.003905385  -0.02660652\n",
       "2 -0.0776487919   1.79781131 -0.169684338  0.331957701   2.26155390\n",
       "  X215157_x_at X214548_x_at X215313_x_at X213588_x_at X200781_s_at X200080_s_at\n",
       "1   -0.0406653 -0.005286647  -0.02405118  -0.01003068  -0.01490008 -0.006351309\n",
       "2    3.4565507  0.449364968   2.04435069   0.85260782   1.26650654  0.539861246\n",
       "  X208635_x_at X200735_x_at X217982_s_at X217733_s_at  X208692_at X213101_s_at\n",
       "1  -0.01158022 -0.006710521  -0.00385286  0.001106713 -0.01333508  -0.02538815\n",
       "2   0.98431832  0.570394315   0.32749307 -0.094070636  1.13348175   2.15799279\n",
       "  X211710_x_at X211945_s_at X213801_x_at X200718_s_at X203107_x_at X216526_x_at\n",
       "1 -0.004524155 -0.005952587  -0.02210944 -0.005147887  -0.02156284  -0.02820791\n",
       "2  0.384553145  0.505969904   1.87930253  0.437570368   1.83284146   2.39767238\n",
       "  X200034_s_at   X36888_at X211628_x_at  X200936_at X213503_x_at X212933_x_at\n",
       "1 -0.007175314  0.00271582 -0.001281949 -0.03837438 -0.001123123 -0.006346881\n",
       "2  0.609901666 -0.23084471  0.108965636  3.26182223  0.095465433  0.539484925\n",
       "  X200705_s_at  X205967_at   X200795_at   X200673_at   X217979_at X200063_s_at\n",
       "1  -0.01695326 -0.00395646  0.008759892  0.002468502 -0.005516288 -0.008402903\n",
       "2   1.44102694  0.33629909 -0.744590811 -0.209822664  0.468884463  0.714246790\n",
       "    X200018_at   X208640_at X208870_x_at X200025_s_at X202488_s_at X217718_s_at\n",
       "1 -0.007054017 -0.007768592  -0.01084012 -0.005923482 -0.006441146  -0.01212139\n",
       "2  0.599591410  0.660330307   0.92140992  0.503495986  0.547497396   1.03031809\n",
       "  X202029_x_at X211058_x_at X220960_x_at X200015_s_at  X208845_at   X219883_at\n",
       "1  -0.01452816  -0.01934641 -0.008255911 -0.006736801 -0.00839938  0.007912352\n",
       "2   1.23489374   1.64444525  0.701752400  0.572628095  0.71394728 -0.672549910\n",
       "  X200689_x_at  X211509_s_at X201358_s_at X211430_s_at   X208578_at  X211969_at\n",
       "1   -0.0121802 -0.0002285339  -0.01418942  -0.04621894 -0.006508251 -0.02011871\n",
       "2    1.0353173  0.0194253790   1.20610086   3.92861030  0.553201307  1.71009076\n",
       "  X210774_s_at X216442_x_at X200716_x_at X210809_s_at X211161_s_at   X200033_at\n",
       "1  -0.00634753  -0.03164332  -0.01426414  -0.01663448  -0.00724884 -0.009502456\n",
       "2   0.53954001   2.68968220   1.21245161   1.41393064   0.61615137  0.807708748\n",
       "  AFFX.HSAC07.X00351_3_at X200780_x_at  X218198_at X213612_x_at X214938_x_at\n",
       "1             -0.01984319 -0.006271659  0.01114458  -0.02342914  -0.02348174\n",
       "2              1.68667086  0.533091017 -0.94728920   1.99147665   1.99594804\n",
       "  X207168_s_at X200081_s_at X216438_s_at X201590_x_at   X200026_at X214459_x_at\n",
       "1  -0.01544161 -0.008027601  -0.01428079 -0.004033192 -0.006516255  -0.02213393\n",
       "2   1.31253724  0.682346046   1.21386741  0.342821319  0.553881672   1.88138369\n",
       "    X203083_at X208812_x_at X210495_x_at X213881_x_at X206861_s_at\n",
       "1 -0.002771052  -0.02472443  -0.03077141  -0.01932265  0.007843884\n",
       "2  0.235539441   2.10157672   2.61557004   1.64242539 -0.666730157\n",
       "   X215726_s_at X202403_s_at X202404_s_at  X212077_at X208949_s_at X211921_x_at\n",
       "1 -0.0008965315 -0.004838177 -0.006145203 -0.00501609  0.006855822  -0.01682029\n",
       "2  0.0762051778  0.411245075  0.522342237  0.42636769 -0.582744912   1.42972454\n",
       "  X201022_s_at X221891_x_at   X218665_at X202443_x_at X212433_x_at X211972_x_at\n",
       "1 -0.003631399  -0.02836771  0.007311751 -0.007929178  -0.01531045  -0.01361396\n",
       "2  0.308668930   2.41125506 -0.621498822  0.673980134   1.30138793   1.15718619\n",
       "    X212412_at   X203980_at X211696_x_at   X201540_at X204151_x_at X203549_s_at\n",
       "1 -0.004580481  0.009534817  0.006429741  0.005773461  0.007173529   0.00980513\n",
       "2  0.389340911 -0.810459403 -0.546527982 -0.490744219 -0.609749989  -0.83343603\n",
       "  X209116_x_at   X207175_at X214414_x_at X217232_x_at X221748_s_at   X208782_at\n",
       "1   0.00672915  0.007687612   0.01141355   0.00576911  0.005653749  0.005616874\n",
       "2  -0.57197779 -0.653447034  -0.97015152  -0.49037438 -0.480568645 -0.477434250\n",
       "  X209699_x_at   X201348_at X201010_s_at   X201432_at X201893_x_at   X208788_at\n",
       "1  0.006886858  0.008989372  0.006443931  0.006049992   0.01504242 -0.004968409\n",
       "2 -0.585382902 -0.764096647 -0.547734115 -0.514249361  -1.27860602  0.422314774\n",
       "  X201030_x_at X211745_x_at X216594_x_at  X212097_at X210427_x_at X209612_s_at\n",
       "1 -0.007884922   0.00812582  0.006856391  0.00669246 -0.001481367  0.005774638\n",
       "2  0.670218370  -0.69069467 -0.582793271 -0.56885913  0.125916233 -0.490844252\n",
       "  AFFX.M27830_M_at X209555_s_at X201842_s_at X213564_x_at X205382_s_at\n",
       "1      0.001287174  0.008707315  0.007102044 -0.008490305   0.01045166\n",
       "2     -0.109409824 -0.740121779 -0.603673767  0.721675902  -0.88839097\n",
       "  X205480_s_at  X200799_at    X201012_at X209210_s_at X206488_s_at   X201612_at\n",
       "1  -0.01171217 -0.01047074  9.284617e-05  0.004494925  0.007149239 -0.003735205\n",
       "2   0.99553431  0.89001309 -7.891925e-03 -0.382068614 -0.607685275  0.317492423\n",
       "   X219398_at X213524_s_at  X38707_r_at X211813_x_at X212509_s_at   X201425_at\n",
       "1  0.01214031  0.004819571  0.009001724   0.01379797  0.001559253 -0.001900256\n",
       "2 -1.03192655 -0.409663557 -0.765146529  -1.17282708 -0.132536546  0.161521784\n",
       "  X209026_x_at X216520_s_at   X203221_at X218101_s_at   X211980_at X203548_s_at\n",
       "1  0.001287992  -0.01338572 -0.006444794 -0.003790481 -0.004686871   0.01087676\n",
       "2 -0.109479347   1.13778587  0.547807527  0.322190882  0.398384039  -0.92452433\n",
       "  X202442_at X217892_s_at X210968_s_at X217732_s_at  X48030_i_at   X207607_at\n",
       "1 -0.0129901  0.005514086 -0.001733969   -0.0100780 -0.001217467  0.004281081\n",
       "2  1.1041582 -0.468697276  0.147387373    0.8566304  0.103484682 -0.363891857\n",
       "   X220656_at X216987_at X217078_s_at X214304_x_at X217536_x_at  X211319_at\n",
       "1 -0.02006525 -0.0107630  -0.02145408   -0.0105667 -0.004054095 -0.03843697\n",
       "2  1.70554665  0.9148547   1.82359675    0.8981693  0.344598081  3.26714221\n",
       "   X208142_at   X207331_at  X215309_at   X208547_at X201374_x_at  X204935_at\n",
       "1 -0.01893323 -0.001410865 -0.02270796 -0.001935776 -0.002411717 -0.02890183\n",
       "2  1.60932467  0.119923557  1.93017681  0.164540964  0.204995932  2.45665556\n",
       "    X211054_at    X210683_at   X201062_at   X205421_at  X208533_at X76897_s_at\n",
       "1 -0.002028101  0.0008796722  0.001525283 -0.003011485 -0.01899529 -0.01338832\n",
       "2  0.172388593 -0.0747721378 -0.129649016  0.255976203  1.61459950  1.13800688\n",
       "  X211141_s_at   X215619_at    X207696_at  X208572_at AFFX.TrpnX.3_at\n",
       "1  0.003391695 -0.006575406  0.0006569982 -0.01791009    -0.003922352\n",
       "2 -0.288294082  0.558909528 -0.0558448494  1.52235806     0.333399889\n",
       "  X208512_s_at  X217661_x_at X215107_s_at  X220649_at X222308_x_at X214310_s_at\n",
       "1  -0.02287481 -0.0002786068  -0.02807319 -0.01208384 -0.004795875  -0.01861013\n",
       "2   1.94435899  0.0236815775   2.38622138  1.02712643  0.407649399   1.58186100\n",
       "  X216982_x_at   X216424_at  X219174_at  X212338_at X216831_s_at   X216805_at\n",
       "1  -0.01130432  0.006441217 -0.01026573 -0.01340081  -0.01170601  0.000100404\n",
       "2   0.96086704 -0.547503458  0.87258689  1.13906879   0.99501063 -0.008534344\n",
       "  X222222_s_at  X214586_at   X205234_at  X217400_at X211526_s_at  X214865_at\n",
       "1  -0.02776756 -0.02809746 -0.007214518 -0.01079513  -0.02597756 -0.01854167\n",
       "2   2.36024297  2.38828449  0.613234065  0.91758614   2.20809286  1.57604202\n",
       "    X203163_at X214123_s_at  X220704_at  X221972_s_at X211085_s_at X206629_at\n",
       "1 -0.008469917   -0.0180639 -0.01261483 -9.561525e-05 -0.005892884 -0.0156353\n",
       "2  0.719942934    1.5354318  1.07226060  8.127296e-03  0.500895105  1.3290007\n",
       "      X64432_at  X213964_x_at X218744_s_at  X207750_at   X214781_at\n",
       "1 -0.0007223353 -0.0003740052  -0.01237674 -0.01090476 -0.007118257\n",
       "2  0.0613985023  0.0317904431   1.05202280  0.92690458  0.605051847\n",
       "  X204456_s_at  X211351_at    X206480_at X210000_s_at  X220480_at    X210919_at\n",
       "1 -0.001922943 -0.02047822  0.0006782131  0.005778665 -0.01001501 -0.0002845852\n",
       "2  0.163450157  1.74064906 -0.0576481103 -0.491186522  0.85127575  0.0241897441\n",
       "  X204238_s_at  X215474_at   X214887_at X204737_s_at  X204390_at X206317_s_at\n",
       "1  -0.02346145 -0.05360637 -0.004057511  0.004428185 -0.01268187  -0.01282228\n",
       "2   1.99422310  4.55654110  0.344888477 -0.376395703  1.07795926   1.08989376\n",
       "  X206884_s_at X214590_s_at  X211017_s_at X218602_s_at X213042_s_at\n",
       "1   -0.0239487  -0.01708192  0.0008902212 -0.007991664  -0.02070377\n",
       "2    2.0356392   1.45196348 -0.0756687996  0.679291431   1.75982041\n",
       "  X211083_s_at X207723_s_at X205314_x_at  X220259_at X211102_s_at  X208133_at\n",
       "1 -0.005141865  0.006854081  0.003107089 -0.01361653  -0.01089048 -0.01571802\n",
       "2  0.437058495 -0.582596904 -0.264102556  1.15740485   0.92569103  1.33603195\n",
       "    X214346_at   X60815_at  X220426_at  X207768_at X210630_s_at X208480_s_at\n",
       "1 -0.003625719 -0.04001857 -0.01165445 -0.02567559  -0.01511381  -0.01169359\n",
       "2  0.308186116  3.40157851  0.99062823  2.18242526   1.28467376   0.99395533\n",
       "    X211556_at X220812_s_at  X210364_at   X220579_at    X217366_at  X215231_at\n",
       "1  0.001256722  -0.01277238 -0.02935396 -0.008752816 -0.0006409708 -0.01122937\n",
       "2 -0.106821361   1.08565270  2.49508682  0.743989399  0.0544825164  0.95449648\n",
       "  X212065_s_at   X214468_at   X214269_at   X208461_at  X220527_at  X217326_x_at\n",
       "1  -0.01404299 -0.005719594 -0.006793414 -0.009269075 -0.01249063 -0.0006048924\n",
       "2   1.19365409  0.486165495  0.577440207  0.787871356  1.06170395  0.0514158524\n",
       "  X210362_x_at X221231_s_at X203960_s_at X214406_s_at X204816_s_at X207918_s_at\n",
       "1  0.001439527  0.001943071   -0.0181459  -0.00321617  -0.01366616   -0.0183884\n",
       "2 -0.122359835 -0.165161017    1.5424017   0.27337447   1.16162382    1.5630139\n",
       "  X215294_s_at X206500_s_at X221417_x_at X221721_s_at  X214793_at X216940_x_at\n",
       "1  -0.01144047  -0.01845271 -0.006817276 -0.005883692 -0.01361462  -0.01755441\n",
       "2   0.97243975   1.56848041  0.579468433  0.500113851  1.15724282   1.49212498\n",
       "  X211146_at   X220809_at X213606_s_at   X210575_at X217475_s_at  X205309_at\n",
       "1 -0.0278871 -0.009403472  -0.01924064 -0.009106771  0.003619507 -0.01184505\n",
       "2  2.3704038  0.799295134   1.63545406  0.774075532 -0.307658124  1.00682887\n",
       "    X221576_at   X216588_at X209922_at X210206_s_at X208356_x_at X214890_s_at\n",
       "1 -0.005545008 -0.002808953 -0.0126939 -0.003846132  -0.01620054  -0.02462898\n",
       "2  0.471325678  0.238760991  1.0789814  0.326921229   1.37704569   2.09346324\n",
       "   X204936_at X214130_s_at X211363_s_at  X220247_at X204399_s_at X203942_s_at\n",
       "1 -0.01269896  -0.01461038  -0.01605469 -0.02316527 -0.007097127  -0.04089094\n",
       "2  1.07941198   1.24188261   1.36464850  1.96904792  0.603255766   3.47573006\n",
       "    X215937_at X204802_at X207166_at X202779_s_at X211833_s_at X205086_s_at\n",
       "1 -0.009761992  0.0112879 -0.0480296 -0.002237042   -0.0243983  -0.02551943\n",
       "2  0.829769339 -0.9594713  4.0825162  0.190148557    2.0738554   2.16915157\n",
       "  X206418_at X219759_at X210546_x_at X211788_s_at   X216346_at  X215324_at\n",
       "1 -0.0145457 -0.0437186 -0.004395634  -0.01959557 -0.005981768 -0.02042524\n",
       "2  1.2363841  3.7160807  0.373628900   1.66562316  0.508450319  1.73614530\n",
       "   X210121_at   X206205_at X217403_s_at X208010_s_at X211618_s_at X217006_x_at\n",
       "1 -0.01622432 -0.001833147   -0.0235016  0.001676479  0.001516877  -0.01199016\n",
       "2  1.37906716  0.155817527    1.9976361 -0.142500689 -0.128934529   1.01916398\n",
       "   X206517_at X209261_s_at   X215643_at X219663_s_at X213961_s_at X202083_s_at\n",
       "1 -0.01569814  -0.01277134 -0.003265715  -0.03071706  0.006423522  -0.07585155\n",
       "2  1.33434185   1.08556409  0.277585761   2.61095045 -0.545999353   6.44738177\n",
       "   X222255_at  X216829_at  X214487_s_at X206980_s_at X210350_x_at X219047_s_at\n",
       "1 -0.01027592 -0.02145762 -0.0003892146 -0.006913801  -0.00424946 -0.008252685\n",
       "2  0.87345321  1.82389795  0.0330832414  0.587673095   0.36120407  0.701478186\n",
       "    X214477_at X211829_s_at  X220254_at  X214977_at   X205224_at   X205177_at\n",
       "1 -0.004131313  -0.01107148 -0.01931702 -0.01385631  0.002845625 -0.002612985\n",
       "2  0.351161565   0.94107579  1.64194672  1.17778656 -0.241878167  0.222103728\n",
       "  X221968_s_at   X216136_at X206709_x_at X209769_s_at  X217125_at  X215666_at\n",
       "1  -0.01158946 -0.008076592  -0.01127261   -0.0284009 -0.01568884 -0.01809424\n",
       "2   0.98510373  0.686510350   0.95817143    2.4140769  1.33355106  1.53801035\n",
       "     X37079_at   X204886_at AFFX.r2.Bs.dap.5_at   X207852_at X215741_x_at\n",
       "1 -0.004792075 -0.008884588         -0.02859081  0.001240005  -0.01902248\n",
       "2  0.407326412  0.755189972          2.43021864 -0.105400448   1.61691046\n",
       "   X215457_at  X205045_at    X207437_at  X219608_s_at X217303_s_at X217238_s_at\n",
       "1 -0.01329381 -0.02230268 -0.0005730216  0.0002974615  -0.01156292 -0.003828924\n",
       "2  1.12997379  1.89572781  0.0487068362 -0.0252842304   0.98284836  0.325458536\n",
       "  X216768_x_at X214522_x_at   X222085_at   X220582_at X211517_s_at X213868_s_at\n",
       "1   0.00547783  -0.02217292 -0.008100851  0.002335544  -0.01030248  -0.01217058\n",
       "2  -0.46561554   1.88469826  0.688572319 -0.198521202   0.87571088   1.03449959\n",
       "  X220919_s_at X221920_s_at  X217069_at  X211187_at X213987_s_at X206832_s_at\n",
       "1  -0.02547704 -0.004778942 -0.03863111 -0.02115756  0.005108842  0.005024532\n",
       "2   2.16554822  0.406210079  3.28364429  1.79839284 -0.434251562 -0.427085256\n",
       "   X220004_at X207640_x_at X204961_s_at X202285_s_at  X208320_at   X222161_at\n",
       "1 -0.03368817  -0.01283711 -0.006879936 -0.003622487 -0.01492534  0.001295088\n",
       "2  2.86349463   1.09115439  0.584794556  0.307911403  1.26865419 -0.110082491\n",
       "  X217278_x_at X216926_s_at   X216314_at   X211642_at X213580_at  X204162_at\n",
       "1 -0.003206095   -0.0129978  0.004198786  0.001008962 -0.0225368 -0.01791652\n",
       "2  0.272518070    1.1048132 -0.356896814 -0.085761765  1.9156279  1.52290424\n",
       "     X32088_at X214165_s_at X204286_s_at X201083_s_at  X217452_s_at\n",
       "1 -0.006821983  -0.02493232 -0.000745751  0.004668002 -0.0001012874\n",
       "2  0.579868596   2.11924718  0.063388832 -0.396780163  0.0086094322\n",
       "     X205819_at X219003_s_at   X214712_at  X201452_at X220253_s_at  X216278_at\n",
       "1  0.0001995871 -0.006815599 -0.006020967 -0.03064171 -0.006529686 -0.01014198\n",
       "2 -0.0169648993  0.579325906  0.511782182  2.60454527  0.555023344  0.86206796\n",
       "    X207204_at  X215172_at  X215599_at  X216533_at X215300_s_at X218863_s_at\n",
       "1  0.002056337 -0.02169148 -0.03805805 -0.00363957  -0.03049372  -0.01375781\n",
       "2 -0.174788611  1.84377558  3.23493463  0.30936345   2.59196648   1.16941402\n",
       "  X204709_s_at  X218663_at   X214981_at   X216660_at X217101_at X218922_s_at\n",
       "1  0.003339042 -0.01327663  0.003043702  0.002271244 -0.0450903  -0.04091016\n",
       "2 -0.283818535  1.12851368 -0.258714664 -0.193055701  3.8326753   3.47736362\n",
       "  X203953_s_at  X221755_at X208278_s_at X207162_s_at  X206824_at X218840_s_at\n",
       "1  -0.01165439 -0.01114402  -0.04893256  -0.00400816 -0.02886035     36.94489\n",
       "2   0.99062326  0.94724156   4.15926755   0.34069360  2.45312970   1944.78000\n",
       "\n",
       "Clustering vector:\n",
       " [1] 1 1 1 1 1 1 1 1 1 1 1 1 1 1 1 1 1 1 1 1 1 1 1 1 1 1 1 1 1 1 1 1 1 1 1 1 1 1\n",
       "[39] 1 1 1 1 1 1 1 1 1 1 1 1 1 1 1 1 1 1 1 1 1 1 1 1 1 1 1 1 1 1 1 1 1 1 1 1 1 2\n",
       "[77] 1 1 1 1 1 1 1 1 1 1\n",
       "\n",
       "Within cluster sum of squares by cluster:\n",
       "[1] 65226.32     0.00\n",
       " (between_SS / total_SS =  98.2 %)\n",
       "\n",
       "Available components:\n",
       "\n",
       "[1] \"cluster\"      \"centers\"      \"totss\"        \"withinss\"     \"tot.withinss\"\n",
       "[6] \"betweenss\"    \"size\"         \"iter\"         \"ifault\"      "
      ]
     },
     "metadata": {},
     "output_type": "display_data"
    }
   ],
   "source": [
    "clusterKMeans"
   ]
  },
  {
   "cell_type": "markdown",
   "metadata": {},
   "source": [
    "Vemos que si intentamos hacer dos clusters con kmeans nos clasifica 85 muestras en un cluster y una en otro cluster."
   ]
  },
  {
   "cell_type": "code",
   "execution_count": 32,
   "metadata": {},
   "outputs": [
    {
     "name": "stdout",
     "output_type": "stream",
     "text": [
      "[1] \"La distancia inter clusters es: 3598372.9379779\"\n"
     ]
    }
   ],
   "source": [
    "print(paste(\"La distancia inter clusters es:\",clusterKMeans$betweenss))"
   ]
  },
  {
   "cell_type": "code",
   "execution_count": 33,
   "metadata": {},
   "outputs": [
    {
     "name": "stdout",
     "output_type": "stream",
     "text": [
      "[1] \"La distancia intra clusters es 65226.3188507603\"\n",
      "[2] \"La distancia intra clusters es 0\"               \n"
     ]
    }
   ],
   "source": [
    "print(paste(\"La distancia intra clusters es\",clusterKMeans$withinss))"
   ]
  },
  {
   "cell_type": "markdown",
   "metadata": {},
   "source": [
    "En la distancia de los elementos dentro de un cluster vemos que es 65226.3188507603 para el cluster de 85 elementos y 0 para el cluster de 1 elemento"
   ]
  },
  {
   "cell_type": "code",
   "execution_count": 34,
   "metadata": {},
   "outputs": [
    {
     "name": "stdout",
     "output_type": "stream",
     "text": [
      "[1] \"La medida de calidad de este cluster es: 0.982196109814908\"\n"
     ]
    }
   ],
   "source": [
    "print(paste(\"La medida de calidad de este cluster es:\",clusterKMeans$betweenss / clusterKMeans$totss))"
   ]
  },
  {
   "cell_type": "markdown",
   "metadata": {},
   "source": [
    "Tiene una buena medida de calidad, así que aparentemente el número de clusters óptimos es 2, vamos a hacer un barrido de k para ver los distintos valores de q"
   ]
  },
  {
   "cell_type": "code",
   "execution_count": 35,
   "metadata": {},
   "outputs": [
    {
     "data": {
      "image/png": "[encoded data removed]",
      "text/plain": [
       "plot without title"
      ]
     },
     "metadata": {},
     "output_type": "display_data"
    }
   ],
   "source": [
    "q<-c()\n",
    "for (k in 1:10){\n",
    "    myclust<-kmeans(genexp.cluster,k)\n",
    "    q[k]<-myclust$betweenss/myclust$totss\n",
    "}\n",
    "plot(q)"
   ]
  },
  {
   "cell_type": "markdown",
   "metadata": {},
   "source": [
    "Con el gráfico vemos que a partir del valor k=2 apenas mejora q, por lo que el número óptimo de clusters sería 2"
   ]
  },
  {
   "cell_type": "code",
   "execution_count": 36,
   "metadata": {},
   "outputs": [
    {
     "data": {
      "text/plain": [
       "        \n",
       "          1  2\n",
       "  Cancer  1 42\n",
       "  Normal  0 43"
      ]
     },
     "metadata": {},
     "output_type": "display_data"
    }
   ],
   "source": [
    "myclust <- kmeans(genexp[,2:482], 2)\n",
    "table(genexp$X, myclust$cluster)"
   ]
  },
  {
   "cell_type": "markdown",
   "metadata": {},
   "source": [
    "El cluster 1 identifica sólo las muestras con Cancer, aunque tampoco es que sea una maravilla porque sólo contiene una muestra."
   ]
  },
  {
   "cell_type": "code",
   "execution_count": 37,
   "metadata": {},
   "outputs": [
    {
     "data": {
      "text/plain": [
       "        \n",
       "          1  2  3\n",
       "  Cancer 23  1 19\n",
       "  Normal 20  0 23"
      ]
     },
     "metadata": {},
     "output_type": "display_data"
    }
   ],
   "source": [
    "myclust <- kmeans(genexp[,2:482], 3)\n",
    "table(genexp$X, myclust$cluster)"
   ]
  },
  {
   "cell_type": "markdown",
   "metadata": {},
   "source": [
    "Aquí seguimos igual que con k igual a dos"
   ]
  },
  {
   "cell_type": "code",
   "execution_count": 38,
   "metadata": {},
   "outputs": [
    {
     "data": {
      "text/plain": [
       "        \n",
       "          1  2  3  4\n",
       "  Cancer 18  1  1 23\n",
       "  Normal 23  0  0 20"
      ]
     },
     "metadata": {},
     "output_type": "display_data"
    }
   ],
   "source": [
    "myclust <- kmeans(genexp[,2:482], 4)\n",
    "table(genexp$X, myclust$cluster)"
   ]
  },
  {
   "cell_type": "markdown",
   "metadata": {},
   "source": [
    "Resultados parecidos al caso anterior"
   ]
  },
  {
   "cell_type": "code",
   "execution_count": 39,
   "metadata": {},
   "outputs": [
    {
     "data": {
      "image/png": "[encoded data removed]",
      "text/plain": [
       "plot without title"
      ]
     },
     "metadata": {},
     "output_type": "display_data"
    }
   ],
   "source": [
    "#Dendrograma\n",
    "d <- dist(as.matrix(genexp.cluster),method = \"euclidean\")\n",
    "hc <- hclust(d,method=\"complete\")\n",
    "hcd <- as.dendrogram(hc)\n",
    "plot(hcd)"
   ]
  },
  {
   "cell_type": "markdown",
   "metadata": {},
   "source": [
    "Parece que hay mucha distancia entre el clúster 1 y el resto. Intuyo que el cluster 1 es el de un elemento. Vamos a analizar distintos cortes en el dendrograma para ver si encontramos algún cluster interesante:"
   ]
  },
  {
   "cell_type": "code",
   "execution_count": 40,
   "metadata": {},
   "outputs": [
    {
     "data": {
      "text/plain": [
       "        \n",
       "          1  2\n",
       "  Cancer 42  1\n",
       "  Normal 43  0"
      ]
     },
     "metadata": {},
     "output_type": "display_data"
    }
   ],
   "source": [
    "table(genexp$X, cutree(hc,h=400))"
   ]
  },
  {
   "cell_type": "code",
   "execution_count": 41,
   "metadata": {},
   "outputs": [
    {
     "data": {
      "text/plain": [
       "        \n",
       "          1  2  3  4\n",
       "  Cancer 23 18  1  1\n",
       "  Normal 20 23  0  0"
      ]
     },
     "metadata": {},
     "output_type": "display_data"
    }
   ],
   "source": [
    "table(genexp$X, cutree(hc,h=80))"
   ]
  },
  {
   "cell_type": "markdown",
   "metadata": {},
   "source": [
    "Aquí vemos que los cluster 3 y 4 identifican a casos con cáncer, pero estamos como antes, solo una muestra en cada uno de ellos"
   ]
  },
  {
   "cell_type": "code",
   "execution_count": 42,
   "metadata": {},
   "outputs": [
    {
     "data": {
      "text/plain": [
       "        \n",
       "          1  2  3  4  5  6\n",
       "  Cancer 23  0 16  1  2  1\n",
       "  Normal 19  1 20  0  3  0"
      ]
     },
     "metadata": {},
     "output_type": "display_data"
    }
   ],
   "source": [
    "table(genexp$X, cutree(hc,h=50))"
   ]
  },
  {
   "cell_type": "markdown",
   "metadata": {},
   "source": [
    "No apreciamos muchos cambios con este último corte."
   ]
  },
  {
   "cell_type": "markdown",
   "metadata": {},
   "source": [
    "### Parte 3\n",
    "\n",
    "Realizar un PCA, quedarse con los dos valores más representativos. Pintarlo en una nube de puntos donde los tejidos normales tendrán un color y los tejidos con cancer otro.\n",
    "\n",
    "A partir de esta representación simplificada (con solo 2 valores más significativos) crear un modelo de regresión logística. Compara la curva ROC de este nuevo modelo con el de la *Parte 1*"
   ]
  },
  {
   "cell_type": "code",
   "execution_count": 43,
   "metadata": {},
   "outputs": [
    {
     "data": {
      "image/png": "[encoded data removed]",
      "text/plain": [
       "Plot with title “Autovalores”"
      ]
     },
     "metadata": {},
     "output_type": "display_data"
    }
   ],
   "source": [
    "diagnostico <- genexp$X\n",
    "genexp <- genexp[,2:482]\n",
    "prgenexp <- prcomp(genexp,center = TRUE, scale. = TRUE)\n",
    "plot(cumsum(prgenexp$sdev^2/sum(prgenexp$sdev^2)),main=\"Autovalores\")\n",
    "grid()"
   ]
  },
  {
   "cell_type": "markdown",
   "metadata": {},
   "source": [
    "Comprobamos que los 6 primeros autovalores contienen más del 70% de la varianza"
   ]
  },
  {
   "cell_type": "code",
   "execution_count": 44,
   "metadata": {},
   "outputs": [
    {
     "data": {
      "text/html": [
       "<table>\n",
       "<thead><tr><th scope=col>PC1</th><th scope=col>PC2</th></tr></thead>\n",
       "<tbody>\n",
       "\t<tr><td>-15.943631</td><td> 2.9012870</td></tr>\n",
       "\t<tr><td> -8.738585</td><td>-9.6768034</td></tr>\n",
       "\t<tr><td>-14.384371</td><td> 3.4423130</td></tr>\n",
       "\t<tr><td>-11.600260</td><td>-2.4953920</td></tr>\n",
       "\t<tr><td>-11.359176</td><td> 4.2280798</td></tr>\n",
       "\t<tr><td>-13.697708</td><td>-0.6846294</td></tr>\n",
       "</tbody>\n",
       "</table>\n"
      ],
      "text/latex": [
       "\\begin{tabular}{ll}\n",
       " PC1 & PC2\\\\\n",
       "\\hline\n",
       "\t -15.943631 &  2.9012870\\\\\n",
       "\t  -8.738585 & -9.6768034\\\\\n",
       "\t -14.384371 &  3.4423130\\\\\n",
       "\t -11.600260 & -2.4953920\\\\\n",
       "\t -11.359176 &  4.2280798\\\\\n",
       "\t -13.697708 & -0.6846294\\\\\n",
       "\\end{tabular}\n"
      ],
      "text/markdown": [
       "\n",
       "PC1 | PC2 | \n",
       "|---|---|---|---|---|---|\n",
       "| -15.943631 |  2.9012870 | \n",
       "|  -8.738585 | -9.6768034 | \n",
       "| -14.384371 |  3.4423130 | \n",
       "| -11.600260 | -2.4953920 | \n",
       "| -11.359176 |  4.2280798 | \n",
       "| -13.697708 | -0.6846294 | \n",
       "\n",
       "\n"
      ],
      "text/plain": [
       "     PC1        PC2       \n",
       "[1,] -15.943631  2.9012870\n",
       "[2,]  -8.738585 -9.6768034\n",
       "[3,] -14.384371  3.4423130\n",
       "[4,] -11.600260 -2.4953920\n",
       "[5,] -11.359176  4.2280798\n",
       "[6,] -13.697708 -0.6846294"
      ]
     },
     "metadata": {},
     "output_type": "display_data"
    }
   ],
   "source": [
    "#Nos quedamos con los dos valores más representativos\n",
    "head(prgenexp$x[,c(1:2)])"
   ]
  },
  {
   "cell_type": "code",
   "execution_count": 45,
   "metadata": {},
   "outputs": [],
   "source": [
    "pca_data <- as.data.frame(prgenexp$x[,1:2])\n",
    "pca_data$X <- diagnostico"
   ]
  },
  {
   "cell_type": "markdown",
   "metadata": {},
   "source": [
    "Pintamos la nube de puntos"
   ]
  },
  {
   "cell_type": "code",
   "execution_count": 46,
   "metadata": {},
   "outputs": [
    {
     "data": {
      "text/plain": [
       "        \n",
       "          1  2\n",
       "  Cancer 24 19\n",
       "  Normal 20 23"
      ]
     },
     "metadata": {},
     "output_type": "display_data"
    },
    {
     "data": {
      "image/png": "[encoded data removed]",
      "text/plain": [
       "plot without title"
      ]
     },
     "metadata": {},
     "output_type": "display_data"
    }
   ],
   "source": [
    "my_clust <- kmeans(prgenexp$x[,1:2],2)\n",
    "plot(pca_data$PC1,pca_data$PC2,col=my_clust$cluster)\n",
    "text(x=my_clust$centers[,1],y=my_clust$centers[,2], cex=1, labels=(1:nrow(my_clust$centers)), col=\"blue\")\n",
    "table(pca_data$X, my_clust$cluster)"
   ]
  },
  {
   "cell_type": "markdown",
   "metadata": {},
   "source": [
    "Realizamos el modelo de regresión logística con la representación simplificada de los dos valores"
   ]
  },
  {
   "cell_type": "code",
   "execution_count": 47,
   "metadata": {},
   "outputs": [
    {
     "data": {
      "text/plain": [
       "        \n",
       "y_factor Cancer Normal\n",
       "  Cancer     12      7\n",
       "  Normal      4      3"
      ]
     },
     "metadata": {},
     "output_type": "display_data"
    }
   ],
   "source": [
    "idx <- sample(1:nrow(pca_data),nrow(pca_data)*0.7)\n",
    "genexp.train <- pca_data[idx,]\n",
    "genexp.test <- pca_data[-idx,]\n",
    "\n",
    "model_genexp <- glm(data=genexp.train, formula=X~., family=binomial(link='logit'))\n",
    "\n",
    "y_predict <- predict(model_genexp,genexp.test)\n",
    "y_factor <- as.factor(ifelse(y_predict<0, \"Normal\", \"Cancer\"))\n",
    "\n",
    "table(y_factor, genexp.test$X)"
   ]
  },
  {
   "cell_type": "markdown",
   "metadata": {},
   "source": [
    "Los resultados son muy parecidos a los del modelo del punto 1"
   ]
  },
  {
   "cell_type": "markdown",
   "metadata": {},
   "source": [
    "**Curva ROC**"
   ]
  },
  {
   "cell_type": "code",
   "execution_count": 48,
   "metadata": {},
   "outputs": [],
   "source": [
    "dfROC<-data.frame(th=unique(y_predict),tp=NA,fp=NA)"
   ]
  },
  {
   "cell_type": "code",
   "execution_count": 49,
   "metadata": {},
   "outputs": [],
   "source": [
    "calctp_fp<-function(y_predict,y_real,th){\n",
    "    y_factor<-as.factor(ifelse(y_predict<th,\"Normal\",\"Cancer\"))    \n",
    "    M <- table(y_factor,genexp.test$X)\n",
    "    M\n",
    "    if (ncol(M)==2 && nrow(M)==2){\n",
    "        truePositive<-M[1,1]/(M[1,1]+M[2,1])\n",
    "        falsePositive<-M[1,2]/(M[1,2]+M[2,2])\n",
    "        c(tp=truePositive,fp=falsePositive)\n",
    "    }else{\n",
    "        c(tp=NA,fp=NA)\n",
    "    }\n",
    "}"
   ]
  },
  {
   "cell_type": "code",
   "execution_count": 50,
   "metadata": {},
   "outputs": [],
   "source": [
    "for (i in 1:nrow(dfROC)){\n",
    "    v<-calctp_fp(y_predict,genexp.test$X,dfROC$th[i])\n",
    "    dfROC$tp[i]<-v[\"tp\"]\n",
    "    dfROC$fp[i]<-v[\"fp\"]\n",
    "}"
   ]
  },
  {
   "cell_type": "code",
   "execution_count": 51,
   "metadata": {},
   "outputs": [],
   "source": [
    "dfROC<-dfROC[order(dfROC$fp),]"
   ]
  },
  {
   "cell_type": "code",
   "execution_count": 52,
   "metadata": {},
   "outputs": [
    {
     "data": {
      "text/html": [
       "<table>\n",
       "<thead><tr><th></th><th scope=col>th</th><th scope=col>tp</th><th scope=col>fp</th></tr></thead>\n",
       "<tbody>\n",
       "\t<tr><th scope=row>19</th><td> 0.844840011</td><td>0.1875      </td><td>0.1         </td></tr>\n",
       "\t<tr><th scope=row>21</th><td> 0.891251577</td><td>0.1250      </td><td>0.1         </td></tr>\n",
       "\t<tr><th scope=row>22</th><td> 0.958564108</td><td>0.0625      </td><td>0.1         </td></tr>\n",
       "\t<tr><th scope=row>23</th><td> 1.353795808</td><td>0.0000      </td><td>0.1         </td></tr>\n",
       "\t<tr><th scope=row>10</th><td> 0.565748838</td><td>0.3750      </td><td>0.2         </td></tr>\n",
       "\t<tr><th scope=row>18</th><td> 0.554065304</td><td>0.4375      </td><td>0.2         </td></tr>\n",
       "\t<tr><th scope=row>20</th><td> 0.679010040</td><td>0.3125      </td><td>0.2         </td></tr>\n",
       "\t<tr><th scope=row>25</th><td> 0.706586750</td><td>0.2500      </td><td>0.2         </td></tr>\n",
       "\t<tr><th scope=row>26</th><td> 0.806693804</td><td>0.1875      </td><td>0.2         </td></tr>\n",
       "\t<tr><th scope=row>17</th><td> 0.509732592</td><td>0.4375      </td><td>0.3         </td></tr>\n",
       "\t<tr><th scope=row>14</th><td> 0.489305447</td><td>0.4375      </td><td>0.4         </td></tr>\n",
       "\t<tr><th scope=row>12</th><td> 0.437565685</td><td>0.4375      </td><td>0.5         </td></tr>\n",
       "\t<tr><th scope=row>13</th><td> 0.099026940</td><td>0.6250      </td><td>0.6         </td></tr>\n",
       "\t<tr><th scope=row>15</th><td> 0.287486235</td><td>0.5000      </td><td>0.6         </td></tr>\n",
       "\t<tr><th scope=row>16</th><td> 0.251948315</td><td>0.5625      </td><td>0.6         </td></tr>\n",
       "\t<tr><th scope=row>24</th><td> 0.414500052</td><td>0.4375      </td><td>0.6         </td></tr>\n",
       "\t<tr><th scope=row>2</th><td> 0.013952463</td><td>0.6875      </td><td>0.7         </td></tr>\n",
       "\t<tr><th scope=row>6</th><td> 0.027573548</td><td>0.6250      </td><td>0.7         </td></tr>\n",
       "\t<tr><th scope=row>9</th><td> 0.003042822</td><td>0.7500      </td><td>0.7         </td></tr>\n",
       "\t<tr><th scope=row>1</th><td>-0.185709953</td><td>0.8125      </td><td>0.8         </td></tr>\n",
       "\t<tr><th scope=row>5</th><td>-0.093370846</td><td>0.7500      </td><td>0.8         </td></tr>\n",
       "\t<tr><th scope=row>7</th><td>-0.193357118</td><td>0.8125      </td><td>0.9         </td></tr>\n",
       "\t<tr><th scope=row>3</th><td>-0.235058601</td><td>0.8750      </td><td>1.0         </td></tr>\n",
       "\t<tr><th scope=row>4</th><td>-0.303730787</td><td>0.9375      </td><td>1.0         </td></tr>\n",
       "\t<tr><th scope=row>11</th><td>-0.194907063</td><td>0.8125      </td><td>1.0         </td></tr>\n",
       "\t<tr><th scope=row>8</th><td>-0.472135993</td><td>    NA      </td><td> NA         </td></tr>\n",
       "</tbody>\n",
       "</table>\n"
      ],
      "text/latex": [
       "\\begin{tabular}{r|lll}\n",
       "  & th & tp & fp\\\\\n",
       "\\hline\n",
       "\t19 &  0.844840011 & 0.1875       & 0.1         \\\\\n",
       "\t21 &  0.891251577 & 0.1250       & 0.1         \\\\\n",
       "\t22 &  0.958564108 & 0.0625       & 0.1         \\\\\n",
       "\t23 &  1.353795808 & 0.0000       & 0.1         \\\\\n",
       "\t10 &  0.565748838 & 0.3750       & 0.2         \\\\\n",
       "\t18 &  0.554065304 & 0.4375       & 0.2         \\\\\n",
       "\t20 &  0.679010040 & 0.3125       & 0.2         \\\\\n",
       "\t25 &  0.706586750 & 0.2500       & 0.2         \\\\\n",
       "\t26 &  0.806693804 & 0.1875       & 0.2         \\\\\n",
       "\t17 &  0.509732592 & 0.4375       & 0.3         \\\\\n",
       "\t14 &  0.489305447 & 0.4375       & 0.4         \\\\\n",
       "\t12 &  0.437565685 & 0.4375       & 0.5         \\\\\n",
       "\t13 &  0.099026940 & 0.6250       & 0.6         \\\\\n",
       "\t15 &  0.287486235 & 0.5000       & 0.6         \\\\\n",
       "\t16 &  0.251948315 & 0.5625       & 0.6         \\\\\n",
       "\t24 &  0.414500052 & 0.4375       & 0.6         \\\\\n",
       "\t2 &  0.013952463 & 0.6875       & 0.7         \\\\\n",
       "\t6 &  0.027573548 & 0.6250       & 0.7         \\\\\n",
       "\t9 &  0.003042822 & 0.7500       & 0.7         \\\\\n",
       "\t1 & -0.185709953 & 0.8125       & 0.8         \\\\\n",
       "\t5 & -0.093370846 & 0.7500       & 0.8         \\\\\n",
       "\t7 & -0.193357118 & 0.8125       & 0.9         \\\\\n",
       "\t3 & -0.235058601 & 0.8750       & 1.0         \\\\\n",
       "\t4 & -0.303730787 & 0.9375       & 1.0         \\\\\n",
       "\t11 & -0.194907063 & 0.8125       & 1.0         \\\\\n",
       "\t8 & -0.472135993 &     NA       &  NA         \\\\\n",
       "\\end{tabular}\n"
      ],
      "text/markdown": [
       "\n",
       "| <!--/--> | th | tp | fp | \n",
       "|---|---|---|---|---|---|---|---|---|---|---|---|---|---|---|---|---|---|---|---|---|---|---|---|---|---|\n",
       "| 19 |  0.844840011 | 0.1875       | 0.1          | \n",
       "| 21 |  0.891251577 | 0.1250       | 0.1          | \n",
       "| 22 |  0.958564108 | 0.0625       | 0.1          | \n",
       "| 23 |  1.353795808 | 0.0000       | 0.1          | \n",
       "| 10 |  0.565748838 | 0.3750       | 0.2          | \n",
       "| 18 |  0.554065304 | 0.4375       | 0.2          | \n",
       "| 20 |  0.679010040 | 0.3125       | 0.2          | \n",
       "| 25 |  0.706586750 | 0.2500       | 0.2          | \n",
       "| 26 |  0.806693804 | 0.1875       | 0.2          | \n",
       "| 17 |  0.509732592 | 0.4375       | 0.3          | \n",
       "| 14 |  0.489305447 | 0.4375       | 0.4          | \n",
       "| 12 |  0.437565685 | 0.4375       | 0.5          | \n",
       "| 13 |  0.099026940 | 0.6250       | 0.6          | \n",
       "| 15 |  0.287486235 | 0.5000       | 0.6          | \n",
       "| 16 |  0.251948315 | 0.5625       | 0.6          | \n",
       "| 24 |  0.414500052 | 0.4375       | 0.6          | \n",
       "| 2 |  0.013952463 | 0.6875       | 0.7          | \n",
       "| 6 |  0.027573548 | 0.6250       | 0.7          | \n",
       "| 9 |  0.003042822 | 0.7500       | 0.7          | \n",
       "| 1 | -0.185709953 | 0.8125       | 0.8          | \n",
       "| 5 | -0.093370846 | 0.7500       | 0.8          | \n",
       "| 7 | -0.193357118 | 0.8125       | 0.9          | \n",
       "| 3 | -0.235058601 | 0.8750       | 1.0          | \n",
       "| 4 | -0.303730787 | 0.9375       | 1.0          | \n",
       "| 11 | -0.194907063 | 0.8125       | 1.0          | \n",
       "| 8 | -0.472135993 |     NA       |  NA          | \n",
       "\n",
       "\n"
      ],
      "text/plain": [
       "   th           tp     fp \n",
       "19  0.844840011 0.1875 0.1\n",
       "21  0.891251577 0.1250 0.1\n",
       "22  0.958564108 0.0625 0.1\n",
       "23  1.353795808 0.0000 0.1\n",
       "10  0.565748838 0.3750 0.2\n",
       "18  0.554065304 0.4375 0.2\n",
       "20  0.679010040 0.3125 0.2\n",
       "25  0.706586750 0.2500 0.2\n",
       "26  0.806693804 0.1875 0.2\n",
       "17  0.509732592 0.4375 0.3\n",
       "14  0.489305447 0.4375 0.4\n",
       "12  0.437565685 0.4375 0.5\n",
       "13  0.099026940 0.6250 0.6\n",
       "15  0.287486235 0.5000 0.6\n",
       "16  0.251948315 0.5625 0.6\n",
       "24  0.414500052 0.4375 0.6\n",
       "2   0.013952463 0.6875 0.7\n",
       "6   0.027573548 0.6250 0.7\n",
       "9   0.003042822 0.7500 0.7\n",
       "1  -0.185709953 0.8125 0.8\n",
       "5  -0.093370846 0.7500 0.8\n",
       "7  -0.193357118 0.8125 0.9\n",
       "3  -0.235058601 0.8750 1.0\n",
       "4  -0.303730787 0.9375 1.0\n",
       "11 -0.194907063 0.8125 1.0\n",
       "8  -0.472135993     NA  NA"
      ]
     },
     "metadata": {},
     "output_type": "display_data"
    }
   ],
   "source": [
    "dfROC"
   ]
  },
  {
   "cell_type": "code",
   "execution_count": 53,
   "metadata": {},
   "outputs": [
    {
     "name": "stderr",
     "output_type": "stream",
     "text": [
      "Warning message:\n",
      "“Removed 1 rows containing missing values (geom_point).”"
     ]
    },
    {
     "data": {},
     "metadata": {},
     "output_type": "display_data"
    },
    {
     "data": {
      "image/png": "[encoded data removed]",
      "text/plain": [
       "plot without title"
      ]
     },
     "metadata": {},
     "output_type": "display_data"
    }
   ],
   "source": [
    "ggplot(data=dfROC,aes(x=fp,y=tp))+geom_point()+geom_abline(intercept = 0,slope = 1, color=\"blue\")+\n",
    "coord_cartesian(xlim = c(0, 0), ylim = c(0,0))+coord_flip()"
   ]
  },
  {
   "cell_type": "markdown",
   "metadata": {},
   "source": [
    "Obtenemos un modelo igual de malo que el del punto 1."
   ]
  },
  {
   "cell_type": "markdown",
   "metadata": {},
   "source": [
    "Vamos a intentar mejorar el modelo quedándonos con los 6 valores más representativos del PCA"
   ]
  },
  {
   "cell_type": "code",
   "execution_count": 54,
   "metadata": {},
   "outputs": [
    {
     "data": {
      "text/html": [
       "<table>\n",
       "<thead><tr><th scope=col>PC1</th><th scope=col>PC2</th><th scope=col>PC3</th><th scope=col>PC4</th><th scope=col>PC5</th><th scope=col>PC6</th></tr></thead>\n",
       "<tbody>\n",
       "\t<tr><td>-15.943631</td><td> 2.9012870</td><td> 0.2868669</td><td> 3.832983 </td><td> 2.2798519</td><td>-3.2840898</td></tr>\n",
       "\t<tr><td> -8.738585</td><td>-9.6768034</td><td>-2.7115256</td><td>-2.566479 </td><td> 1.7804117</td><td>-4.7557887</td></tr>\n",
       "\t<tr><td>-14.384371</td><td> 3.4423130</td><td> 3.3655697</td><td> 4.003213 </td><td> 1.7154886</td><td> 0.5119509</td></tr>\n",
       "\t<tr><td>-11.600260</td><td>-2.4953920</td><td>-4.5132688</td><td> 1.461536 </td><td> 0.2711851</td><td> 0.3416183</td></tr>\n",
       "\t<tr><td>-11.359176</td><td> 4.2280798</td><td> 1.3469536</td><td> 3.234683 </td><td>-2.2507377</td><td>-2.8333803</td></tr>\n",
       "\t<tr><td>-13.697708</td><td>-0.6846294</td><td>-4.7011825</td><td> 1.069922 </td><td>-2.3048301</td><td> 0.5939084</td></tr>\n",
       "</tbody>\n",
       "</table>\n"
      ],
      "text/latex": [
       "\\begin{tabular}{llllll}\n",
       " PC1 & PC2 & PC3 & PC4 & PC5 & PC6\\\\\n",
       "\\hline\n",
       "\t -15.943631 &  2.9012870 &  0.2868669 &  3.832983  &  2.2798519 & -3.2840898\\\\\n",
       "\t  -8.738585 & -9.6768034 & -2.7115256 & -2.566479  &  1.7804117 & -4.7557887\\\\\n",
       "\t -14.384371 &  3.4423130 &  3.3655697 &  4.003213  &  1.7154886 &  0.5119509\\\\\n",
       "\t -11.600260 & -2.4953920 & -4.5132688 &  1.461536  &  0.2711851 &  0.3416183\\\\\n",
       "\t -11.359176 &  4.2280798 &  1.3469536 &  3.234683  & -2.2507377 & -2.8333803\\\\\n",
       "\t -13.697708 & -0.6846294 & -4.7011825 &  1.069922  & -2.3048301 &  0.5939084\\\\\n",
       "\\end{tabular}\n"
      ],
      "text/markdown": [
       "\n",
       "PC1 | PC2 | PC3 | PC4 | PC5 | PC6 | \n",
       "|---|---|---|---|---|---|\n",
       "| -15.943631 |  2.9012870 |  0.2868669 |  3.832983  |  2.2798519 | -3.2840898 | \n",
       "|  -8.738585 | -9.6768034 | -2.7115256 | -2.566479  |  1.7804117 | -4.7557887 | \n",
       "| -14.384371 |  3.4423130 |  3.3655697 |  4.003213  |  1.7154886 |  0.5119509 | \n",
       "| -11.600260 | -2.4953920 | -4.5132688 |  1.461536  |  0.2711851 |  0.3416183 | \n",
       "| -11.359176 |  4.2280798 |  1.3469536 |  3.234683  | -2.2507377 | -2.8333803 | \n",
       "| -13.697708 | -0.6846294 | -4.7011825 |  1.069922  | -2.3048301 |  0.5939084 | \n",
       "\n",
       "\n"
      ],
      "text/plain": [
       "     PC1        PC2        PC3        PC4       PC5        PC6       \n",
       "[1,] -15.943631  2.9012870  0.2868669  3.832983  2.2798519 -3.2840898\n",
       "[2,]  -8.738585 -9.6768034 -2.7115256 -2.566479  1.7804117 -4.7557887\n",
       "[3,] -14.384371  3.4423130  3.3655697  4.003213  1.7154886  0.5119509\n",
       "[4,] -11.600260 -2.4953920 -4.5132688  1.461536  0.2711851  0.3416183\n",
       "[5,] -11.359176  4.2280798  1.3469536  3.234683 -2.2507377 -2.8333803\n",
       "[6,] -13.697708 -0.6846294 -4.7011825  1.069922 -2.3048301  0.5939084"
      ]
     },
     "metadata": {},
     "output_type": "display_data"
    }
   ],
   "source": [
    "head(prgenexp$x[,c(1:6)])"
   ]
  },
  {
   "cell_type": "code",
   "execution_count": 55,
   "metadata": {},
   "outputs": [],
   "source": [
    "pca_data <- as.data.frame(prgenexp$x[,1:6])\n",
    "pca_data$X <- diagnostico"
   ]
  },
  {
   "cell_type": "code",
   "execution_count": 56,
   "metadata": {},
   "outputs": [
    {
     "name": "stderr",
     "output_type": "stream",
     "text": [
      "Warning message:\n",
      "“glm.fit: fitted probabilities numerically 0 or 1 occurred”"
     ]
    },
    {
     "data": {
      "text/plain": [
       "        \n",
       "y_factor Cancer Normal\n",
       "  Cancer      0     14\n",
       "  Normal      8      4"
      ]
     },
     "metadata": {},
     "output_type": "display_data"
    }
   ],
   "source": [
    "idx <- sample(1:nrow(pca_data),nrow(pca_data)*0.7)\n",
    "genexp.train <- pca_data[idx,]\n",
    "genexp.test <- pca_data[-idx,]\n",
    "\n",
    "model_genexp <- glm(data=genexp.train, formula=X~., family=binomial(link='logit'))\n",
    "\n",
    "y_predict <- predict(model_genexp,genexp.test)\n",
    "y_factor <- as.factor(ifelse(y_predict<0, \"Normal\", \"Cancer\"))\n",
    "\n",
    "table(y_factor, genexp.test$X)"
   ]
  },
  {
   "cell_type": "code",
   "execution_count": 57,
   "metadata": {},
   "outputs": [],
   "source": [
    "dfROC<-data.frame(th=unique(y_predict),tp=NA,fp=NA)"
   ]
  },
  {
   "cell_type": "code",
   "execution_count": 58,
   "metadata": {},
   "outputs": [],
   "source": [
    "calctp_fp<-function(y_predict,y_real,th){\n",
    "    y_factor<-as.factor(ifelse(y_predict<th,\"Normal\",\"Cancer\"))    \n",
    "    M <- table(y_factor,genexp.test$X)\n",
    "    M\n",
    "    if (ncol(M)==2 && nrow(M)==2){\n",
    "        truePositive<-M[1,1]/(M[1,1]+M[2,1])\n",
    "        falsePositive<-M[1,2]/(M[1,2]+M[2,2])\n",
    "        c(tp=truePositive,fp=falsePositive)\n",
    "    }else{\n",
    "        c(tp=NA,fp=NA)\n",
    "    }\n",
    "}"
   ]
  },
  {
   "cell_type": "code",
   "execution_count": 59,
   "metadata": {},
   "outputs": [],
   "source": [
    "for (i in 1:nrow(dfROC)){\n",
    "    v<-calctp_fp(y_predict,genexp.test$X,dfROC$th[i])\n",
    "    dfROC$tp[i]<-v[\"tp\"]\n",
    "    dfROC$fp[i]<-v[\"fp\"]\n",
    "}"
   ]
  },
  {
   "cell_type": "code",
   "execution_count": 60,
   "metadata": {},
   "outputs": [],
   "source": [
    "dfROC<-dfROC[order(dfROC$fp),]"
   ]
  },
  {
   "cell_type": "code",
   "execution_count": 61,
   "metadata": {},
   "outputs": [
    {
     "name": "stderr",
     "output_type": "stream",
     "text": [
      "Warning message:\n",
      "“Removed 1 rows containing missing values (geom_point).”"
     ]
    },
    {
     "data": {},
     "metadata": {},
     "output_type": "display_data"
    },
    {
     "data": {
      "image/png": "[encoded data removed]",
      "text/plain": [
       "plot without title"
      ]
     },
     "metadata": {},
     "output_type": "display_data"
    }
   ],
   "source": [
    "ggplot(data=dfROC,aes(x=fp,y=tp))+geom_point()+geom_abline(intercept = 0,slope = 1, color=\"blue\")+\n",
    "coord_cartesian(xlim = c(0, 0), ylim = c(0,0))+coord_flip()"
   ]
  },
  {
   "cell_type": "markdown",
   "metadata": {},
   "source": [
    "Hemos conseguido mejorar mucho el modelo quedándonos con los 6 valores más representativos del PCA"
   ]
  }
 ],
 "metadata": {
  "kernelspec": {
   "display_name": "R",
   "language": "R",
   "name": "ir"
  },
  "language_info": {
   "codemirror_mode": "r",
   "file_extension": ".r",
   "mimetype": "text/x-r-source",
   "name": "R",
   "pygments_lexer": "r",
   "version": "3.2.3"
  }
 },
 "nbformat": 4,
 "nbformat_minor": 2
}
